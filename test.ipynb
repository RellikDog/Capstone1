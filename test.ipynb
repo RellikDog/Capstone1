{
 "nbformat": 4,
 "nbformat_minor": 2,
 "metadata": {
  "language_info": {
   "name": "python",
   "codemirror_mode": {
    "name": "ipython",
    "version": 3
   },
   "version": "3.7.4-final"
  },
  "orig_nbformat": 2,
  "file_extension": ".py",
  "mimetype": "text/x-python",
  "name": "python",
  "npconvert_exporter": "python",
  "pygments_lexer": "ipython3",
  "version": 3,
  "kernelspec": {
   "name": "python3",
   "display_name": "Python 3"
  }
 },
 "cells": [
  {
   "cell_type": "markdown",
   "metadata": {},
   "source": [
    "# Module Import Cell"
   ]
  },
  {
   "cell_type": "code",
   "execution_count": 1,
   "metadata": {},
   "outputs": [],
   "source": [
    "%matplotlib inline\n",
    "import matplotlib\n",
    "import numpy as np \n",
    "import matplotlib.pyplot as plt \n",
    "import pandas as pd\n",
    "plt.style.use('ggplot') "
   ]
  },
  {
   "cell_type": "markdown",
   "metadata": {},
   "source": [
    "## Data Import Cell"
   ]
  },
  {
   "cell_type": "code",
   "execution_count": 2,
   "metadata": {},
   "outputs": [],
   "source": [
    "#Available population density by state and year meassured in persons per square mile\n",
    "pop_df = pd.read_csv('data/Historical_Population_Density_States_only_RAND_US_1.csv')\n",
    "#---------------------------------------------------------------------------------------\n",
    "#Available firearm background check data\n",
    "nics_df = pd.read_csv('data/nics-firearm-background-checks.csv')"
   ]
  },
  {
   "cell_type": "code",
   "execution_count": 3,
   "metadata": {},
   "outputs": [],
   "source": [
    "#Change month to y-m for year by month\n",
    "nics_df = nics_df.rename(columns={'month': 'y&m'})\n",
    "#Add year column to group by\n",
    "nics_df['year'] = list(map(lambda x: x.split('-')[0], nics_df['y&m']))\n",
    "#Defining columns to combine\n",
    "handgun_list = ['handgun', 'prepawn_handgun', 'redemption_handgun', 'returned_handgun', 'rentals_handgun', 'private_sale_handgun', 'return_to_seller_handgun']\n",
    "long_gun_list = ['long_gun', 'prepawn_long_gun', 'redemption_long_gun', 'returned_long_gun', 'rentals_long_gun', 'private_sale_long_gun', 'return_to_seller_long_gun']\n",
    "#Create combined columns\n",
    "nics_df['total_handgun'] = nics_df[handgun_list].sum(axis=1)\n",
    "nics_df['total_long_gun'] = nics_df[long_gun_list].sum(axis=1)\n",
    "#Group by year then state\n",
    "year_state_group = nics_df.groupby(('year', 'state')).sum()\n",
    "#Collect the columns we want and reset index\n",
    "clean_nics_df = year_state_group[['total_handgun', 'total_long_gun']]\n",
    "clean_nics_df = clean_nics_df.reset_index()\n",
    "#Remove any year not between 1999 and 2018 and assign to my_nics_df\n",
    "clean_nics_df['year'] = pd.to_numeric(clean_nics_df['year'])\n",
    "my_nics_df = clean_nics_df.loc[(clean_nics_df['year'] < 2019) & (clean_nics_df['year'] > 1998)] \n",
    "#Test: Expect 1100 rows (50 states + DC, Guam, Puerto Rico, Mariana Islands, and Virgin Islands X 20 years) and 4 columns\n",
    "#my_nics_df.head()"
   ]
  },
  {
   "cell_type": "code",
   "execution_count": 4,
   "metadata": {},
   "outputs": [],
   "source": [
    "#Droping NA Values\n",
    "cleaner_pop_df = pop_df.dropna(axis=1)\n",
    "#Keeping area and years from 1999 - 2018\n",
    "cleaner_pop_df = cleaner_pop_df.loc[:, ['Area'] + list(map(str, range(1999, 2019)))]\n",
    "#Rename 'Area' column to be more descriptive\n",
    "my_pop_df = cleaner_pop_df.rename(columns={'Area': 'State'})\n",
    "my_pop_df = my_pop_df[my_pop_df['State'] != 'United States']\n",
    "#test: expect 52 rows(50 states, DC, and US), 21 columns(State name + data from 1999 - 2018)\n",
    "#my_pop_df\n",
    "#my_pop_df.shape"
   ]
  },
  {
   "cell_type": "code",
   "execution_count": 5,
   "metadata": {},
   "outputs": [],
   "source": [
    "# new_my_pop_df = my_pop_df.loc[:, ['State', '2018']]\n",
    "# #new_my_pop_df = new_my_pop_df[new_my_pop_df['State'] != 'United States']\n",
    "# my_2018_pop_df = new_my_pop_df"
   ]
  },
  {
   "cell_type": "code",
   "execution_count": 6,
   "metadata": {},
   "outputs": [],
   "source": [
    "# nics_2018_df = my_nics_df[my_nics_df['year'] == 2018]\n",
    "# rows_to_drop = ['Guam', 'Mariana Islands', 'Puerto Rico', 'Virgin Islands']\n",
    "# for row in rows_to_drop:\n",
    "#     nics_2018_df = nics_2018_df[nics_2018_df['state'] != row]\n",
    "# nics_2018_df.shape"
   ]
  },
  {
   "cell_type": "code",
   "execution_count": 7,
   "metadata": {},
   "outputs": [],
   "source": [
    "# temp = np.array(my_2018_pop_df['2018'])\n",
    "# nics_2018_df['pop_density'] = temp\n",
    "# nics_2018_df['handgun/long_gun'] = nics_2018_df['total_handgun'] / nics_2018_df['total_long_gun']\n",
    "# #nics_2018_df\n",
    "\n",
    "# pop_sorted_nics_2018_df = nics_2018_df.sort_values('pop_density')\n",
    "# #pop_sorted_nics_2018_df"
   ]
  },
  {
   "cell_type": "code",
   "execution_count": 8,
   "metadata": {},
   "outputs": [
    {
     "output_type": "execute_result",
     "data": {
      "text/plain": "    year       state  total_handgun  total_long_gun\n55  1999     Alabama        94544.0        149017.0\n56  1999      Alaska        14339.0         27790.0\n57  1999     Arizona        78103.0         71365.0\n58  1999    Arkansas        50523.0        126875.0\n59  1999  California       371893.0        410119.0",
      "text/html": "<div>\n<style scoped>\n    .dataframe tbody tr th:only-of-type {\n        vertical-align: middle;\n    }\n\n    .dataframe tbody tr th {\n        vertical-align: top;\n    }\n\n    .dataframe thead th {\n        text-align: right;\n    }\n</style>\n<table border=\"1\" class=\"dataframe\">\n  <thead>\n    <tr style=\"text-align: right;\">\n      <th></th>\n      <th>year</th>\n      <th>state</th>\n      <th>total_handgun</th>\n      <th>total_long_gun</th>\n    </tr>\n  </thead>\n  <tbody>\n    <tr>\n      <td>55</td>\n      <td>1999</td>\n      <td>Alabama</td>\n      <td>94544.0</td>\n      <td>149017.0</td>\n    </tr>\n    <tr>\n      <td>56</td>\n      <td>1999</td>\n      <td>Alaska</td>\n      <td>14339.0</td>\n      <td>27790.0</td>\n    </tr>\n    <tr>\n      <td>57</td>\n      <td>1999</td>\n      <td>Arizona</td>\n      <td>78103.0</td>\n      <td>71365.0</td>\n    </tr>\n    <tr>\n      <td>58</td>\n      <td>1999</td>\n      <td>Arkansas</td>\n      <td>50523.0</td>\n      <td>126875.0</td>\n    </tr>\n    <tr>\n      <td>59</td>\n      <td>1999</td>\n      <td>California</td>\n      <td>371893.0</td>\n      <td>410119.0</td>\n    </tr>\n  </tbody>\n</table>\n</div>"
     },
     "metadata": {},
     "execution_count": 8
    }
   ],
   "source": [
    "my_nics_df.head()"
   ]
  },
  {
   "cell_type": "code",
   "execution_count": 9,
   "metadata": {},
   "outputs": [
    {
     "output_type": "execute_result",
     "data": {
      "text/plain": "      year          state  total_handgun  total_long_gun\n1150  2018       Virginia       254216.0        168947.0\n1151  2018     Washington       233901.0        170797.0\n1152  2018  West Virginia        88740.0         91200.0\n1153  2018      Wisconsin       158189.0        149239.0\n1154  2018        Wyoming        23556.0         27399.0",
      "text/html": "<div>\n<style scoped>\n    .dataframe tbody tr th:only-of-type {\n        vertical-align: middle;\n    }\n\n    .dataframe tbody tr th {\n        vertical-align: top;\n    }\n\n    .dataframe thead th {\n        text-align: right;\n    }\n</style>\n<table border=\"1\" class=\"dataframe\">\n  <thead>\n    <tr style=\"text-align: right;\">\n      <th></th>\n      <th>year</th>\n      <th>state</th>\n      <th>total_handgun</th>\n      <th>total_long_gun</th>\n    </tr>\n  </thead>\n  <tbody>\n    <tr>\n      <td>1150</td>\n      <td>2018</td>\n      <td>Virginia</td>\n      <td>254216.0</td>\n      <td>168947.0</td>\n    </tr>\n    <tr>\n      <td>1151</td>\n      <td>2018</td>\n      <td>Washington</td>\n      <td>233901.0</td>\n      <td>170797.0</td>\n    </tr>\n    <tr>\n      <td>1152</td>\n      <td>2018</td>\n      <td>West Virginia</td>\n      <td>88740.0</td>\n      <td>91200.0</td>\n    </tr>\n    <tr>\n      <td>1153</td>\n      <td>2018</td>\n      <td>Wisconsin</td>\n      <td>158189.0</td>\n      <td>149239.0</td>\n    </tr>\n    <tr>\n      <td>1154</td>\n      <td>2018</td>\n      <td>Wyoming</td>\n      <td>23556.0</td>\n      <td>27399.0</td>\n    </tr>\n  </tbody>\n</table>\n</div>"
     },
     "metadata": {},
     "execution_count": 9
    }
   ],
   "source": [
    "my_nics_df.tail()"
   ]
  },
  {
   "cell_type": "code",
   "execution_count": 19,
   "metadata": {},
   "outputs": [
    {
     "output_type": "execute_result",
     "data": {
      "text/plain": "(1020, 4)"
     },
     "metadata": {},
     "execution_count": 19
    }
   ],
   "source": [
    "my_nics_df.shape"
   ]
  },
  {
   "cell_type": "code",
   "execution_count": 12,
   "metadata": {},
   "outputs": [
    {
     "output_type": "execute_result",
     "data": {
      "text/plain": "        State       1999       2000       2001       2002       2003  \\\n0     Alabama   86.11584   87.73153   87.97166   88.13692   88.49501   \n1      Alaska    1.08313    1.09712    1.10729    1.12368    1.13801   \n2     Arizona   42.04999   45.46765   46.67961   47.97931   49.20339   \n3    Arkansas   49.00063   51.43811   51.68355   51.94598   52.28321   \n4  California  212.52412  217.97073  221.11932  223.62363  226.02755   \n\n        2004       2005       2006       2007  ...       2009       2010  \\\n0   88.92066   89.56821   90.60555   91.39808  ...   92.79339   94.30569   \n1    1.15669    1.17053    1.18424    1.19293  ...    1.22121    1.24819   \n2   50.68374   52.57937   54.49134   55.98860  ...   58.04376   56.38909   \n3   52.74165   53.31897   54.06560   54.58602  ...   55.49360   56.11850   \n4  227.99801  229.51658  230.69608  232.27927  ...  236.99551  239.29945   \n\n        2011       2012       2013       2014       2015       2016  \\\n0   94.56949   94.89918   95.19273   95.42963   95.64008   95.86838   \n1    1.26241    1.27703    1.28865    1.28736    1.28953    1.29645   \n2   56.96746   57.69903   58.38869   59.25850   60.13637   61.12071   \n3   56.47244   56.69718   56.84007   56.99712   57.20225   57.43278   \n4  241.35717  243.40232  245.45441  247.66214  249.76527  251.40663   \n\n        2017       2018  \n0   96.07284   96.32412  \n1    1.29344    1.28934  \n2   62.03085   63.11124  \n3   57.67452   57.88248  \n4  252.62632  253.63746  \n\n[5 rows x 21 columns]",
      "text/html": "<div>\n<style scoped>\n    .dataframe tbody tr th:only-of-type {\n        vertical-align: middle;\n    }\n\n    .dataframe tbody tr th {\n        vertical-align: top;\n    }\n\n    .dataframe thead th {\n        text-align: right;\n    }\n</style>\n<table border=\"1\" class=\"dataframe\">\n  <thead>\n    <tr style=\"text-align: right;\">\n      <th></th>\n      <th>State</th>\n      <th>1999</th>\n      <th>2000</th>\n      <th>2001</th>\n      <th>2002</th>\n      <th>2003</th>\n      <th>2004</th>\n      <th>2005</th>\n      <th>2006</th>\n      <th>2007</th>\n      <th>...</th>\n      <th>2009</th>\n      <th>2010</th>\n      <th>2011</th>\n      <th>2012</th>\n      <th>2013</th>\n      <th>2014</th>\n      <th>2015</th>\n      <th>2016</th>\n      <th>2017</th>\n      <th>2018</th>\n    </tr>\n  </thead>\n  <tbody>\n    <tr>\n      <td>0</td>\n      <td>Alabama</td>\n      <td>86.11584</td>\n      <td>87.73153</td>\n      <td>87.97166</td>\n      <td>88.13692</td>\n      <td>88.49501</td>\n      <td>88.92066</td>\n      <td>89.56821</td>\n      <td>90.60555</td>\n      <td>91.39808</td>\n      <td>...</td>\n      <td>92.79339</td>\n      <td>94.30569</td>\n      <td>94.56949</td>\n      <td>94.89918</td>\n      <td>95.19273</td>\n      <td>95.42963</td>\n      <td>95.64008</td>\n      <td>95.86838</td>\n      <td>96.07284</td>\n      <td>96.32412</td>\n    </tr>\n    <tr>\n      <td>1</td>\n      <td>Alaska</td>\n      <td>1.08313</td>\n      <td>1.09712</td>\n      <td>1.10729</td>\n      <td>1.12368</td>\n      <td>1.13801</td>\n      <td>1.15669</td>\n      <td>1.17053</td>\n      <td>1.18424</td>\n      <td>1.19293</td>\n      <td>...</td>\n      <td>1.22121</td>\n      <td>1.24819</td>\n      <td>1.26241</td>\n      <td>1.27703</td>\n      <td>1.28865</td>\n      <td>1.28736</td>\n      <td>1.28953</td>\n      <td>1.29645</td>\n      <td>1.29344</td>\n      <td>1.28934</td>\n    </tr>\n    <tr>\n      <td>2</td>\n      <td>Arizona</td>\n      <td>42.04999</td>\n      <td>45.46765</td>\n      <td>46.67961</td>\n      <td>47.97931</td>\n      <td>49.20339</td>\n      <td>50.68374</td>\n      <td>52.57937</td>\n      <td>54.49134</td>\n      <td>55.98860</td>\n      <td>...</td>\n      <td>58.04376</td>\n      <td>56.38909</td>\n      <td>56.96746</td>\n      <td>57.69903</td>\n      <td>58.38869</td>\n      <td>59.25850</td>\n      <td>60.13637</td>\n      <td>61.12071</td>\n      <td>62.03085</td>\n      <td>63.11124</td>\n    </tr>\n    <tr>\n      <td>3</td>\n      <td>Arkansas</td>\n      <td>49.00063</td>\n      <td>51.43811</td>\n      <td>51.68355</td>\n      <td>51.94598</td>\n      <td>52.28321</td>\n      <td>52.74165</td>\n      <td>53.31897</td>\n      <td>54.06560</td>\n      <td>54.58602</td>\n      <td>...</td>\n      <td>55.49360</td>\n      <td>56.11850</td>\n      <td>56.47244</td>\n      <td>56.69718</td>\n      <td>56.84007</td>\n      <td>56.99712</td>\n      <td>57.20225</td>\n      <td>57.43278</td>\n      <td>57.67452</td>\n      <td>57.88248</td>\n    </tr>\n    <tr>\n      <td>4</td>\n      <td>California</td>\n      <td>212.52412</td>\n      <td>217.97073</td>\n      <td>221.11932</td>\n      <td>223.62363</td>\n      <td>226.02755</td>\n      <td>227.99801</td>\n      <td>229.51658</td>\n      <td>230.69608</td>\n      <td>232.27927</td>\n      <td>...</td>\n      <td>236.99551</td>\n      <td>239.29945</td>\n      <td>241.35717</td>\n      <td>243.40232</td>\n      <td>245.45441</td>\n      <td>247.66214</td>\n      <td>249.76527</td>\n      <td>251.40663</td>\n      <td>252.62632</td>\n      <td>253.63746</td>\n    </tr>\n  </tbody>\n</table>\n<p>5 rows × 21 columns</p>\n</div>"
     },
     "metadata": {},
     "execution_count": 12
    }
   ],
   "source": [
    "my_pop_df.head()"
   ]
  },
  {
   "cell_type": "code",
   "execution_count": 13,
   "metadata": {},
   "outputs": [
    {
     "output_type": "execute_result",
     "data": {
      "text/plain": "            State       1999       2000       2001       2002       2003  \\\n47       Virginia  173.58438  179.43427  181.62578  183.95535  186.23228   \n48     Washington   86.50451   88.83020   89.98226   91.01018   91.86788   \n49  West Virginia   75.04561   75.04702   74.69899   74.73342   74.85083   \n50      Wisconsin   96.67531   98.95496   99.59048  100.29011  100.84305   \n51        Wyoming    4.93924    5.08709    5.07703    5.11912    5.14096   \n\n         2004       2005       2006       2007  ...       2009       2010  \\\n47  188.63719  191.03585  193.13488  194.97235  ...  199.08512  202.64889   \n48   92.93525   94.09228   95.75976   97.15336  ...  100.14711  101.32998   \n49   74.89502   74.92068   75.05845   75.22295  ...   75.57926   77.00864   \n50  101.47993  102.03338  102.59013  103.14050  ...  104.12012  104.77774   \n51    5.18008    5.21359    5.28155    5.39044  ...    5.60523    5.81342   \n\n         2011       2012       2013       2014       2015       2016  \\\n47  204.58830  206.72902  208.44201  209.93272  211.21652  212.42981   \n48  102.51345  103.58373  104.63612  105.98159  107.65122  109.62190   \n49   77.08589   77.11454   76.99448   76.81149   76.50120   76.04157   \n50  105.04060  105.31863  105.63344  105.91003  106.08370  106.29641   \n51    5.84165    5.93481    5.99509    5.99946    6.03160    6.01740   \n\n         2017       2018  \n47  213.80025  215.12565  \n48  111.58680  113.24223  \n49   75.46507   74.99925  \n50  106.64797  107.04415  \n51    5.96225    5.94992  \n\n[5 rows x 21 columns]",
      "text/html": "<div>\n<style scoped>\n    .dataframe tbody tr th:only-of-type {\n        vertical-align: middle;\n    }\n\n    .dataframe tbody tr th {\n        vertical-align: top;\n    }\n\n    .dataframe thead th {\n        text-align: right;\n    }\n</style>\n<table border=\"1\" class=\"dataframe\">\n  <thead>\n    <tr style=\"text-align: right;\">\n      <th></th>\n      <th>State</th>\n      <th>1999</th>\n      <th>2000</th>\n      <th>2001</th>\n      <th>2002</th>\n      <th>2003</th>\n      <th>2004</th>\n      <th>2005</th>\n      <th>2006</th>\n      <th>2007</th>\n      <th>...</th>\n      <th>2009</th>\n      <th>2010</th>\n      <th>2011</th>\n      <th>2012</th>\n      <th>2013</th>\n      <th>2014</th>\n      <th>2015</th>\n      <th>2016</th>\n      <th>2017</th>\n      <th>2018</th>\n    </tr>\n  </thead>\n  <tbody>\n    <tr>\n      <td>47</td>\n      <td>Virginia</td>\n      <td>173.58438</td>\n      <td>179.43427</td>\n      <td>181.62578</td>\n      <td>183.95535</td>\n      <td>186.23228</td>\n      <td>188.63719</td>\n      <td>191.03585</td>\n      <td>193.13488</td>\n      <td>194.97235</td>\n      <td>...</td>\n      <td>199.08512</td>\n      <td>202.64889</td>\n      <td>204.58830</td>\n      <td>206.72902</td>\n      <td>208.44201</td>\n      <td>209.93272</td>\n      <td>211.21652</td>\n      <td>212.42981</td>\n      <td>213.80025</td>\n      <td>215.12565</td>\n    </tr>\n    <tr>\n      <td>48</td>\n      <td>Washington</td>\n      <td>86.50451</td>\n      <td>88.83020</td>\n      <td>89.98226</td>\n      <td>91.01018</td>\n      <td>91.86788</td>\n      <td>92.93525</td>\n      <td>94.09228</td>\n      <td>95.75976</td>\n      <td>97.15336</td>\n      <td>...</td>\n      <td>100.14711</td>\n      <td>101.32998</td>\n      <td>102.51345</td>\n      <td>103.58373</td>\n      <td>104.63612</td>\n      <td>105.98159</td>\n      <td>107.65122</td>\n      <td>109.62190</td>\n      <td>111.58680</td>\n      <td>113.24223</td>\n    </tr>\n    <tr>\n      <td>49</td>\n      <td>West Virginia</td>\n      <td>75.04561</td>\n      <td>75.04702</td>\n      <td>74.69899</td>\n      <td>74.73342</td>\n      <td>74.85083</td>\n      <td>74.89502</td>\n      <td>74.92068</td>\n      <td>75.05845</td>\n      <td>75.22295</td>\n      <td>...</td>\n      <td>75.57926</td>\n      <td>77.00864</td>\n      <td>77.08589</td>\n      <td>77.11454</td>\n      <td>76.99448</td>\n      <td>76.81149</td>\n      <td>76.50120</td>\n      <td>76.04157</td>\n      <td>75.46507</td>\n      <td>74.99925</td>\n    </tr>\n    <tr>\n      <td>50</td>\n      <td>Wisconsin</td>\n      <td>96.67531</td>\n      <td>98.95496</td>\n      <td>99.59048</td>\n      <td>100.29011</td>\n      <td>100.84305</td>\n      <td>101.47993</td>\n      <td>102.03338</td>\n      <td>102.59013</td>\n      <td>103.14050</td>\n      <td>...</td>\n      <td>104.12012</td>\n      <td>104.77774</td>\n      <td>105.04060</td>\n      <td>105.31863</td>\n      <td>105.63344</td>\n      <td>105.91003</td>\n      <td>106.08370</td>\n      <td>106.29641</td>\n      <td>106.64797</td>\n      <td>107.04415</td>\n    </tr>\n    <tr>\n      <td>51</td>\n      <td>Wyoming</td>\n      <td>4.93924</td>\n      <td>5.08709</td>\n      <td>5.07703</td>\n      <td>5.11912</td>\n      <td>5.14096</td>\n      <td>5.18008</td>\n      <td>5.21359</td>\n      <td>5.28155</td>\n      <td>5.39044</td>\n      <td>...</td>\n      <td>5.60523</td>\n      <td>5.81342</td>\n      <td>5.84165</td>\n      <td>5.93481</td>\n      <td>5.99509</td>\n      <td>5.99946</td>\n      <td>6.03160</td>\n      <td>6.01740</td>\n      <td>5.96225</td>\n      <td>5.94992</td>\n    </tr>\n  </tbody>\n</table>\n<p>5 rows × 21 columns</p>\n</div>"
     },
     "metadata": {},
     "execution_count": 13
    }
   ],
   "source": [
    "my_pop_df.tail()"
   ]
  },
  {
   "cell_type": "code",
   "execution_count": 11,
   "metadata": {},
   "outputs": [
    {
     "output_type": "execute_result",
     "data": {
      "text/plain": "(51, 21)"
     },
     "metadata": {},
     "execution_count": 11
    }
   ],
   "source": [
    "my_pop_df.shape"
   ]
  },
  {
   "cell_type": "code",
   "execution_count": 14,
   "metadata": {},
   "outputs": [
    {
     "output_type": "execute_result",
     "data": {
      "text/plain": "(55, 4)"
     },
     "metadata": {},
     "execution_count": 14
    }
   ],
   "source": [
    "my_nics_df[my_nics_df['year'] == 2005].shape"
   ]
  },
  {
   "cell_type": "code",
   "execution_count": 15,
   "metadata": {},
   "outputs": [
    {
     "output_type": "execute_result",
     "data": {
      "text/plain": "(51,)"
     },
     "metadata": {},
     "execution_count": 15
    }
   ],
   "source": [
    "my_pop_df['2005'].shape"
   ]
  },
  {
   "cell_type": "code",
   "execution_count": 18,
   "metadata": {},
   "outputs": [],
   "source": [
    "rows_to_drop = ['Guam', 'Mariana Islands', 'Puerto Rico', 'Virgin Islands']\n",
    "for row in rows_to_drop:\n",
    "    my_nics_df = my_nics_df[my_nics_df['state'] != row]\n",
    ""
   ]
  },
  {
   "cell_type": "code",
   "execution_count": 20,
   "metadata": {},
   "outputs": [
    {
     "output_type": "execute_result",
     "data": {
      "text/plain": "     year                 state  total_handgun  total_long_gun  pop_density\n385  2005               Alabama        91961.0        139936.0     89.56821\n386  2005                Alaska        17257.0         26205.0      1.17053\n387  2005               Arizona        76933.0         77862.0     52.57937\n388  2005              Arkansas        40888.0        109621.0     53.31897\n389  2005            California       219760.0        239155.0    229.51658\n390  2005              Colorado        75000.0        116200.0     44.93724\n391  2005           Connecticut        24806.0         24630.0    717.76255\n392  2005              Delaware         6213.0         10700.0    429.93612\n393  2005  District of Columbia           19.0             1.0   9479.62541\n394  2005               Florida       188425.0        175203.0    329.77780\n395  2005               Georgia        84156.0        136249.0    157.10645\n397  2005                Hawaii            0.0             0.0    197.13404\n398  2005                 Idaho        17966.0         49865.0     17.23154\n399  2005              Illinois        56745.0         94815.0    228.02511\n400  2005               Indiana        63983.0        105817.0    174.34236\n401  2005                  Iowa          343.0         47491.0     52.79191\n402  2005                Kansas        28221.0         67964.0     33.51189\n403  2005              Kentucky        83889.0        143765.0    105.27271\n404  2005             Louisiana        83836.0        121164.0    103.24839\n405  2005                 Maine        14032.0         35262.0     42.50049\n407  2005              Maryland        10097.0         51500.0    571.17074\n408  2005         Massachusetts        20581.0         15565.0    823.08859\n409  2005              Michigan        33073.0        161748.0    177.63865\n410  2005             Minnesota        37817.0        132424.0     64.14464\n411  2005           Mississippi        55797.0        109562.0     61.82699\n412  2005              Missouri        49910.0        162611.0     84.29354\n413  2005               Montana        19703.0         58810.0      6.42243\n414  2005              Nebraska           26.0         30351.0     22.78738\n415  2005                Nevada        29772.0         30797.0     21.93291\n416  2005         New Hampshire        14565.0         25692.0    145.11602\n417  2005            New Jersey        15541.0         20436.0   1162.38935\n418  2005            New Mexico        31289.0         48954.0     15.79275\n419  2005              New York        12976.0        109845.0    409.43316\n420  2005        North Carolina        14429.0        164964.0    177.97773\n421  2005          North Dakota         5448.0         28102.0      9.21140\n422  2005                  Ohio       123742.0        182063.0    280.23726\n423  2005              Oklahoma        63140.0        114500.0     51.44780\n424  2005                Oregon        52469.0        101911.0     37.68740\n425  2005          Pennsylvania            2.0        476676.0    277.08836\n427  2005          Rhode Island         4266.0          4427.0   1019.19650\n428  2005        South Carolina        48928.0         72483.0    141.35749\n429  2005          South Dakota         9481.0         40693.0     10.27987\n430  2005             Tennessee        91349.0        122737.0    145.46742\n431  2005                 Texas       225605.0        418140.0     87.09767\n432  2005                  Utah        20349.0         51206.0     30.43007\n433  2005               Vermont         5912.0         12427.0     66.90199\n435  2005              Virginia        89812.0        129074.0    191.03585\n436  2005            Washington        70933.0        105198.0     94.09228\n437  2005         West Virginia        38730.0         92385.0     74.92068\n438  2005             Wisconsin        39972.0        143027.0    102.03338\n439  2005               Wyoming        10310.0         24049.0      5.21359",
      "text/html": "<div>\n<style scoped>\n    .dataframe tbody tr th:only-of-type {\n        vertical-align: middle;\n    }\n\n    .dataframe tbody tr th {\n        vertical-align: top;\n    }\n\n    .dataframe thead th {\n        text-align: right;\n    }\n</style>\n<table border=\"1\" class=\"dataframe\">\n  <thead>\n    <tr style=\"text-align: right;\">\n      <th></th>\n      <th>year</th>\n      <th>state</th>\n      <th>total_handgun</th>\n      <th>total_long_gun</th>\n      <th>pop_density</th>\n    </tr>\n  </thead>\n  <tbody>\n    <tr>\n      <td>385</td>\n      <td>2005</td>\n      <td>Alabama</td>\n      <td>91961.0</td>\n      <td>139936.0</td>\n      <td>89.56821</td>\n    </tr>\n    <tr>\n      <td>386</td>\n      <td>2005</td>\n      <td>Alaska</td>\n      <td>17257.0</td>\n      <td>26205.0</td>\n      <td>1.17053</td>\n    </tr>\n    <tr>\n      <td>387</td>\n      <td>2005</td>\n      <td>Arizona</td>\n      <td>76933.0</td>\n      <td>77862.0</td>\n      <td>52.57937</td>\n    </tr>\n    <tr>\n      <td>388</td>\n      <td>2005</td>\n      <td>Arkansas</td>\n      <td>40888.0</td>\n      <td>109621.0</td>\n      <td>53.31897</td>\n    </tr>\n    <tr>\n      <td>389</td>\n      <td>2005</td>\n      <td>California</td>\n      <td>219760.0</td>\n      <td>239155.0</td>\n      <td>229.51658</td>\n    </tr>\n    <tr>\n      <td>390</td>\n      <td>2005</td>\n      <td>Colorado</td>\n      <td>75000.0</td>\n      <td>116200.0</td>\n      <td>44.93724</td>\n    </tr>\n    <tr>\n      <td>391</td>\n      <td>2005</td>\n      <td>Connecticut</td>\n      <td>24806.0</td>\n      <td>24630.0</td>\n      <td>717.76255</td>\n    </tr>\n    <tr>\n      <td>392</td>\n      <td>2005</td>\n      <td>Delaware</td>\n      <td>6213.0</td>\n      <td>10700.0</td>\n      <td>429.93612</td>\n    </tr>\n    <tr>\n      <td>393</td>\n      <td>2005</td>\n      <td>District of Columbia</td>\n      <td>19.0</td>\n      <td>1.0</td>\n      <td>9479.62541</td>\n    </tr>\n    <tr>\n      <td>394</td>\n      <td>2005</td>\n      <td>Florida</td>\n      <td>188425.0</td>\n      <td>175203.0</td>\n      <td>329.77780</td>\n    </tr>\n    <tr>\n      <td>395</td>\n      <td>2005</td>\n      <td>Georgia</td>\n      <td>84156.0</td>\n      <td>136249.0</td>\n      <td>157.10645</td>\n    </tr>\n    <tr>\n      <td>397</td>\n      <td>2005</td>\n      <td>Hawaii</td>\n      <td>0.0</td>\n      <td>0.0</td>\n      <td>197.13404</td>\n    </tr>\n    <tr>\n      <td>398</td>\n      <td>2005</td>\n      <td>Idaho</td>\n      <td>17966.0</td>\n      <td>49865.0</td>\n      <td>17.23154</td>\n    </tr>\n    <tr>\n      <td>399</td>\n      <td>2005</td>\n      <td>Illinois</td>\n      <td>56745.0</td>\n      <td>94815.0</td>\n      <td>228.02511</td>\n    </tr>\n    <tr>\n      <td>400</td>\n      <td>2005</td>\n      <td>Indiana</td>\n      <td>63983.0</td>\n      <td>105817.0</td>\n      <td>174.34236</td>\n    </tr>\n    <tr>\n      <td>401</td>\n      <td>2005</td>\n      <td>Iowa</td>\n      <td>343.0</td>\n      <td>47491.0</td>\n      <td>52.79191</td>\n    </tr>\n    <tr>\n      <td>402</td>\n      <td>2005</td>\n      <td>Kansas</td>\n      <td>28221.0</td>\n      <td>67964.0</td>\n      <td>33.51189</td>\n    </tr>\n    <tr>\n      <td>403</td>\n      <td>2005</td>\n      <td>Kentucky</td>\n      <td>83889.0</td>\n      <td>143765.0</td>\n      <td>105.27271</td>\n    </tr>\n    <tr>\n      <td>404</td>\n      <td>2005</td>\n      <td>Louisiana</td>\n      <td>83836.0</td>\n      <td>121164.0</td>\n      <td>103.24839</td>\n    </tr>\n    <tr>\n      <td>405</td>\n      <td>2005</td>\n      <td>Maine</td>\n      <td>14032.0</td>\n      <td>35262.0</td>\n      <td>42.50049</td>\n    </tr>\n    <tr>\n      <td>407</td>\n      <td>2005</td>\n      <td>Maryland</td>\n      <td>10097.0</td>\n      <td>51500.0</td>\n      <td>571.17074</td>\n    </tr>\n    <tr>\n      <td>408</td>\n      <td>2005</td>\n      <td>Massachusetts</td>\n      <td>20581.0</td>\n      <td>15565.0</td>\n      <td>823.08859</td>\n    </tr>\n    <tr>\n      <td>409</td>\n      <td>2005</td>\n      <td>Michigan</td>\n      <td>33073.0</td>\n      <td>161748.0</td>\n      <td>177.63865</td>\n    </tr>\n    <tr>\n      <td>410</td>\n      <td>2005</td>\n      <td>Minnesota</td>\n      <td>37817.0</td>\n      <td>132424.0</td>\n      <td>64.14464</td>\n    </tr>\n    <tr>\n      <td>411</td>\n      <td>2005</td>\n      <td>Mississippi</td>\n      <td>55797.0</td>\n      <td>109562.0</td>\n      <td>61.82699</td>\n    </tr>\n    <tr>\n      <td>412</td>\n      <td>2005</td>\n      <td>Missouri</td>\n      <td>49910.0</td>\n      <td>162611.0</td>\n      <td>84.29354</td>\n    </tr>\n    <tr>\n      <td>413</td>\n      <td>2005</td>\n      <td>Montana</td>\n      <td>19703.0</td>\n      <td>58810.0</td>\n      <td>6.42243</td>\n    </tr>\n    <tr>\n      <td>414</td>\n      <td>2005</td>\n      <td>Nebraska</td>\n      <td>26.0</td>\n      <td>30351.0</td>\n      <td>22.78738</td>\n    </tr>\n    <tr>\n      <td>415</td>\n      <td>2005</td>\n      <td>Nevada</td>\n      <td>29772.0</td>\n      <td>30797.0</td>\n      <td>21.93291</td>\n    </tr>\n    <tr>\n      <td>416</td>\n      <td>2005</td>\n      <td>New Hampshire</td>\n      <td>14565.0</td>\n      <td>25692.0</td>\n      <td>145.11602</td>\n    </tr>\n    <tr>\n      <td>417</td>\n      <td>2005</td>\n      <td>New Jersey</td>\n      <td>15541.0</td>\n      <td>20436.0</td>\n      <td>1162.38935</td>\n    </tr>\n    <tr>\n      <td>418</td>\n      <td>2005</td>\n      <td>New Mexico</td>\n      <td>31289.0</td>\n      <td>48954.0</td>\n      <td>15.79275</td>\n    </tr>\n    <tr>\n      <td>419</td>\n      <td>2005</td>\n      <td>New York</td>\n      <td>12976.0</td>\n      <td>109845.0</td>\n      <td>409.43316</td>\n    </tr>\n    <tr>\n      <td>420</td>\n      <td>2005</td>\n      <td>North Carolina</td>\n      <td>14429.0</td>\n      <td>164964.0</td>\n      <td>177.97773</td>\n    </tr>\n    <tr>\n      <td>421</td>\n      <td>2005</td>\n      <td>North Dakota</td>\n      <td>5448.0</td>\n      <td>28102.0</td>\n      <td>9.21140</td>\n    </tr>\n    <tr>\n      <td>422</td>\n      <td>2005</td>\n      <td>Ohio</td>\n      <td>123742.0</td>\n      <td>182063.0</td>\n      <td>280.23726</td>\n    </tr>\n    <tr>\n      <td>423</td>\n      <td>2005</td>\n      <td>Oklahoma</td>\n      <td>63140.0</td>\n      <td>114500.0</td>\n      <td>51.44780</td>\n    </tr>\n    <tr>\n      <td>424</td>\n      <td>2005</td>\n      <td>Oregon</td>\n      <td>52469.0</td>\n      <td>101911.0</td>\n      <td>37.68740</td>\n    </tr>\n    <tr>\n      <td>425</td>\n      <td>2005</td>\n      <td>Pennsylvania</td>\n      <td>2.0</td>\n      <td>476676.0</td>\n      <td>277.08836</td>\n    </tr>\n    <tr>\n      <td>427</td>\n      <td>2005</td>\n      <td>Rhode Island</td>\n      <td>4266.0</td>\n      <td>4427.0</td>\n      <td>1019.19650</td>\n    </tr>\n    <tr>\n      <td>428</td>\n      <td>2005</td>\n      <td>South Carolina</td>\n      <td>48928.0</td>\n      <td>72483.0</td>\n      <td>141.35749</td>\n    </tr>\n    <tr>\n      <td>429</td>\n      <td>2005</td>\n      <td>South Dakota</td>\n      <td>9481.0</td>\n      <td>40693.0</td>\n      <td>10.27987</td>\n    </tr>\n    <tr>\n      <td>430</td>\n      <td>2005</td>\n      <td>Tennessee</td>\n      <td>91349.0</td>\n      <td>122737.0</td>\n      <td>145.46742</td>\n    </tr>\n    <tr>\n      <td>431</td>\n      <td>2005</td>\n      <td>Texas</td>\n      <td>225605.0</td>\n      <td>418140.0</td>\n      <td>87.09767</td>\n    </tr>\n    <tr>\n      <td>432</td>\n      <td>2005</td>\n      <td>Utah</td>\n      <td>20349.0</td>\n      <td>51206.0</td>\n      <td>30.43007</td>\n    </tr>\n    <tr>\n      <td>433</td>\n      <td>2005</td>\n      <td>Vermont</td>\n      <td>5912.0</td>\n      <td>12427.0</td>\n      <td>66.90199</td>\n    </tr>\n    <tr>\n      <td>435</td>\n      <td>2005</td>\n      <td>Virginia</td>\n      <td>89812.0</td>\n      <td>129074.0</td>\n      <td>191.03585</td>\n    </tr>\n    <tr>\n      <td>436</td>\n      <td>2005</td>\n      <td>Washington</td>\n      <td>70933.0</td>\n      <td>105198.0</td>\n      <td>94.09228</td>\n    </tr>\n    <tr>\n      <td>437</td>\n      <td>2005</td>\n      <td>West Virginia</td>\n      <td>38730.0</td>\n      <td>92385.0</td>\n      <td>74.92068</td>\n    </tr>\n    <tr>\n      <td>438</td>\n      <td>2005</td>\n      <td>Wisconsin</td>\n      <td>39972.0</td>\n      <td>143027.0</td>\n      <td>102.03338</td>\n    </tr>\n    <tr>\n      <td>439</td>\n      <td>2005</td>\n      <td>Wyoming</td>\n      <td>10310.0</td>\n      <td>24049.0</td>\n      <td>5.21359</td>\n    </tr>\n  </tbody>\n</table>\n</div>"
     },
     "metadata": {},
     "execution_count": 20
    }
   ],
   "source": [
    "df_dict = {}\n",
    "year_list = [i for i in range(1999, 2019)]\n",
    "s_year_list =[str(s) for s in year_list]\n",
    "for index, year_s in enumerate(s_year_list):\n",
    "    df_dict[year_s] = my_nics_df[my_nics_df['year'] == year_list[index]]\n",
    "    df_dict[year_s]['pop_density'] = np.array(my_pop_df[year_s])\n"
   ]
  },
  {
   "cell_type": "code",
   "execution_count": null,
   "metadata": {},
   "outputs": [],
   "source": []
  },
  {
   "cell_type": "markdown",
   "metadata": {},
   "source": [
    "Don't Touch!\n",
    "<!--\n",
    "===========================================================V TEMPLATEING IDEAS V===================================================\n",
    "\n",
    "Table 1 = Description of data including DC\n",
    "\n",
    "|FIELD1|year  |total_handgun     |total_long_gun    |pop_density       |handgun/long_gun   |\n",
    "|------|------|------------------|------------------|------------------|-------------------|\n",
    "|count |51.0  |51.0              |51.0              |51.0              |51.0               |\n",
    "|mean  |2018.0|138054.07843137256|103376.60784313726|423.35861745098043|1.6540754923677627 |\n",
    "|std   |0.0   |149504.35134601843|85730.34706452048 |1605.7997009585968|3.297578803277349  |\n",
    "|min   |2018.0|10.0              |31.0              |1.28934           |0.07050341075900181|\n",
    "|25%   |2018.0|40816.0           |36366.0           |49.28428          |0.9026160053394    |\n",
    "|50%   |2018.0|80350.0           |91200.0           |107.04415         |1.1951771451060367 |\n",
    "|75%   |2018.0|174336.5          |151466.0          |225.18950999999998|1.494311656277248  |\n",
    "|max   |2018.0|643595.0          |452932.0          |11515.65574       |24.4               |\n",
    "\n",
    "\n",
    "Table 2 = Description of data excluding DC\n",
    "\n",
    "|FIELD1|year  |total_handgun     |total_long_gun    |pop_density       |handgun/long_gun   |\n",
    "|------|------|------------------|------------------|------------------|-------------------|\n",
    "|count |50.0  |50.0              |50.0              |50.0              |50.0               |\n",
    "|mean  |2018.0|140795.64         |105443.34         |201.51267500000003|1.199157002215119  |\n",
    "|std   |0.0   |149721.60191989527|85307.67804992583 |264.5673177684518 |0.5710118989817893 |\n",
    "|min   |2018.0|10.0              |31.0              |1.28934           |0.07050341075900181|\n",
    "|25%   |2018.0|44137.5           |38391.5           |46.46945          |0.8928885698273171 |\n",
    "|50%   |2018.0|84545.0           |92793.0           |107.008805        |1.1934184019619565 |\n",
    "|75%   |2018.0|177639.75         |152579.5          |219.6491175       |1.4740263060688625 |\n",
    "|max   |2018.0|643595.0          |452932.0          |1201.0947800000001|3.1627863509456446 |\n",
    "\n",
    "\n",
    "\n",
    "\n",
    "\n",
    "\n",
    "\n",
    "\n",
    "\n",
    "\n",
    "\n",
    "\n",
    "\n",
    "\n",
    "\n",
    "\n",
    "\n",
    "\n",
    "\n",
    "I'm chosing to look at data from 1999 through 2018.  This is because my population density data ends in 2018 and my NICS data begins at the end of 1998.  This is also because that is a 20 year span and I like round numbers.\n",
    "### Installing  \n",
    "\n",
    "A step by step series of examples that tell you how to get a development env running\n",
    "\n",
    "Say what the step will be\n",
    "\n",
    "```\n",
    "Give the example\n",
    "```\n",
    "\n",
    "And repeat\n",
    "\n",
    "```\n",
    "until finished\n",
    "```\n",
    "\n",
    "End with an example of getting some data out of the system or using it for a little demo\n",
    "\n",
    "## Running the tests\n",
    "\n",
    "Explain how to run the automated tests for this system\n",
    "\n",
    "### Break down into end to end tests\n",
    "\n",
    "Explain what these tests test and why\n",
    "\n",
    "```\n",
    "Give an example\n",
    "```\n",
    "\n",
    "### And coding style tests\n",
    "\n",
    "Explain what these tests test and why\n",
    "\n",
    "```\n",
    "Give an example\n",
    "```\n",
    "\n",
    "## Deployment\n",
    "\n",
    "Add additional notes about how to deploy this on a live system\n",
    "\n",
    "## Built With\n",
    "\n",
    "* [Dropwizard](http://www.dropwizard.io/1.0.2/docs/) - The web framework used\n",
    "* [Maven](https://maven.apache.org/) - Dependency Management\n",
    "* [ROME](https://rometools.github.io/rome/) - Used to generate RSS Feeds\n",
    "\n",
    "## Contributing\n",
    "\n",
    "Please read [CONTRIBUTING.md](https://gist.github.com/PurpleBooth/b24679402957c63ec426) for details on our code of conduct, and the process for submitting pull requests to us.\n",
    "\n",
    "## Versioning\n",
    "\n",
    "We use [SemVer](http://semver.org/) for versioning. For the versions available, see the [tags on this repository](https://github.com/your/project/tags). \n",
    "\n",
    "## Authors\n",
    "\n",
    "* **Billie Thompson** - *Initial work* - [PurpleBooth](https://github.com/PurpleBooth)\n",
    "\n",
    "See also the list of [contributors](https://github.com/your/project/contributors) who participated in this project.\n",
    "\n",
    "## License\n",
    "\n",
    "This project is licensed under the MIT License - see the [LICENSE.md](LICENSE.md) file for details\n",
    "\n",
    "## Acknowledgments\n",
    "\n",
    "* Hat tip to anyone whose code was used\n",
    "* Inspiration\n",
    "* etc\n",
    "-->\n"
   ]
  }
 ]
}