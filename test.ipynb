{
 "nbformat": 4,
 "nbformat_minor": 2,
 "metadata": {
  "language_info": {
   "name": "python",
   "codemirror_mode": {
    "name": "ipython",
    "version": 3
   },
   "version": "3.7.4-final"
  },
  "orig_nbformat": 2,
  "file_extension": ".py",
  "mimetype": "text/x-python",
  "name": "python",
  "npconvert_exporter": "python",
  "pygments_lexer": "ipython3",
  "version": 3,
  "kernelspec": {
   "name": "python3",
   "display_name": "Python 3"
  }
 },
 "cells": [
  {
   "cell_type": "markdown",
   "metadata": {},
   "source": [
    "# Module Import Cell"
   ]
  },
  {
   "cell_type": "code",
   "execution_count": 1,
   "metadata": {},
   "outputs": [],
   "source": [
    "%matplotlib inline\n",
    "import matplotlib\n",
    "import numpy as np \n",
    "import matplotlib.pyplot as plt \n",
    "import pandas as pd\n",
    "plt.style.use('ggplot') "
   ]
  },
  {
   "cell_type": "markdown",
   "metadata": {},
   "source": [
    "## Data Import Cell"
   ]
  },
  {
   "cell_type": "code",
   "execution_count": 2,
   "metadata": {},
   "outputs": [],
   "source": [
    "#Available population density by state and year meassured in persons per square mile\n",
    "pop_df = pd.read_csv('data/Historical_Population_Density_States_only_RAND_US_1.csv')\n",
    "#---------------------------------------------------------------------------------------\n",
    "#Available firearm background check data\n",
    "nics_df = pd.read_csv('data/nics-firearm-background-checks.csv')"
   ]
  },
  {
   "cell_type": "code",
   "execution_count": 3,
   "metadata": {},
   "outputs": [],
   "source": [
    "#Change month to y-m for year by month\n",
    "nics_df = nics_df.rename(columns={'month': 'y&m'})\n",
    "#Add year column to group by\n",
    "nics_df['year'] = list(map(lambda x: x.split('-')[0], nics_df['y&m']))\n",
    "#Defining columns to combine\n",
    "handgun_list = ['handgun', 'prepawn_handgun', 'redemption_handgun', 'returned_handgun', 'rentals_handgun', 'private_sale_handgun', 'return_to_seller_handgun']\n",
    "long_gun_list = ['long_gun', 'prepawn_long_gun', 'redemption_long_gun', 'returned_long_gun', 'rentals_long_gun', 'private_sale_long_gun', 'return_to_seller_long_gun']\n",
    "#Create combined columns\n",
    "nics_df['total_handgun'] = nics_df[handgun_list].sum(axis=1)\n",
    "nics_df['total_long_gun'] = nics_df[long_gun_list].sum(axis=1)\n",
    "#Group by year then state\n",
    "year_state_group = nics_df.groupby(('year', 'state')).sum()\n",
    "#Collect the columns we want and reset index\n",
    "clean_nics_df = year_state_group[['total_handgun', 'total_long_gun']]\n",
    "clean_nics_df = clean_nics_df.reset_index()\n",
    "#Remove any year not between 1999 and 2018 and assign to my_nics_df\n",
    "clean_nics_df['year'] = pd.to_numeric(clean_nics_df['year'])\n",
    "my_nics_df = clean_nics_df.loc[(clean_nics_df['year'] < 2019) & (clean_nics_df['year'] > 1998)] \n",
    "#Test: Expect 1100 rows (50 states + DC, Guam, Puerto Rico, Mariana Islands, and Virgin Islands X 20 years) and 4 columns\n",
    "#my_nics_df.head()"
   ]
  },
  {
   "cell_type": "code",
   "execution_count": 4,
   "metadata": {},
   "outputs": [],
   "source": [
    "#Droping NA Values\n",
    "cleaner_pop_df = pop_df.dropna(axis=1)\n",
    "#Keeping area and years from 1999 - 2018\n",
    "cleaner_pop_df = cleaner_pop_df.loc[:, ['Area'] + list(map(str, range(1999, 2019)))]\n",
    "#Rename 'Area' column to be more descriptive\n",
    "my_pop_df = cleaner_pop_df.rename(columns={'Area': 'State'})\n",
    "#test: expect 52 rows(50 states, DC, and US), 21 columns(State name + data from 1999 - 2018)\n",
    "#my_pop_df\n",
    "#my_pop_df.shape"
   ]
  },
  {
   "cell_type": "code",
   "execution_count": 5,
   "metadata": {},
   "outputs": [],
   "source": [
    "new_my_pop_df = my_pop_df.loc[:, ['State', '2018']]\n",
    "new_my_pop_df = new_my_pop_df[new_my_pop_df['State'] != 'United States']\n",
    "my_2018_pop_df = new_my_pop_df"
   ]
  },
  {
   "cell_type": "code",
   "execution_count": 6,
   "metadata": {},
   "outputs": [
    {
     "output_type": "execute_result",
     "data": {
      "text/plain": "(51, 4)"
     },
     "metadata": {},
     "execution_count": 6
    }
   ],
   "source": [
    "nics_2018_df = my_nics_df[my_nics_df['year'] == 2018]\n",
    "rows_to_drop = ['Guam', 'Mariana Islands', 'Puerto Rico', 'Virgin Islands']\n",
    "for row in rows_to_drop:\n",
    "    nics_2018_df = nics_2018_df[nics_2018_df['state'] != row]\n",
    "nics_2018_df.shape"
   ]
  },
  {
   "cell_type": "code",
   "execution_count": 7,
   "metadata": {},
   "outputs": [],
   "source": [
    "temp = np.array(my_2018_pop_df['2018'])\n",
    "nics_2018_df['pop_density'] = temp\n",
    "nics_2018_df['handgun/long_gun'] = nics_2018_df['total_handgun'] / nics_2018_df['total_long_gun']\n",
    "#nics_2018_df\n",
    "\n",
    "pop_sorted_nics_2018_df = nics_2018_df.sort_values('pop_density')\n",
    "#pop_sorted_nics_2018_df"
   ]
  },
  {
   "cell_type": "code",
   "execution_count": 8,
   "metadata": {},
   "outputs": [],
   "source": [
    "#nics_2018_df.head()"
   ]
  },
  {
   "cell_type": "code",
   "execution_count": 9,
   "metadata": {},
   "outputs": [],
   "source": [
    "#nics_2018_df['total_handgun'].median()\n",
    "#nics_2018_df.describe()"
   ]
  },
  {
   "cell_type": "code",
   "execution_count": 10,
   "metadata": {},
   "outputs": [],
   "source": [
    "#nics_2018_df[nics_2018_df['state'] == 'District of Columbia']"
   ]
  },
  {
   "cell_type": "code",
   "execution_count": 11,
   "metadata": {},
   "outputs": [],
   "source": [
    "#nics_2018_df[nics_2018_df['state'] == 'Montana']"
   ]
  },
  {
   "cell_type": "code",
   "execution_count": 12,
   "metadata": {},
   "outputs": [],
   "source": [
    "#nics_2018_df['pop_density'].median()"
   ]
  },
  {
   "cell_type": "code",
   "execution_count": 13,
   "metadata": {},
   "outputs": [],
   "source": [
    "#pop_sorted_nics_2018_df\n",
    "# fig, ax = plt.subplots(figsize=(25,15))\n",
    "# labels = np.array(pop_sorted_nics_2018_df['state'])\n",
    "# h_l_r = np.array(pop_sorted_nics_2018_df['handgun/long_gun'])\n",
    "# x = np.arange(len(labels))\n",
    "# ax.bar(x, h_l_r, label=('State ratios'))\n",
    "# ax.margins(x=0)\n",
    "# ax.set_ylabel('Ratio of handgun to rifle applications', fontdict={'fontsize': 25, 'fontweight': 5})\n",
    "# ax.set_xlabel('States from least to most population density', fontdict={'fontsize': 25, 'fontweight': 5})\n",
    "# #ax.set_title('Scores by group and gender')\n",
    "# ax.set_xticks(x)\n",
    "# ax.set_xticklabels(labels, rotation=270, fontsize=14, fontweight=4)\n",
    "# ax.axhline(1, color='black', alpha=.5, label='1-1 ratio')\n",
    "# ax.set_title('Ratio of handguns to rifles by population density', fontdict={'fontsize': 33, 'fontweight': 7})\n",
    "# ax.legend()\n",
    "# fig.tight_layout()\n",
    "# #V Generates graph image if missing V\n",
    "# #fig.savefig('graphs/bar.png')"
   ]
  },
  {
   "cell_type": "code",
   "execution_count": 14,
   "metadata": {},
   "outputs": [],
   "source": [
    "#C = pop_sorted_nics_2018_df[pop_sorted_nics_2018_df['state'] != 'District of Columbia']\n",
    "# fig, ax = plt.subplots(figsize=(25,15))\n",
    "# labels = np.array(noDC_pop_sorted_nics_2018_df['state'])\n",
    "# h_l_r = np.array(noDC_pop_sorted_nics_2018_df['handgun/long_gun'])\n",
    "# x = np.arange(len(labels))\n",
    "# ax.bar(x, h_l_r, label=('State ratios'))\n",
    "# ax.margins(x=0)\n",
    "# ax.set_ylabel('Ratio of handgun to rifle applications', fontdict={'fontsize': 25, 'fontweight': 5})\n",
    "# ax.set_xlabel('States from least to most population density', fontdict={'fontsize': 25, 'fontweight': 5})\n",
    "# #ax.set_title('Scores by group and gender')\n",
    "# ax.set_xticks(x)\n",
    "# ax.set_xticklabels(labels, rotation=270, fontsize=14, fontweight=4)\n",
    "# ax.axhline(1, color='black', alpha=.5, label='1-1 ratio')\n",
    "# ax.set_title('Ratio of handguns to rifles by population density excluding DC', fontdict={'fontsize': 33, 'fontweight': 7})\n",
    "# ax.legend()\n",
    "# fig.tight_layout()\n",
    "# #V Generates graph image if missing V\n",
    "# #fig.savefig('graphs/bar.png')"
   ]
  },
  {
   "cell_type": "code",
   "execution_count": 20,
   "metadata": {},
   "outputs": [
    {
     "output_type": "error",
     "ename": "NameError",
     "evalue": "name 'handgun_y' is not defined",
     "traceback": [
      "\u001b[0;31m---------------------------------------------------------------------------\u001b[0m",
      "\u001b[0;31mNameError\u001b[0m                                 Traceback (most recent call last)",
      "\u001b[0;32m<ipython-input-20-b3d72e6144e0>\u001b[0m in \u001b[0;36m<module>\u001b[0;34m\u001b[0m\n\u001b[1;32m      3\u001b[0m \u001b[0mxlabels\u001b[0m \u001b[0;34m=\u001b[0m \u001b[0mpop_sorted_nics_2018_df\u001b[0m\u001b[0;34m[\u001b[0m\u001b[0;34m'pop_density'\u001b[0m\u001b[0;34m]\u001b[0m\u001b[0;34m\u001b[0m\u001b[0;34m\u001b[0m\u001b[0m\n\u001b[1;32m      4\u001b[0m \u001b[0mx\u001b[0m \u001b[0;34m=\u001b[0m \u001b[0mnp\u001b[0m\u001b[0;34m.\u001b[0m\u001b[0marange\u001b[0m\u001b[0;34m(\u001b[0m\u001b[0mlen\u001b[0m\u001b[0;34m(\u001b[0m\u001b[0mxlabels\u001b[0m\u001b[0;34m)\u001b[0m\u001b[0;34m)\u001b[0m\u001b[0;34m\u001b[0m\u001b[0;34m\u001b[0m\u001b[0m\n\u001b[0;32m----> 5\u001b[0;31m \u001b[0max\u001b[0m\u001b[0;34m.\u001b[0m\u001b[0mscatter\u001b[0m\u001b[0;34m(\u001b[0m\u001b[0mx\u001b[0m\u001b[0;34m,\u001b[0m \u001b[0mhandgun_y\u001b[0m\u001b[0;34m,\u001b[0m \u001b[0mc\u001b[0m\u001b[0;34m=\u001b[0m\u001b[0;34m'black'\u001b[0m\u001b[0;34m,\u001b[0m \u001b[0mlabel\u001b[0m\u001b[0;34m=\u001b[0m\u001b[0;34m'Handguns'\u001b[0m\u001b[0;34m,\u001b[0m \u001b[0malpha\u001b[0m\u001b[0;34m=\u001b[0m\u001b[0;36m1\u001b[0m\u001b[0;34m,\u001b[0m \u001b[0ms\u001b[0m\u001b[0;34m=\u001b[0m\u001b[0;36m200\u001b[0m\u001b[0;34m)\u001b[0m\u001b[0;34m\u001b[0m\u001b[0;34m\u001b[0m\u001b[0m\n\u001b[0m\u001b[1;32m      6\u001b[0m \u001b[0max\u001b[0m\u001b[0;34m.\u001b[0m\u001b[0mscatter\u001b[0m\u001b[0;34m(\u001b[0m\u001b[0mx\u001b[0m\u001b[0;34m,\u001b[0m \u001b[0mlong_gun_y\u001b[0m\u001b[0;34m,\u001b[0m \u001b[0mc\u001b[0m\u001b[0;34m=\u001b[0m\u001b[0;34m'firebrick'\u001b[0m\u001b[0;34m,\u001b[0m \u001b[0mlabel\u001b[0m\u001b[0;34m=\u001b[0m\u001b[0;34m'Rifles'\u001b[0m\u001b[0;34m,\u001b[0m \u001b[0malpha\u001b[0m\u001b[0;34m=\u001b[0m\u001b[0;36m.75\u001b[0m\u001b[0;34m,\u001b[0m \u001b[0ms\u001b[0m\u001b[0;34m=\u001b[0m\u001b[0;36m200\u001b[0m\u001b[0;34m)\u001b[0m\u001b[0;34m\u001b[0m\u001b[0;34m\u001b[0m\u001b[0m\n\u001b[1;32m      7\u001b[0m \u001b[0max\u001b[0m\u001b[0;34m.\u001b[0m\u001b[0mset_xticks\u001b[0m\u001b[0;34m(\u001b[0m\u001b[0mx\u001b[0m\u001b[0;34m)\u001b[0m\u001b[0;34m\u001b[0m\u001b[0;34m\u001b[0m\u001b[0m\n",
      "\u001b[0;31mNameError\u001b[0m: name 'handgun_y' is not defined"
     ]
    }
   ],
   "source": [
    "#Setup\n",
    "fig, ax = plt.subplots(figsize=(25, 15))\n",
    "xlabels = pop_sorted_nics_2018_df['pop_density']\n",
    "x = np.arange(len(xlabels))\n",
    "#Plot \n",
    "ax.scatter(x, handgun_y, c='black', label='Handguns', alpha=1, s=200)\n",
    "ax.scatter(x, long_gun_y, c='firebrick', label='Rifles', alpha=.75, s=200)\n",
    "ax.set_xticks(x)\n",
    "#Label\n",
    "ax.set_xticklabels(xlabels, rotation=270)\n",
    "ax.set_xlabel('States from least to most population density', fontdict={'fontsize': 25, 'fontweight': 5})\n",
    "ax.set_ylabel('Number of applications', fontdict={'fontsize': 25, 'fontweight': 5})"
   ]
  },
  {
   "cell_type": "code",
   "execution_count": 15,
   "metadata": {},
   "outputs": [
    {
     "output_type": "execute_result",
     "data": {
      "text/plain": "      year                 state  total_handgun  total_long_gun  pop_density  \\\n1101  2018                Alaska        35344.0         34748.0      1.28934   \n1154  2018               Wyoming        23556.0         27399.0      5.94992   \n1128  2018               Montana        38393.0         58497.0      7.29846   \n1136  2018          North Dakota        19277.0         32577.0     11.01944   \n1144  2018          South Dakota        29625.0         44193.0     11.62595   \n1133  2018            New Mexico        75103.0         59389.0     17.26679   \n1113  2018                 Idaho        51196.0         61045.0     21.19966   \n1129  2018              Nebraska         1633.0         23162.0     25.09715   \n1130  2018                Nevada        58817.0         32619.0     27.62909   \n1117  2018                Kansas        73792.0         66397.0     35.58645   \n1147  2018                  Utah        47589.0         51611.0     38.48248   \n1120  2018                 Maine        38645.0         41370.0     43.36738   \n1139  2018                Oregon       167730.0        129392.0     43.65462   \n1105  2018              Colorado       219776.0        161511.0     54.91394   \n1116  2018                  Iowa         2213.0         31245.0     56.49188   \n1138  2018              Oklahoma       158710.0        133184.0     57.42320   \n1103  2018              Arkansas        80350.0         90980.0     57.88248   \n1102  2018               Arizona       165432.0        100359.0     63.11124   \n1126  2018           Mississippi       114616.0         94514.0     63.66918   \n1148  2018               Vermont        18600.0         19829.0     67.70800   \n1125  2018             Minnesota        64724.0        108778.0     70.48334   \n1152  2018         West Virginia        88740.0         91200.0     74.99925   \n1127  2018              Missouri       246344.0        200040.0     88.93610   \n1100  2018               Alabama        99101.0         94386.0     96.32412   \n1119  2018             Louisiana       134913.0        119628.0    106.97346   \n1153  2018             Wisconsin       158189.0        149239.0    107.04415   \n1146  2018                 Texas       604427.0        452932.0    109.63397   \n1118  2018              Kentucky       133622.0        111801.0    112.47488   \n1151  2018            Washington       233901.0        170797.0    113.24223   \n1131  2018         New Hampshire        60637.0         37984.0    151.25535   \n1145  2018             Tennessee       290656.0        179515.0    164.25286   \n1143  2018        South Carolina       125509.0         81420.0    168.85738   \n1124  2018              Michigan       124708.0        120327.0    175.97203   \n1110  2018               Georgia       180943.0        121926.0    181.66468   \n1115  2018               Indiana       231244.0        153693.0    186.57479   \n1135  2018        North Carolina        42987.0        168927.0    213.16787   \n1150  2018              Virginia       254216.0        168947.0    215.12565   \n1112  2018                Hawaii           10.0            31.0    221.15694   \n1114  2018              Illinois       259554.0        133987.0    229.22208   \n1104  2018            California       439363.0        317334.0    253.63746   \n1137  2018                  Ohio       292598.0        205563.0    285.47040   \n1140  2018          Pennsylvania       541488.0        171206.0    285.76344   \n1109  2018               Florida       643595.0        260111.0    394.96588   \n1134  2018              New York       114799.0        169765.0    413.90708   \n1107  2018              Delaware        20520.0         18907.0    494.96981   \n1122  2018              Maryland        54329.0         63380.0    618.24412   \n1106  2018           Connecticut        60631.0         24573.0    737.39216   \n1123  2018         Massachusetts        53787.0         33396.0    880.37615   \n1142  2018          Rhode Island        12619.0          8739.0   1011.78469   \n1132  2018            New Jersey        51231.0         39614.0   1201.09478   \n1108  2018  District of Columbia          976.0            40.0  11515.65574   \n\n      handgun/long_gun  \n1101          1.017152  \n1154          0.859739  \n1128          0.656324  \n1136          0.591737  \n1144          0.670355  \n1133          1.264594  \n1113          0.838660  \n1129          0.070503  \n1130          1.803152  \n1117          1.111376  \n1147          0.922071  \n1120          0.934131  \n1139          1.296293  \n1105          1.360749  \n1116          0.070827  \n1138          1.191660  \n1103          0.883161  \n1102          1.648402  \n1126          1.212688  \n1148          0.938020  \n1125          0.595010  \n1152          0.973026  \n1127          1.231474  \n1100          1.049954  \n1119          1.127771  \n1153          1.059971  \n1146          1.334476  \n1118          1.195177  \n1151          1.369468  \n1131          1.596383  \n1145          1.619118  \n1143          1.541501  \n1124          1.036409  \n1110          1.484039  \n1115          1.504584  \n1135          0.254471  \n1150          1.504709  \n1112          0.322581  \n1114          1.937158  \n1104          1.384544  \n1137          1.423398  \n1140          3.162786  \n1109          2.474309  \n1134          0.676223  \n1107          1.085312  \n1122          0.857195  \n1106          2.467383  \n1123          1.610582  \n1142          1.443987  \n1132          1.293255  \n1108         24.400000  ",
      "text/html": "<div>\n<style scoped>\n    .dataframe tbody tr th:only-of-type {\n        vertical-align: middle;\n    }\n\n    .dataframe tbody tr th {\n        vertical-align: top;\n    }\n\n    .dataframe thead th {\n        text-align: right;\n    }\n</style>\n<table border=\"1\" class=\"dataframe\">\n  <thead>\n    <tr style=\"text-align: right;\">\n      <th></th>\n      <th>year</th>\n      <th>state</th>\n      <th>total_handgun</th>\n      <th>total_long_gun</th>\n      <th>pop_density</th>\n      <th>handgun/long_gun</th>\n    </tr>\n  </thead>\n  <tbody>\n    <tr>\n      <td>1101</td>\n      <td>2018</td>\n      <td>Alaska</td>\n      <td>35344.0</td>\n      <td>34748.0</td>\n      <td>1.28934</td>\n      <td>1.017152</td>\n    </tr>\n    <tr>\n      <td>1154</td>\n      <td>2018</td>\n      <td>Wyoming</td>\n      <td>23556.0</td>\n      <td>27399.0</td>\n      <td>5.94992</td>\n      <td>0.859739</td>\n    </tr>\n    <tr>\n      <td>1128</td>\n      <td>2018</td>\n      <td>Montana</td>\n      <td>38393.0</td>\n      <td>58497.0</td>\n      <td>7.29846</td>\n      <td>0.656324</td>\n    </tr>\n    <tr>\n      <td>1136</td>\n      <td>2018</td>\n      <td>North Dakota</td>\n      <td>19277.0</td>\n      <td>32577.0</td>\n      <td>11.01944</td>\n      <td>0.591737</td>\n    </tr>\n    <tr>\n      <td>1144</td>\n      <td>2018</td>\n      <td>South Dakota</td>\n      <td>29625.0</td>\n      <td>44193.0</td>\n      <td>11.62595</td>\n      <td>0.670355</td>\n    </tr>\n    <tr>\n      <td>1133</td>\n      <td>2018</td>\n      <td>New Mexico</td>\n      <td>75103.0</td>\n      <td>59389.0</td>\n      <td>17.26679</td>\n      <td>1.264594</td>\n    </tr>\n    <tr>\n      <td>1113</td>\n      <td>2018</td>\n      <td>Idaho</td>\n      <td>51196.0</td>\n      <td>61045.0</td>\n      <td>21.19966</td>\n      <td>0.838660</td>\n    </tr>\n    <tr>\n      <td>1129</td>\n      <td>2018</td>\n      <td>Nebraska</td>\n      <td>1633.0</td>\n      <td>23162.0</td>\n      <td>25.09715</td>\n      <td>0.070503</td>\n    </tr>\n    <tr>\n      <td>1130</td>\n      <td>2018</td>\n      <td>Nevada</td>\n      <td>58817.0</td>\n      <td>32619.0</td>\n      <td>27.62909</td>\n      <td>1.803152</td>\n    </tr>\n    <tr>\n      <td>1117</td>\n      <td>2018</td>\n      <td>Kansas</td>\n      <td>73792.0</td>\n      <td>66397.0</td>\n      <td>35.58645</td>\n      <td>1.111376</td>\n    </tr>\n    <tr>\n      <td>1147</td>\n      <td>2018</td>\n      <td>Utah</td>\n      <td>47589.0</td>\n      <td>51611.0</td>\n      <td>38.48248</td>\n      <td>0.922071</td>\n    </tr>\n    <tr>\n      <td>1120</td>\n      <td>2018</td>\n      <td>Maine</td>\n      <td>38645.0</td>\n      <td>41370.0</td>\n      <td>43.36738</td>\n      <td>0.934131</td>\n    </tr>\n    <tr>\n      <td>1139</td>\n      <td>2018</td>\n      <td>Oregon</td>\n      <td>167730.0</td>\n      <td>129392.0</td>\n      <td>43.65462</td>\n      <td>1.296293</td>\n    </tr>\n    <tr>\n      <td>1105</td>\n      <td>2018</td>\n      <td>Colorado</td>\n      <td>219776.0</td>\n      <td>161511.0</td>\n      <td>54.91394</td>\n      <td>1.360749</td>\n    </tr>\n    <tr>\n      <td>1116</td>\n      <td>2018</td>\n      <td>Iowa</td>\n      <td>2213.0</td>\n      <td>31245.0</td>\n      <td>56.49188</td>\n      <td>0.070827</td>\n    </tr>\n    <tr>\n      <td>1138</td>\n      <td>2018</td>\n      <td>Oklahoma</td>\n      <td>158710.0</td>\n      <td>133184.0</td>\n      <td>57.42320</td>\n      <td>1.191660</td>\n    </tr>\n    <tr>\n      <td>1103</td>\n      <td>2018</td>\n      <td>Arkansas</td>\n      <td>80350.0</td>\n      <td>90980.0</td>\n      <td>57.88248</td>\n      <td>0.883161</td>\n    </tr>\n    <tr>\n      <td>1102</td>\n      <td>2018</td>\n      <td>Arizona</td>\n      <td>165432.0</td>\n      <td>100359.0</td>\n      <td>63.11124</td>\n      <td>1.648402</td>\n    </tr>\n    <tr>\n      <td>1126</td>\n      <td>2018</td>\n      <td>Mississippi</td>\n      <td>114616.0</td>\n      <td>94514.0</td>\n      <td>63.66918</td>\n      <td>1.212688</td>\n    </tr>\n    <tr>\n      <td>1148</td>\n      <td>2018</td>\n      <td>Vermont</td>\n      <td>18600.0</td>\n      <td>19829.0</td>\n      <td>67.70800</td>\n      <td>0.938020</td>\n    </tr>\n    <tr>\n      <td>1125</td>\n      <td>2018</td>\n      <td>Minnesota</td>\n      <td>64724.0</td>\n      <td>108778.0</td>\n      <td>70.48334</td>\n      <td>0.595010</td>\n    </tr>\n    <tr>\n      <td>1152</td>\n      <td>2018</td>\n      <td>West Virginia</td>\n      <td>88740.0</td>\n      <td>91200.0</td>\n      <td>74.99925</td>\n      <td>0.973026</td>\n    </tr>\n    <tr>\n      <td>1127</td>\n      <td>2018</td>\n      <td>Missouri</td>\n      <td>246344.0</td>\n      <td>200040.0</td>\n      <td>88.93610</td>\n      <td>1.231474</td>\n    </tr>\n    <tr>\n      <td>1100</td>\n      <td>2018</td>\n      <td>Alabama</td>\n      <td>99101.0</td>\n      <td>94386.0</td>\n      <td>96.32412</td>\n      <td>1.049954</td>\n    </tr>\n    <tr>\n      <td>1119</td>\n      <td>2018</td>\n      <td>Louisiana</td>\n      <td>134913.0</td>\n      <td>119628.0</td>\n      <td>106.97346</td>\n      <td>1.127771</td>\n    </tr>\n    <tr>\n      <td>1153</td>\n      <td>2018</td>\n      <td>Wisconsin</td>\n      <td>158189.0</td>\n      <td>149239.0</td>\n      <td>107.04415</td>\n      <td>1.059971</td>\n    </tr>\n    <tr>\n      <td>1146</td>\n      <td>2018</td>\n      <td>Texas</td>\n      <td>604427.0</td>\n      <td>452932.0</td>\n      <td>109.63397</td>\n      <td>1.334476</td>\n    </tr>\n    <tr>\n      <td>1118</td>\n      <td>2018</td>\n      <td>Kentucky</td>\n      <td>133622.0</td>\n      <td>111801.0</td>\n      <td>112.47488</td>\n      <td>1.195177</td>\n    </tr>\n    <tr>\n      <td>1151</td>\n      <td>2018</td>\n      <td>Washington</td>\n      <td>233901.0</td>\n      <td>170797.0</td>\n      <td>113.24223</td>\n      <td>1.369468</td>\n    </tr>\n    <tr>\n      <td>1131</td>\n      <td>2018</td>\n      <td>New Hampshire</td>\n      <td>60637.0</td>\n      <td>37984.0</td>\n      <td>151.25535</td>\n      <td>1.596383</td>\n    </tr>\n    <tr>\n      <td>1145</td>\n      <td>2018</td>\n      <td>Tennessee</td>\n      <td>290656.0</td>\n      <td>179515.0</td>\n      <td>164.25286</td>\n      <td>1.619118</td>\n    </tr>\n    <tr>\n      <td>1143</td>\n      <td>2018</td>\n      <td>South Carolina</td>\n      <td>125509.0</td>\n      <td>81420.0</td>\n      <td>168.85738</td>\n      <td>1.541501</td>\n    </tr>\n    <tr>\n      <td>1124</td>\n      <td>2018</td>\n      <td>Michigan</td>\n      <td>124708.0</td>\n      <td>120327.0</td>\n      <td>175.97203</td>\n      <td>1.036409</td>\n    </tr>\n    <tr>\n      <td>1110</td>\n      <td>2018</td>\n      <td>Georgia</td>\n      <td>180943.0</td>\n      <td>121926.0</td>\n      <td>181.66468</td>\n      <td>1.484039</td>\n    </tr>\n    <tr>\n      <td>1115</td>\n      <td>2018</td>\n      <td>Indiana</td>\n      <td>231244.0</td>\n      <td>153693.0</td>\n      <td>186.57479</td>\n      <td>1.504584</td>\n    </tr>\n    <tr>\n      <td>1135</td>\n      <td>2018</td>\n      <td>North Carolina</td>\n      <td>42987.0</td>\n      <td>168927.0</td>\n      <td>213.16787</td>\n      <td>0.254471</td>\n    </tr>\n    <tr>\n      <td>1150</td>\n      <td>2018</td>\n      <td>Virginia</td>\n      <td>254216.0</td>\n      <td>168947.0</td>\n      <td>215.12565</td>\n      <td>1.504709</td>\n    </tr>\n    <tr>\n      <td>1112</td>\n      <td>2018</td>\n      <td>Hawaii</td>\n      <td>10.0</td>\n      <td>31.0</td>\n      <td>221.15694</td>\n      <td>0.322581</td>\n    </tr>\n    <tr>\n      <td>1114</td>\n      <td>2018</td>\n      <td>Illinois</td>\n      <td>259554.0</td>\n      <td>133987.0</td>\n      <td>229.22208</td>\n      <td>1.937158</td>\n    </tr>\n    <tr>\n      <td>1104</td>\n      <td>2018</td>\n      <td>California</td>\n      <td>439363.0</td>\n      <td>317334.0</td>\n      <td>253.63746</td>\n      <td>1.384544</td>\n    </tr>\n    <tr>\n      <td>1137</td>\n      <td>2018</td>\n      <td>Ohio</td>\n      <td>292598.0</td>\n      <td>205563.0</td>\n      <td>285.47040</td>\n      <td>1.423398</td>\n    </tr>\n    <tr>\n      <td>1140</td>\n      <td>2018</td>\n      <td>Pennsylvania</td>\n      <td>541488.0</td>\n      <td>171206.0</td>\n      <td>285.76344</td>\n      <td>3.162786</td>\n    </tr>\n    <tr>\n      <td>1109</td>\n      <td>2018</td>\n      <td>Florida</td>\n      <td>643595.0</td>\n      <td>260111.0</td>\n      <td>394.96588</td>\n      <td>2.474309</td>\n    </tr>\n    <tr>\n      <td>1134</td>\n      <td>2018</td>\n      <td>New York</td>\n      <td>114799.0</td>\n      <td>169765.0</td>\n      <td>413.90708</td>\n      <td>0.676223</td>\n    </tr>\n    <tr>\n      <td>1107</td>\n      <td>2018</td>\n      <td>Delaware</td>\n      <td>20520.0</td>\n      <td>18907.0</td>\n      <td>494.96981</td>\n      <td>1.085312</td>\n    </tr>\n    <tr>\n      <td>1122</td>\n      <td>2018</td>\n      <td>Maryland</td>\n      <td>54329.0</td>\n      <td>63380.0</td>\n      <td>618.24412</td>\n      <td>0.857195</td>\n    </tr>\n    <tr>\n      <td>1106</td>\n      <td>2018</td>\n      <td>Connecticut</td>\n      <td>60631.0</td>\n      <td>24573.0</td>\n      <td>737.39216</td>\n      <td>2.467383</td>\n    </tr>\n    <tr>\n      <td>1123</td>\n      <td>2018</td>\n      <td>Massachusetts</td>\n      <td>53787.0</td>\n      <td>33396.0</td>\n      <td>880.37615</td>\n      <td>1.610582</td>\n    </tr>\n    <tr>\n      <td>1142</td>\n      <td>2018</td>\n      <td>Rhode Island</td>\n      <td>12619.0</td>\n      <td>8739.0</td>\n      <td>1011.78469</td>\n      <td>1.443987</td>\n    </tr>\n    <tr>\n      <td>1132</td>\n      <td>2018</td>\n      <td>New Jersey</td>\n      <td>51231.0</td>\n      <td>39614.0</td>\n      <td>1201.09478</td>\n      <td>1.293255</td>\n    </tr>\n    <tr>\n      <td>1108</td>\n      <td>2018</td>\n      <td>District of Columbia</td>\n      <td>976.0</td>\n      <td>40.0</td>\n      <td>11515.65574</td>\n      <td>24.400000</td>\n    </tr>\n  </tbody>\n</table>\n</div>"
     },
     "metadata": {},
     "execution_count": 15
    }
   ],
   "source": [
    "pop_sorted_nics_2018_df\n",
    ""
   ]
  },
  {
   "cell_type": "code",
   "execution_count": 16,
   "metadata": {},
   "outputs": [
    {
     "output_type": "error",
     "ename": "NameError",
     "evalue": "name 'C' is not defined",
     "traceback": [
      "\u001b[0;31m---------------------------------------------------------------------------\u001b[0m",
      "\u001b[0;31mNameError\u001b[0m                                 Traceback (most recent call last)",
      "\u001b[0;32m<ipython-input-16-6fa8c5733662>\u001b[0m in \u001b[0;36m<module>\u001b[0;34m\u001b[0m\n\u001b[0;32m----> 1\u001b[0;31m \u001b[0mC\u001b[0m\u001b[0;34m\u001b[0m\u001b[0;34m\u001b[0m\u001b[0m\n\u001b[0m",
      "\u001b[0;31mNameError\u001b[0m: name 'C' is not defined"
     ]
    }
   ],
   "source": [
    "#C"
   ]
  },
  {
   "cell_type": "code",
   "execution_count": 17,
   "metadata": {},
   "outputs": [],
   "source": [
    "# #Thanks to Bunji from https://stackoverflow.com/questions/35634238/how-to-save-a-pandas-dataframe-table-as-a-png for this code\n",
    "# from pandas.plotting import table\n",
    "# nics_describe = nics_2018_df.describe()\n",
    "# fig, ax = plt.subplots(figsize=(10,5)) \n",
    "# ax.xaxis.set_visible(False)\n",
    "# ax.yaxis.set_visible(False) \n",
    "\n",
    "# table(ax, nics_describe)  # where df is your data frame"
   ]
  },
  {
   "cell_type": "code",
   "execution_count": 18,
   "metadata": {},
   "outputs": [],
   "source": [
    "#nics_2018_describe = nics_2018_df.describe()\n",
    "nics_2018_describe.to_csv('data/nics_2018_describe.csv')"
   ]
  },
  {
   "cell_type": "code",
   "execution_count": 19,
   "metadata": {},
   "outputs": [
    {
     "output_type": "error",
     "ename": "NameError",
     "evalue": "name 'nics_2018_df_noDC' is not defined",
     "traceback": [
      "\u001b[0;31m---------------------------------------------------------------------------\u001b[0m",
      "\u001b[0;31mNameError\u001b[0m                                 Traceback (most recent call last)",
      "\u001b[0;32m<ipython-input-19-fc6411774c33>\u001b[0m in \u001b[0;36m<module>\u001b[0;34m\u001b[0m\n\u001b[0;32m----> 1\u001b[0;31m \u001b[0mnics_2018_df_noDC_describe\u001b[0m \u001b[0;34m=\u001b[0m \u001b[0mnics_2018_df_noDC\u001b[0m\u001b[0;34m.\u001b[0m\u001b[0mdescribe\u001b[0m\u001b[0;34m(\u001b[0m\u001b[0;34m)\u001b[0m\u001b[0;34m\u001b[0m\u001b[0;34m\u001b[0m\u001b[0m\n\u001b[0m\u001b[1;32m      2\u001b[0m \u001b[0mnics_2018_df_noDC_describe\u001b[0m\u001b[0;34m.\u001b[0m\u001b[0mto_csv\u001b[0m\u001b[0;34m(\u001b[0m\u001b[0;34m'data/nics_2018_noDC_describe.csv'\u001b[0m\u001b[0;34m)\u001b[0m\u001b[0;34m\u001b[0m\u001b[0;34m\u001b[0m\u001b[0m\n",
      "\u001b[0;31mNameError\u001b[0m: name 'nics_2018_df_noDC' is not defined"
     ]
    }
   ],
   "source": [
    "#nics_2018_df_noDC_describe = nics_2018_df_noDC.describe()\n",
    "nics_2018_df_noDC_describe.to_csv('data/nics_2018_noDC_describe.csv')"
   ]
  },
  {
   "cell_type": "markdown",
   "metadata": {},
   "source": [
    "\\\\aprox"
   ]
  },
  {
   "cell_type": "markdown",
   "metadata": {},
   "source": [
    "Example:\n",
    "    \n",
    "    District of Columbia = 976 handgun applications and 40 rifle applications equate to a 24.4\n",
    "    Montana = 38393 handgun applications and 58497 rifle applications for a proportion of .66"
   ]
  },
  {
   "cell_type": "code",
   "execution_count": null,
   "metadata": {},
   "outputs": [],
   "source": []
  }
 ]
}