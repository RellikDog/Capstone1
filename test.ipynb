{
 "nbformat": 4,
 "nbformat_minor": 2,
 "metadata": {
  "language_info": {
   "name": "python",
   "codemirror_mode": {
    "name": "ipython",
    "version": 3
   },
   "version": "3.7.4-final"
  },
  "orig_nbformat": 2,
  "file_extension": ".py",
  "mimetype": "text/x-python",
  "name": "python",
  "npconvert_exporter": "python",
  "pygments_lexer": "ipython3",
  "version": 3,
  "kernelspec": {
   "name": "python3",
   "display_name": "Python 3"
  }
 },
 "cells": [
  {
   "cell_type": "markdown",
   "metadata": {},
   "source": [
    "# Module Import Cell"
   ]
  },
  {
   "cell_type": "code",
   "execution_count": 1,
   "metadata": {},
   "outputs": [],
   "source": [
    "%matplotlib inline\n",
    "import matplotlib\n",
    "import numpy as np \n",
    "import matplotlib.pyplot as plt \n",
    "import pandas as pd\n",
    "plt.style.use('ggplot') "
   ]
  },
  {
   "cell_type": "markdown",
   "metadata": {},
   "source": [
    "## Data Import Cell"
   ]
  },
  {
   "cell_type": "code",
   "execution_count": 2,
   "metadata": {},
   "outputs": [],
   "source": [
    "#Available population density by state and year meassured in persons per square mile\n",
    "pop_df = pd.read_csv('data/Historical_Population_Density_States_only_RAND_US_1.csv')\n",
    "#---------------------------------------------------------------------------------------\n",
    "#Available firearm background check data\n",
    "nics_df = pd.read_csv('data/nics-firearm-background-checks.csv')"
   ]
  },
  {
   "cell_type": "code",
   "execution_count": 3,
   "metadata": {},
   "outputs": [],
   "source": [
    "#Change month to y-m for year by month\n",
    "nics_df = nics_df.rename(columns={'month': 'y&m'})\n",
    "#Add year column to group by\n",
    "nics_df['year'] = list(map(lambda x: x.split('-')[0], nics_df['y&m']))\n",
    "#Defining columns to combine\n",
    "handgun_list = ['handgun', 'prepawn_handgun', 'redemption_handgun', 'returned_handgun', 'rentals_handgun', 'private_sale_handgun', 'return_to_seller_handgun']\n",
    "long_gun_list = ['long_gun', 'prepawn_long_gun', 'redemption_long_gun', 'returned_long_gun', 'rentals_long_gun', 'private_sale_long_gun', 'return_to_seller_long_gun']\n",
    "#Create combined columns\n",
    "nics_df['total_handgun'] = nics_df[handgun_list].sum(axis=1)\n",
    "nics_df['total_long_gun'] = nics_df[long_gun_list].sum(axis=1)\n",
    "#Group by year then state\n",
    "year_state_group = nics_df.groupby(('year', 'state')).sum()\n",
    "#Collect the columns we want and reset index\n",
    "clean_nics_df = year_state_group[['total_handgun', 'total_long_gun']]\n",
    "clean_nics_df = clean_nics_df.reset_index()\n",
    "#Remove any year not between 1999 and 2018 and assign to my_nics_df\n",
    "clean_nics_df['year'] = pd.to_numeric(clean_nics_df['year'])\n",
    "my_nics_df = clean_nics_df.loc[(clean_nics_df['year'] < 2019) & (clean_nics_df['year'] > 1998)] \n",
    "#Test: Expect 1100 rows (50 states + DC, Guam, Puerto Rico, Mariana Islands, and Virgin Islands X 20 years) and 4 columns\n",
    "#my_nics_df.head()"
   ]
  },
  {
   "cell_type": "code",
   "execution_count": 4,
   "metadata": {},
   "outputs": [],
   "source": [
    "#Droping NA Values\n",
    "cleaner_pop_df = pop_df.dropna(axis=1)\n",
    "#Keeping area and years from 1999 - 2018\n",
    "cleaner_pop_df = cleaner_pop_df.loc[:, ['Area'] + list(map(str, range(1999, 2019)))]\n",
    "#Rename 'Area' column to be more descriptive\n",
    "my_pop_df = cleaner_pop_df.rename(columns={'Area': 'State'})\n",
    "my_pop_df = my_pop_df[my_pop_df['State'] != 'United States']\n",
    "#test: expect 52 rows(50 states, DC, and US), 21 columns(State name + data from 1999 - 2018)\n",
    "#my_pop_df\n",
    "#my_pop_df.shape"
   ]
  },
  {
   "cell_type": "code",
   "execution_count": 5,
   "metadata": {},
   "outputs": [],
   "source": [
    "# new_my_pop_df = my_pop_df.loc[:, ['State', '2018']]\n",
    "# #new_my_pop_df = new_my_pop_df[new_my_pop_df['State'] != 'United States']\n",
    "# my_2018_pop_df = new_my_pop_df"
   ]
  },
  {
   "cell_type": "code",
   "execution_count": 6,
   "metadata": {},
   "outputs": [],
   "source": [
    "# nics_2018_df = my_nics_df[my_nics_df['year'] == 2018]\n",
    "# rows_to_drop = ['Guam', 'Mariana Islands', 'Puerto Rico', 'Virgin Islands']\n",
    "# for row in rows_to_drop:\n",
    "#     nics_2018_df = nics_2018_df[nics_2018_df['state'] != row]\n",
    "# nics_2018_df.shape"
   ]
  },
  {
   "cell_type": "code",
   "execution_count": 7,
   "metadata": {},
   "outputs": [],
   "source": [
    "# temp = np.array(my_2018_pop_df['2018'])\n",
    "# nics_2018_df['pop_density'] = temp\n",
    "# nics_2018_df['handgun/long_gun'] = nics_2018_df['total_handgun'] / nics_2018_df['total_long_gun']\n",
    "# #nics_2018_df\n",
    "\n",
    "# pop_sorted_nics_2018_df = nics_2018_df.sort_values('pop_density')\n",
    "# #pop_sorted_nics_2018_df"
   ]
  },
  {
   "cell_type": "code",
   "execution_count": 8,
   "metadata": {},
   "outputs": [
    {
     "output_type": "execute_result",
     "data": {
      "text/plain": "    year       state  total_handgun  total_long_gun\n55  1999     Alabama        94544.0        149017.0\n56  1999      Alaska        14339.0         27790.0\n57  1999     Arizona        78103.0         71365.0\n58  1999    Arkansas        50523.0        126875.0\n59  1999  California       371893.0        410119.0",
      "text/html": "<div>\n<style scoped>\n    .dataframe tbody tr th:only-of-type {\n        vertical-align: middle;\n    }\n\n    .dataframe tbody tr th {\n        vertical-align: top;\n    }\n\n    .dataframe thead th {\n        text-align: right;\n    }\n</style>\n<table border=\"1\" class=\"dataframe\">\n  <thead>\n    <tr style=\"text-align: right;\">\n      <th></th>\n      <th>year</th>\n      <th>state</th>\n      <th>total_handgun</th>\n      <th>total_long_gun</th>\n    </tr>\n  </thead>\n  <tbody>\n    <tr>\n      <td>55</td>\n      <td>1999</td>\n      <td>Alabama</td>\n      <td>94544.0</td>\n      <td>149017.0</td>\n    </tr>\n    <tr>\n      <td>56</td>\n      <td>1999</td>\n      <td>Alaska</td>\n      <td>14339.0</td>\n      <td>27790.0</td>\n    </tr>\n    <tr>\n      <td>57</td>\n      <td>1999</td>\n      <td>Arizona</td>\n      <td>78103.0</td>\n      <td>71365.0</td>\n    </tr>\n    <tr>\n      <td>58</td>\n      <td>1999</td>\n      <td>Arkansas</td>\n      <td>50523.0</td>\n      <td>126875.0</td>\n    </tr>\n    <tr>\n      <td>59</td>\n      <td>1999</td>\n      <td>California</td>\n      <td>371893.0</td>\n      <td>410119.0</td>\n    </tr>\n  </tbody>\n</table>\n</div>"
     },
     "metadata": {},
     "execution_count": 8
    }
   ],
   "source": [
    "my_nics_df.head()"
   ]
  },
  {
   "cell_type": "code",
   "execution_count": 9,
   "metadata": {},
   "outputs": [
    {
     "output_type": "execute_result",
     "data": {
      "text/plain": "      year          state  total_handgun  total_long_gun\n1150  2018       Virginia       254216.0        168947.0\n1151  2018     Washington       233901.0        170797.0\n1152  2018  West Virginia        88740.0         91200.0\n1153  2018      Wisconsin       158189.0        149239.0\n1154  2018        Wyoming        23556.0         27399.0",
      "text/html": "<div>\n<style scoped>\n    .dataframe tbody tr th:only-of-type {\n        vertical-align: middle;\n    }\n\n    .dataframe tbody tr th {\n        vertical-align: top;\n    }\n\n    .dataframe thead th {\n        text-align: right;\n    }\n</style>\n<table border=\"1\" class=\"dataframe\">\n  <thead>\n    <tr style=\"text-align: right;\">\n      <th></th>\n      <th>year</th>\n      <th>state</th>\n      <th>total_handgun</th>\n      <th>total_long_gun</th>\n    </tr>\n  </thead>\n  <tbody>\n    <tr>\n      <td>1150</td>\n      <td>2018</td>\n      <td>Virginia</td>\n      <td>254216.0</td>\n      <td>168947.0</td>\n    </tr>\n    <tr>\n      <td>1151</td>\n      <td>2018</td>\n      <td>Washington</td>\n      <td>233901.0</td>\n      <td>170797.0</td>\n    </tr>\n    <tr>\n      <td>1152</td>\n      <td>2018</td>\n      <td>West Virginia</td>\n      <td>88740.0</td>\n      <td>91200.0</td>\n    </tr>\n    <tr>\n      <td>1153</td>\n      <td>2018</td>\n      <td>Wisconsin</td>\n      <td>158189.0</td>\n      <td>149239.0</td>\n    </tr>\n    <tr>\n      <td>1154</td>\n      <td>2018</td>\n      <td>Wyoming</td>\n      <td>23556.0</td>\n      <td>27399.0</td>\n    </tr>\n  </tbody>\n</table>\n</div>"
     },
     "metadata": {},
     "execution_count": 9
    }
   ],
   "source": [
    "my_nics_df.tail()"
   ]
  },
  {
   "cell_type": "code",
   "execution_count": 19,
   "metadata": {},
   "outputs": [
    {
     "output_type": "execute_result",
     "data": {
      "text/plain": "(1020, 4)"
     },
     "metadata": {},
     "execution_count": 19
    }
   ],
   "source": [
    "my_nics_df.shape"
   ]
  },
  {
   "cell_type": "code",
   "execution_count": 12,
   "metadata": {},
   "outputs": [
    {
     "output_type": "execute_result",
     "data": {
      "text/plain": "        State       1999       2000       2001       2002       2003  \\\n0     Alabama   86.11584   87.73153   87.97166   88.13692   88.49501   \n1      Alaska    1.08313    1.09712    1.10729    1.12368    1.13801   \n2     Arizona   42.04999   45.46765   46.67961   47.97931   49.20339   \n3    Arkansas   49.00063   51.43811   51.68355   51.94598   52.28321   \n4  California  212.52412  217.97073  221.11932  223.62363  226.02755   \n\n        2004       2005       2006       2007  ...       2009       2010  \\\n0   88.92066   89.56821   90.60555   91.39808  ...   92.79339   94.30569   \n1    1.15669    1.17053    1.18424    1.19293  ...    1.22121    1.24819   \n2   50.68374   52.57937   54.49134   55.98860  ...   58.04376   56.38909   \n3   52.74165   53.31897   54.06560   54.58602  ...   55.49360   56.11850   \n4  227.99801  229.51658  230.69608  232.27927  ...  236.99551  239.29945   \n\n        2011       2012       2013       2014       2015       2016  \\\n0   94.56949   94.89918   95.19273   95.42963   95.64008   95.86838   \n1    1.26241    1.27703    1.28865    1.28736    1.28953    1.29645   \n2   56.96746   57.69903   58.38869   59.25850   60.13637   61.12071   \n3   56.47244   56.69718   56.84007   56.99712   57.20225   57.43278   \n4  241.35717  243.40232  245.45441  247.66214  249.76527  251.40663   \n\n        2017       2018  \n0   96.07284   96.32412  \n1    1.29344    1.28934  \n2   62.03085   63.11124  \n3   57.67452   57.88248  \n4  252.62632  253.63746  \n\n[5 rows x 21 columns]",
      "text/html": "<div>\n<style scoped>\n    .dataframe tbody tr th:only-of-type {\n        vertical-align: middle;\n    }\n\n    .dataframe tbody tr th {\n        vertical-align: top;\n    }\n\n    .dataframe thead th {\n        text-align: right;\n    }\n</style>\n<table border=\"1\" class=\"dataframe\">\n  <thead>\n    <tr style=\"text-align: right;\">\n      <th></th>\n      <th>State</th>\n      <th>1999</th>\n      <th>2000</th>\n      <th>2001</th>\n      <th>2002</th>\n      <th>2003</th>\n      <th>2004</th>\n      <th>2005</th>\n      <th>2006</th>\n      <th>2007</th>\n      <th>...</th>\n      <th>2009</th>\n      <th>2010</th>\n      <th>2011</th>\n      <th>2012</th>\n      <th>2013</th>\n      <th>2014</th>\n      <th>2015</th>\n      <th>2016</th>\n      <th>2017</th>\n      <th>2018</th>\n    </tr>\n  </thead>\n  <tbody>\n    <tr>\n      <td>0</td>\n      <td>Alabama</td>\n      <td>86.11584</td>\n      <td>87.73153</td>\n      <td>87.97166</td>\n      <td>88.13692</td>\n      <td>88.49501</td>\n      <td>88.92066</td>\n      <td>89.56821</td>\n      <td>90.60555</td>\n      <td>91.39808</td>\n      <td>...</td>\n      <td>92.79339</td>\n      <td>94.30569</td>\n      <td>94.56949</td>\n      <td>94.89918</td>\n      <td>95.19273</td>\n      <td>95.42963</td>\n      <td>95.64008</td>\n      <td>95.86838</td>\n      <td>96.07284</td>\n      <td>96.32412</td>\n    </tr>\n    <tr>\n      <td>1</td>\n      <td>Alaska</td>\n      <td>1.08313</td>\n      <td>1.09712</td>\n      <td>1.10729</td>\n      <td>1.12368</td>\n      <td>1.13801</td>\n      <td>1.15669</td>\n      <td>1.17053</td>\n      <td>1.18424</td>\n      <td>1.19293</td>\n      <td>...</td>\n      <td>1.22121</td>\n      <td>1.24819</td>\n      <td>1.26241</td>\n      <td>1.27703</td>\n      <td>1.28865</td>\n      <td>1.28736</td>\n      <td>1.28953</td>\n      <td>1.29645</td>\n      <td>1.29344</td>\n      <td>1.28934</td>\n    </tr>\n    <tr>\n      <td>2</td>\n      <td>Arizona</td>\n      <td>42.04999</td>\n      <td>45.46765</td>\n      <td>46.67961</td>\n      <td>47.97931</td>\n      <td>49.20339</td>\n      <td>50.68374</td>\n      <td>52.57937</td>\n      <td>54.49134</td>\n      <td>55.98860</td>\n      <td>...</td>\n      <td>58.04376</td>\n      <td>56.38909</td>\n      <td>56.96746</td>\n      <td>57.69903</td>\n      <td>58.38869</td>\n      <td>59.25850</td>\n      <td>60.13637</td>\n      <td>61.12071</td>\n      <td>62.03085</td>\n      <td>63.11124</td>\n    </tr>\n    <tr>\n      <td>3</td>\n      <td>Arkansas</td>\n      <td>49.00063</td>\n      <td>51.43811</td>\n      <td>51.68355</td>\n      <td>51.94598</td>\n      <td>52.28321</td>\n      <td>52.74165</td>\n      <td>53.31897</td>\n      <td>54.06560</td>\n      <td>54.58602</td>\n      <td>...</td>\n      <td>55.49360</td>\n      <td>56.11850</td>\n      <td>56.47244</td>\n      <td>56.69718</td>\n      <td>56.84007</td>\n      <td>56.99712</td>\n      <td>57.20225</td>\n      <td>57.43278</td>\n      <td>57.67452</td>\n      <td>57.88248</td>\n    </tr>\n    <tr>\n      <td>4</td>\n      <td>California</td>\n      <td>212.52412</td>\n      <td>217.97073</td>\n      <td>221.11932</td>\n      <td>223.62363</td>\n      <td>226.02755</td>\n      <td>227.99801</td>\n      <td>229.51658</td>\n      <td>230.69608</td>\n      <td>232.27927</td>\n      <td>...</td>\n      <td>236.99551</td>\n      <td>239.29945</td>\n      <td>241.35717</td>\n      <td>243.40232</td>\n      <td>245.45441</td>\n      <td>247.66214</td>\n      <td>249.76527</td>\n      <td>251.40663</td>\n      <td>252.62632</td>\n      <td>253.63746</td>\n    </tr>\n  </tbody>\n</table>\n<p>5 rows × 21 columns</p>\n</div>"
     },
     "metadata": {},
     "execution_count": 12
    }
   ],
   "source": [
    "my_pop_df.head()"
   ]
  },
  {
   "cell_type": "code",
   "execution_count": 13,
   "metadata": {},
   "outputs": [
    {
     "output_type": "execute_result",
     "data": {
      "text/plain": "            State       1999       2000       2001       2002       2003  \\\n47       Virginia  173.58438  179.43427  181.62578  183.95535  186.23228   \n48     Washington   86.50451   88.83020   89.98226   91.01018   91.86788   \n49  West Virginia   75.04561   75.04702   74.69899   74.73342   74.85083   \n50      Wisconsin   96.67531   98.95496   99.59048  100.29011  100.84305   \n51        Wyoming    4.93924    5.08709    5.07703    5.11912    5.14096   \n\n         2004       2005       2006       2007  ...       2009       2010  \\\n47  188.63719  191.03585  193.13488  194.97235  ...  199.08512  202.64889   \n48   92.93525   94.09228   95.75976   97.15336  ...  100.14711  101.32998   \n49   74.89502   74.92068   75.05845   75.22295  ...   75.57926   77.00864   \n50  101.47993  102.03338  102.59013  103.14050  ...  104.12012  104.77774   \n51    5.18008    5.21359    5.28155    5.39044  ...    5.60523    5.81342   \n\n         2011       2012       2013       2014       2015       2016  \\\n47  204.58830  206.72902  208.44201  209.93272  211.21652  212.42981   \n48  102.51345  103.58373  104.63612  105.98159  107.65122  109.62190   \n49   77.08589   77.11454   76.99448   76.81149   76.50120   76.04157   \n50  105.04060  105.31863  105.63344  105.91003  106.08370  106.29641   \n51    5.84165    5.93481    5.99509    5.99946    6.03160    6.01740   \n\n         2017       2018  \n47  213.80025  215.12565  \n48  111.58680  113.24223  \n49   75.46507   74.99925  \n50  106.64797  107.04415  \n51    5.96225    5.94992  \n\n[5 rows x 21 columns]",
      "text/html": "<div>\n<style scoped>\n    .dataframe tbody tr th:only-of-type {\n        vertical-align: middle;\n    }\n\n    .dataframe tbody tr th {\n        vertical-align: top;\n    }\n\n    .dataframe thead th {\n        text-align: right;\n    }\n</style>\n<table border=\"1\" class=\"dataframe\">\n  <thead>\n    <tr style=\"text-align: right;\">\n      <th></th>\n      <th>State</th>\n      <th>1999</th>\n      <th>2000</th>\n      <th>2001</th>\n      <th>2002</th>\n      <th>2003</th>\n      <th>2004</th>\n      <th>2005</th>\n      <th>2006</th>\n      <th>2007</th>\n      <th>...</th>\n      <th>2009</th>\n      <th>2010</th>\n      <th>2011</th>\n      <th>2012</th>\n      <th>2013</th>\n      <th>2014</th>\n      <th>2015</th>\n      <th>2016</th>\n      <th>2017</th>\n      <th>2018</th>\n    </tr>\n  </thead>\n  <tbody>\n    <tr>\n      <td>47</td>\n      <td>Virginia</td>\n      <td>173.58438</td>\n      <td>179.43427</td>\n      <td>181.62578</td>\n      <td>183.95535</td>\n      <td>186.23228</td>\n      <td>188.63719</td>\n      <td>191.03585</td>\n      <td>193.13488</td>\n      <td>194.97235</td>\n      <td>...</td>\n      <td>199.08512</td>\n      <td>202.64889</td>\n      <td>204.58830</td>\n      <td>206.72902</td>\n      <td>208.44201</td>\n      <td>209.93272</td>\n      <td>211.21652</td>\n      <td>212.42981</td>\n      <td>213.80025</td>\n      <td>215.12565</td>\n    </tr>\n    <tr>\n      <td>48</td>\n      <td>Washington</td>\n      <td>86.50451</td>\n      <td>88.83020</td>\n      <td>89.98226</td>\n      <td>91.01018</td>\n      <td>91.86788</td>\n      <td>92.93525</td>\n      <td>94.09228</td>\n      <td>95.75976</td>\n      <td>97.15336</td>\n      <td>...</td>\n      <td>100.14711</td>\n      <td>101.32998</td>\n      <td>102.51345</td>\n      <td>103.58373</td>\n      <td>104.63612</td>\n      <td>105.98159</td>\n      <td>107.65122</td>\n      <td>109.62190</td>\n      <td>111.58680</td>\n      <td>113.24223</td>\n    </tr>\n    <tr>\n      <td>49</td>\n      <td>West Virginia</td>\n      <td>75.04561</td>\n      <td>75.04702</td>\n      <td>74.69899</td>\n      <td>74.73342</td>\n      <td>74.85083</td>\n      <td>74.89502</td>\n      <td>74.92068</td>\n      <td>75.05845</td>\n      <td>75.22295</td>\n      <td>...</td>\n      <td>75.57926</td>\n      <td>77.00864</td>\n      <td>77.08589</td>\n      <td>77.11454</td>\n      <td>76.99448</td>\n      <td>76.81149</td>\n      <td>76.50120</td>\n      <td>76.04157</td>\n      <td>75.46507</td>\n      <td>74.99925</td>\n    </tr>\n    <tr>\n      <td>50</td>\n      <td>Wisconsin</td>\n      <td>96.67531</td>\n      <td>98.95496</td>\n      <td>99.59048</td>\n      <td>100.29011</td>\n      <td>100.84305</td>\n      <td>101.47993</td>\n      <td>102.03338</td>\n      <td>102.59013</td>\n      <td>103.14050</td>\n      <td>...</td>\n      <td>104.12012</td>\n      <td>104.77774</td>\n      <td>105.04060</td>\n      <td>105.31863</td>\n      <td>105.63344</td>\n      <td>105.91003</td>\n      <td>106.08370</td>\n      <td>106.29641</td>\n      <td>106.64797</td>\n      <td>107.04415</td>\n    </tr>\n    <tr>\n      <td>51</td>\n      <td>Wyoming</td>\n      <td>4.93924</td>\n      <td>5.08709</td>\n      <td>5.07703</td>\n      <td>5.11912</td>\n      <td>5.14096</td>\n      <td>5.18008</td>\n      <td>5.21359</td>\n      <td>5.28155</td>\n      <td>5.39044</td>\n      <td>...</td>\n      <td>5.60523</td>\n      <td>5.81342</td>\n      <td>5.84165</td>\n      <td>5.93481</td>\n      <td>5.99509</td>\n      <td>5.99946</td>\n      <td>6.03160</td>\n      <td>6.01740</td>\n      <td>5.96225</td>\n      <td>5.94992</td>\n    </tr>\n  </tbody>\n</table>\n<p>5 rows × 21 columns</p>\n</div>"
     },
     "metadata": {},
     "execution_count": 13
    }
   ],
   "source": [
    "my_pop_df.tail()"
   ]
  },
  {
   "cell_type": "code",
   "execution_count": 11,
   "metadata": {},
   "outputs": [
    {
     "output_type": "execute_result",
     "data": {
      "text/plain": "(51, 21)"
     },
     "metadata": {},
     "execution_count": 11
    }
   ],
   "source": [
    "my_pop_df.shape"
   ]
  },
  {
   "cell_type": "code",
   "execution_count": 14,
   "metadata": {},
   "outputs": [
    {
     "output_type": "execute_result",
     "data": {
      "text/plain": "(55, 4)"
     },
     "metadata": {},
     "execution_count": 14
    }
   ],
   "source": [
    "my_nics_df[my_nics_df['year'] == 2005].shape"
   ]
  },
  {
   "cell_type": "code",
   "execution_count": 15,
   "metadata": {},
   "outputs": [
    {
     "output_type": "execute_result",
     "data": {
      "text/plain": "(51,)"
     },
     "metadata": {},
     "execution_count": 15
    }
   ],
   "source": [
    "my_pop_df['2005'].shape"
   ]
  },
  {
   "cell_type": "code",
   "execution_count": 18,
   "metadata": {},
   "outputs": [],
   "source": [
    "rows_to_drop = ['Guam', 'Mariana Islands', 'Puerto Rico', 'Virgin Islands']\n",
    "for row in rows_to_drop:\n",
    "    my_nics_df = my_nics_df[my_nics_df['state'] != row]\n",
    ""
   ]
  },
  {
   "cell_type": "code",
   "execution_count": 43,
   "metadata": {},
   "outputs": [],
   "source": [
    "df_dict = {}\n",
    "year_list = [i for i in range(1999, 2019)]\n",
    "s_year_list =[str(s) for s in year_list]\n",
    "for index, year_s in enumerate(s_year_list):\n",
    "    df_dict[year_s] = my_nics_df[my_nics_df['year'] == year_list[index]]\n",
    "    df_dict[year_s]['pop_density'] = np.array(my_pop_df[year_s])"
   ]
  },
  {
   "cell_type": "code",
   "execution_count": 23,
   "metadata": {},
   "outputs": [],
   "source": [
    "df_list = [df_dict[year_s] for year_s in s_year_list]"
   ]
  },
  {
   "cell_type": "code",
   "execution_count": 24,
   "metadata": {},
   "outputs": [],
   "source": [
    "all_df = pd.concat(df_list)"
   ]
  },
  {
   "cell_type": "code",
   "execution_count": 25,
   "metadata": {},
   "outputs": [
    {
     "output_type": "execute_result",
     "data": {
      "text/plain": "      year          state  total_handgun  total_long_gun  pop_density\n55    1999        Alabama        94544.0        149017.0     86.11584\n56    1999         Alaska        14339.0         27790.0      1.08313\n57    1999        Arizona        78103.0         71365.0     42.04999\n58    1999       Arkansas        50523.0        126875.0     49.00063\n59    1999     California       371893.0        410119.0    212.52412\n...    ...            ...            ...             ...          ...\n1150  2018       Virginia       254216.0        168947.0    215.12565\n1151  2018     Washington       233901.0        170797.0    113.24223\n1152  2018  West Virginia        88740.0         91200.0     74.99925\n1153  2018      Wisconsin       158189.0        149239.0    107.04415\n1154  2018        Wyoming        23556.0         27399.0      5.94992\n\n[1020 rows x 5 columns]",
      "text/html": "<div>\n<style scoped>\n    .dataframe tbody tr th:only-of-type {\n        vertical-align: middle;\n    }\n\n    .dataframe tbody tr th {\n        vertical-align: top;\n    }\n\n    .dataframe thead th {\n        text-align: right;\n    }\n</style>\n<table border=\"1\" class=\"dataframe\">\n  <thead>\n    <tr style=\"text-align: right;\">\n      <th></th>\n      <th>year</th>\n      <th>state</th>\n      <th>total_handgun</th>\n      <th>total_long_gun</th>\n      <th>pop_density</th>\n    </tr>\n  </thead>\n  <tbody>\n    <tr>\n      <td>55</td>\n      <td>1999</td>\n      <td>Alabama</td>\n      <td>94544.0</td>\n      <td>149017.0</td>\n      <td>86.11584</td>\n    </tr>\n    <tr>\n      <td>56</td>\n      <td>1999</td>\n      <td>Alaska</td>\n      <td>14339.0</td>\n      <td>27790.0</td>\n      <td>1.08313</td>\n    </tr>\n    <tr>\n      <td>57</td>\n      <td>1999</td>\n      <td>Arizona</td>\n      <td>78103.0</td>\n      <td>71365.0</td>\n      <td>42.04999</td>\n    </tr>\n    <tr>\n      <td>58</td>\n      <td>1999</td>\n      <td>Arkansas</td>\n      <td>50523.0</td>\n      <td>126875.0</td>\n      <td>49.00063</td>\n    </tr>\n    <tr>\n      <td>59</td>\n      <td>1999</td>\n      <td>California</td>\n      <td>371893.0</td>\n      <td>410119.0</td>\n      <td>212.52412</td>\n    </tr>\n    <tr>\n      <td>...</td>\n      <td>...</td>\n      <td>...</td>\n      <td>...</td>\n      <td>...</td>\n      <td>...</td>\n    </tr>\n    <tr>\n      <td>1150</td>\n      <td>2018</td>\n      <td>Virginia</td>\n      <td>254216.0</td>\n      <td>168947.0</td>\n      <td>215.12565</td>\n    </tr>\n    <tr>\n      <td>1151</td>\n      <td>2018</td>\n      <td>Washington</td>\n      <td>233901.0</td>\n      <td>170797.0</td>\n      <td>113.24223</td>\n    </tr>\n    <tr>\n      <td>1152</td>\n      <td>2018</td>\n      <td>West Virginia</td>\n      <td>88740.0</td>\n      <td>91200.0</td>\n      <td>74.99925</td>\n    </tr>\n    <tr>\n      <td>1153</td>\n      <td>2018</td>\n      <td>Wisconsin</td>\n      <td>158189.0</td>\n      <td>149239.0</td>\n      <td>107.04415</td>\n    </tr>\n    <tr>\n      <td>1154</td>\n      <td>2018</td>\n      <td>Wyoming</td>\n      <td>23556.0</td>\n      <td>27399.0</td>\n      <td>5.94992</td>\n    </tr>\n  </tbody>\n</table>\n<p>1020 rows × 5 columns</p>\n</div>"
     },
     "metadata": {},
     "execution_count": 25
    }
   ],
   "source": [
    "all_df"
   ]
  },
  {
   "cell_type": "code",
   "execution_count": 35,
   "metadata": {},
   "outputs": [
    {
     "output_type": "display_data",
     "data": {
      "application/vnd.plotly.v1+json": {
       "config": {
        "plotlyServerURL": "https://plot.ly"
       },
       "data": [
        {
         "hovertemplate": "state=Alabama<br>year=%{x}<br>pop_density=%{y}<br>total_handgun=%{z}<extra></extra>",
         "legendgroup": "Alabama",
         "line": {
          "color": "#636efa",
          "dash": "solid"
         },
         "mode": "lines",
         "name": "Alabama",
         "scene": "scene",
         "showlegend": true,
         "type": "scatter3d",
         "x": [
          1999,
          2000,
          2001,
          2002,
          2003,
          2004,
          2005,
          2006,
          2007,
          2008,
          2009,
          2010,
          2011,
          2012,
          2013,
          2014,
          2015,
          2016,
          2017,
          2018
         ],
         "y": [
          86.11584,
          87.73153,
          87.97166,
          88.13691999999999,
          88.49501,
          88.92066,
          89.56821,
          90.60555,
          91.39808000000001,
          92.17768000000001,
          92.79339,
          94.30569,
          94.56949,
          94.89918,
          95.19273000000001,
          95.42963,
          95.64008000000001,
          95.86838,
          96.07284,
          96.32412
         ],
         "z": [
          94544,
          81983,
          86615,
          81324,
          84163,
          85821,
          91961,
          98254,
          106824,
          129517,
          138145,
          136652,
          151878,
          201513,
          219673,
          205267,
          271875,
          173345,
          113839,
          99101
         ]
        },
        {
         "hovertemplate": "state=Alaska<br>year=%{x}<br>pop_density=%{y}<br>total_handgun=%{z}<extra></extra>",
         "legendgroup": "Alaska",
         "line": {
          "color": "#EF553B",
          "dash": "solid"
         },
         "mode": "lines",
         "name": "Alaska",
         "scene": "scene",
         "showlegend": true,
         "type": "scatter3d",
         "x": [
          1999,
          2000,
          2001,
          2002,
          2003,
          2004,
          2005,
          2006,
          2007,
          2008,
          2009,
          2010,
          2011,
          2012,
          2013,
          2014,
          2015,
          2016,
          2017,
          2018
         ],
         "y": [
          1.08313,
          1.09712,
          1.1072899999999999,
          1.12368,
          1.13801,
          1.15669,
          1.1705299999999998,
          1.18424,
          1.1929299999999998,
          1.20312,
          1.2212100000000001,
          1.24819,
          1.26241,
          1.2770299999999999,
          1.28865,
          1.28736,
          1.2895299999999998,
          1.29645,
          1.29344,
          1.28934
         ],
         "z": [
          14339,
          12714,
          13229,
          12202,
          12823,
          14819,
          17257,
          18610,
          19876,
          24615,
          25154,
          27870,
          30518,
          38200,
          39179,
          38233,
          39635,
          40083,
          37532,
          35344
         ]
        },
        {
         "hovertemplate": "state=Arizona<br>year=%{x}<br>pop_density=%{y}<br>total_handgun=%{z}<extra></extra>",
         "legendgroup": "Arizona",
         "line": {
          "color": "#00cc96",
          "dash": "solid"
         },
         "mode": "lines",
         "name": "Arizona",
         "scene": "scene",
         "showlegend": true,
         "type": "scatter3d",
         "x": [
          1999,
          2000,
          2001,
          2002,
          2003,
          2004,
          2005,
          2006,
          2007,
          2008,
          2009,
          2010,
          2011,
          2012,
          2013,
          2014,
          2015,
          2016,
          2017,
          2018
         ],
         "y": [
          42.04999,
          45.46765,
          46.67961,
          47.97931,
          49.20339,
          50.68374,
          52.57937,
          54.49134,
          55.9886,
          57.19542,
          58.04376,
          56.38909,
          56.967459999999996,
          57.69903000000001,
          58.388690000000004,
          59.2585,
          60.13636999999999,
          61.120709999999995,
          62.03085,
          63.11124
         ],
         "z": [
          78103,
          65267,
          63196,
          57203,
          58771,
          65013,
          76933,
          85187,
          81058,
          88394,
          91341,
          99529,
          121327,
          155303,
          154403,
          140430,
          165758,
          184637,
          171815,
          165432
         ]
        },
        {
         "hovertemplate": "state=Arkansas<br>year=%{x}<br>pop_density=%{y}<br>total_handgun=%{z}<extra></extra>",
         "legendgroup": "Arkansas",
         "line": {
          "color": "#ab63fa",
          "dash": "solid"
         },
         "mode": "lines",
         "name": "Arkansas",
         "scene": "scene",
         "showlegend": true,
         "type": "scatter3d",
         "x": [
          1999,
          2000,
          2001,
          2002,
          2003,
          2004,
          2005,
          2006,
          2007,
          2008,
          2009,
          2010,
          2011,
          2012,
          2013,
          2014,
          2015,
          2016,
          2017,
          2018
         ],
         "y": [
          49.00063,
          51.438109999999995,
          51.68355,
          51.94598,
          52.28321,
          52.74165,
          53.31896999999999,
          54.0656,
          54.58602,
          55.0771,
          55.4936,
          56.1185,
          56.47244,
          56.69718,
          56.84007,
          56.997119999999995,
          57.20225,
          57.43278000000001,
          57.674519999999994,
          57.88248000000001
         ],
         "z": [
          50523,
          43458,
          41276,
          37642,
          38906,
          38373,
          40888,
          44148,
          46938,
          56832,
          63813,
          59795,
          65384,
          81713,
          86754,
          72569,
          89626,
          93045,
          85643,
          80350
         ]
        },
        {
         "hovertemplate": "state=California<br>year=%{x}<br>pop_density=%{y}<br>total_handgun=%{z}<extra></extra>",
         "legendgroup": "California",
         "line": {
          "color": "#FFA15A",
          "dash": "solid"
         },
         "mode": "lines",
         "name": "California",
         "scene": "scene",
         "showlegend": true,
         "type": "scatter3d",
         "x": [
          1999,
          2000,
          2001,
          2002,
          2003,
          2004,
          2005,
          2006,
          2007,
          2008,
          2009,
          2010,
          2011,
          2012,
          2013,
          2014,
          2015,
          2016,
          2017,
          2018
         ],
         "y": [
          212.52412,
          217.97072999999997,
          221.11932000000002,
          223.62363,
          226.02755,
          227.99801000000002,
          229.51657999999998,
          230.69608,
          232.27927000000003,
          234.55069,
          236.99551,
          239.29945,
          241.35717000000002,
          243.40232000000003,
          245.45441,
          247.66214,
          249.76527000000002,
          251.40662999999998,
          252.62632000000002,
          253.63746
         ],
         "z": [
          371893,
          328615,
          280044,
          235121,
          158811,
          177220,
          219760,
          200857,
          195941,
          227528,
          240795,
          245159,
          304814,
          380810,
          413018,
          502333,
          484461,
          567107,
          518489,
          439363
         ]
        },
        {
         "hovertemplate": "state=Colorado<br>year=%{x}<br>pop_density=%{y}<br>total_handgun=%{z}<extra></extra>",
         "legendgroup": "Colorado",
         "line": {
          "color": "#19d3f3",
          "dash": "solid"
         },
         "mode": "lines",
         "name": "Colorado",
         "scene": "scene",
         "showlegend": true,
         "type": "scatter3d",
         "x": [
          1999,
          2000,
          2001,
          2002,
          2003,
          2004,
          2005,
          2006,
          2007,
          2008,
          2009,
          2010,
          2011,
          2012,
          2013,
          2014,
          2015,
          2016,
          2017,
          2018
         ],
         "y": [
          39.1075,
          41.7294,
          42.74174,
          43.42819,
          43.85734,
          44.34815,
          44.93724,
          45.826809999999995,
          46.68699,
          47.58321,
          48.44647,
          48.673140000000004,
          49.3817,
          50.07541,
          50.8155,
          51.593920000000004,
          52.56664,
          53.422940000000004,
          54.145880000000005,
          54.913940000000004
         ],
         "z": [
          102368,
          118000,
          131277,
          66778,
          67461,
          69512,
          75000,
          79488,
          84766,
          117975,
          126647,
          130155,
          148975,
          185000,
          213214,
          182562,
          218026,
          244769,
          232337,
          219776
         ]
        },
        {
         "hovertemplate": "state=Connecticut<br>year=%{x}<br>pop_density=%{y}<br>total_handgun=%{z}<extra></extra>",
         "legendgroup": "Connecticut",
         "line": {
          "color": "#FF6692",
          "dash": "solid"
         },
         "mode": "lines",
         "name": "Connecticut",
         "scene": "scene",
         "showlegend": true,
         "type": "scatter3d",
         "x": [
          1999,
          2000,
          2001,
          2002,
          2003,
          2004,
          2005,
          2006,
          2007,
          2008,
          2009,
          2010,
          2011,
          2012,
          2013,
          2014,
          2015,
          2016,
          2017,
          2018
         ],
         "y": [
          677.4337400000001,
          704.20368,
          707.65212,
          711.76973,
          715.75153,
          717.18337,
          717.76255,
          719.3613799999999,
          720.07782,
          723.02923,
          726.19881,
          738.72549,
          740.5620200000001,
          741.87719,
          741.98452,
          741.95728,
          740.45593,
          738.6324,
          737.64293,
          737.39216
         ],
         "z": [
          22375,
          8,
          9414,
          24680,
          25588,
          22768,
          24806,
          25726,
          29991,
          37234,
          46464,
          47545,
          49793,
          63570,
          68920,
          78700,
          123513,
          122375,
          71856,
          60631
         ]
        },
        {
         "hovertemplate": "state=Delaware<br>year=%{x}<br>pop_density=%{y}<br>total_handgun=%{z}<extra></extra>",
         "legendgroup": "Delaware",
         "line": {
          "color": "#B6E880",
          "dash": "solid"
         },
         "mode": "lines",
         "name": "Delaware",
         "scene": "scene",
         "showlegend": true,
         "type": "scatter3d",
         "x": [
          1999,
          2000,
          2001,
          2002,
          2003,
          2004,
          2005,
          2006,
          2007,
          2008,
          2009,
          2010,
          2011,
          2012,
          2013,
          2014,
          2015,
          2016,
          2017,
          2018
         ],
         "y": [
          385.72555,
          402.55278,
          406.75485,
          411.6234,
          417.13845,
          423.14493,
          429.93612,
          436.65000999999995,
          442.72815,
          448.52014,
          453.08155,
          460.38639000000006,
          464.33777000000003,
          468.36643,
          472.69089,
          477.27533,
          481.78762,
          485.78095999999994,
          489.8045,
          494.96980999999994
         ],
         "z": [
          5979,
          4948,
          5209,
          4788,
          5020,
          4995,
          6213,
          6107,
          6300,
          7822,
          9712,
          9230,
          11131,
          15712,
          19861,
          19442,
          23872,
          26453,
          23537,
          20520
         ]
        },
        {
         "hovertemplate": "state=District of Columbia<br>year=%{x}<br>pop_density=%{y}<br>total_handgun=%{z}<extra></extra>",
         "legendgroup": "District of Columbia",
         "line": {
          "color": "#FF97FF",
          "dash": "solid"
         },
         "mode": "lines",
         "name": "District of Columbia",
         "scene": "scene",
         "showlegend": true,
         "type": "scatter3d",
         "x": [
          1999,
          2000,
          2001,
          2002,
          2003,
          2004,
          2005,
          2006,
          2007,
          2008,
          2009,
          2010,
          2011,
          2012,
          2013,
          2014,
          2015,
          2016,
          2017,
          2018
         ],
         "y": [
          8452.76873,
          9311.79153,
          9414.36482,
          9439.49511,
          9410.048859999999,
          9442.9316,
          9479.625409999999,
          9511.04235,
          9550.63518,
          9610.32573,
          9766.40065,
          9919.42623,
          10157.4098,
          10405.327870000001,
          10662.80328,
          10860.86885,
          11069.7377,
          11255.327870000001,
          11404.77049,
          11515.65574
         ],
         "z": [
          19,
          17,
          12,
          6,
          11,
          14,
          19,
          54,
          26,
          187,
          356,
          308,
          280,
          427,
          453,
          475,
          675,
          675,
          758,
          976
         ]
        },
        {
         "hovertemplate": "state=Florida<br>year=%{x}<br>pop_density=%{y}<br>total_handgun=%{z}<extra></extra>",
         "legendgroup": "Florida",
         "line": {
          "color": "#FECB52",
          "dash": "solid"
         },
         "mode": "lines",
         "name": "Florida",
         "scene": "scene",
         "showlegend": true,
         "type": "scatter3d",
         "x": [
          1999,
          2000,
          2001,
          2002,
          2003,
          2004,
          2005,
          2006,
          2007,
          2008,
          2009,
          2010,
          2011,
          2012,
          2013,
          2014,
          2015,
          2016,
          2017,
          2018
         ],
         "y": [
          280.2176,
          297.57212000000004,
          303.2604,
          309.31379,
          314.89309,
          322.2007,
          329.7778,
          335.42688,
          338.93872999999996,
          341.64592000000005,
          343.76158,
          349.46845,
          354.05922999999996,
          358.37762000000004,
          362.77126,
          368.28175,
          375.03011000000004,
          382.55386,
          388.98533,
          394.96587999999997
         ],
         "z": [
          128773,
          122562,
          142355,
          136819,
          140959,
          150880,
          188425,
          219607,
          242807,
          295143,
          332491,
          343715,
          393230,
          490384,
          525587,
          496767,
          601871,
          698920,
          681550,
          643595
         ]
        },
        {
         "hovertemplate": "state=Georgia<br>year=%{x}<br>pop_density=%{y}<br>total_handgun=%{z}<extra></extra>",
         "legendgroup": "Georgia",
         "line": {
          "color": "#636efa",
          "dash": "solid"
         },
         "mode": "lines",
         "name": "Georgia",
         "scene": "scene",
         "showlegend": true,
         "type": "scatter3d",
         "x": [
          1999,
          2000,
          2001,
          2002,
          2003,
          2004,
          2005,
          2006,
          2007,
          2008,
          2009,
          2010,
          2011,
          2012,
          2013,
          2014,
          2015,
          2016,
          2017,
          2018
         ],
         "y": [
          134.49765,
          142.12933,
          145.40071,
          148.2664,
          150.85203,
          153.93318,
          157.10645,
          161.1243,
          164.64163,
          167.47512,
          169.74385,
          167.71681999999998,
          169.26705,
          170.99257,
          172.23303,
          173.88528,
          175.82135,
          177.95674,
          179.82686999999999,
          181.66468
         ],
         "z": [
          106569,
          83738,
          79997,
          68660,
          70067,
          70216,
          84156,
          114233,
          93554,
          117550,
          118170,
          114490,
          134906,
          170985,
          177111,
          168885,
          213093,
          218367,
          195803,
          180943
         ]
        },
        {
         "hovertemplate": "state=Hawaii<br>year=%{x}<br>pop_density=%{y}<br>total_handgun=%{z}<extra></extra>",
         "legendgroup": "Hawaii",
         "line": {
          "color": "#EF553B",
          "dash": "solid"
         },
         "mode": "lines",
         "name": "Hawaii",
         "scene": "scene",
         "showlegend": true,
         "type": "scatter3d",
         "x": [
          1999,
          2000,
          2001,
          2002,
          2003,
          2004,
          2005,
          2006,
          2007,
          2008,
          2009,
          2010,
          2011,
          2012,
          2013,
          2014,
          2015,
          2016,
          2017,
          2018
         ],
         "y": [
          184.58153000000001,
          188.64046000000002,
          189.68972,
          191.20997,
          192.95833000000002,
          195.05778,
          197.13404,
          198.61038,
          198.80236000000002,
          200.4604,
          201.65882,
          212.35606,
          214.73642,
          217.17344,
          219.28273,
          220.28055,
          221.46722999999997,
          222.34236,
          221.73486,
          221.15694
         ],
         "z": [
          0,
          0,
          0,
          0,
          0,
          0,
          0,
          0,
          0,
          0,
          0,
          0,
          0,
          6,
          0,
          0,
          8,
          20,
          14,
          10
         ]
        },
        {
         "hovertemplate": "state=Idaho<br>year=%{x}<br>pop_density=%{y}<br>total_handgun=%{z}<extra></extra>",
         "legendgroup": "Idaho",
         "line": {
          "color": "#00cc96",
          "dash": "solid"
         },
         "mode": "lines",
         "name": "Idaho",
         "scene": "scene",
         "showlegend": true,
         "type": "scatter3d",
         "x": [
          1999,
          2000,
          2001,
          2002,
          2003,
          2004,
          2005,
          2006,
          2007,
          2008,
          2009,
          2010,
          2011,
          2012,
          2013,
          2014,
          2015,
          2016,
          2017,
          2018
         ],
         "y": [
          15.12679,
          15.705070000000001,
          15.966339999999999,
          16.21987,
          16.48526,
          16.81891,
          17.23154,
          17.697429999999997,
          18.11838,
          18.45991,
          18.681,
          18.98284,
          19.140610000000002,
          19.28095,
          19.47539,
          19.71647,
          19.95871,
          20.338260000000002,
          20.77301,
          21.19966
         ],
         "z": [
          21584,
          19285,
          17377,
          15673,
          15998,
          15989,
          17966,
          20342,
          22829,
          26056,
          26085,
          26251,
          31534,
          39379,
          41486,
          35828,
          42919,
          50691,
          49752,
          51196
         ]
        },
        {
         "hovertemplate": "state=Illinois<br>year=%{x}<br>pop_density=%{y}<br>total_handgun=%{z}<extra></extra>",
         "legendgroup": "Illinois",
         "line": {
          "color": "#ab63fa",
          "dash": "solid"
         },
         "mode": "lines",
         "name": "Illinois",
         "scene": "scene",
         "showlegend": true,
         "type": "scatter3d",
         "x": [
          1999,
          2000,
          2001,
          2002,
          2003,
          2004,
          2005,
          2006,
          2007,
          2008,
          2009,
          2010,
          2011,
          2012,
          2013,
          2014,
          2015,
          2016,
          2017,
          2018
         ],
         "y": [
          218.20058999999998,
          223.76473,
          225.02747999999997,
          225.93415,
          226.64933,
          227.50055,
          228.02511,
          228.80877999999998,
          229.91352999999998,
          231.05662,
          232.2702,
          231.01543999999998,
          231.49271000000002,
          231.79546000000002,
          232.05003,
          231.88259,
          231.43966,
          230.76596,
          230.03375,
          229.22207999999998
         ],
         "z": [
          77420,
          60504,
          57953,
          52562,
          53877,
          53904,
          56745,
          60587,
          64374,
          80729,
          99880,
          109204,
          134178,
          181910,
          236374,
          235091,
          252978,
          352411,
          282267,
          259554
         ]
        },
        {
         "hovertemplate": "state=Indiana<br>year=%{x}<br>pop_density=%{y}<br>total_handgun=%{z}<extra></extra>",
         "legendgroup": "Indiana",
         "line": {
          "color": "#FFA15A",
          "dash": "solid"
         },
         "mode": "lines",
         "name": "Indiana",
         "scene": "scene",
         "showlegend": true,
         "type": "scatter3d",
         "x": [
          1999,
          2000,
          2001,
          2002,
          2003,
          2004,
          2005,
          2006,
          2007,
          2008,
          2009,
          2010,
          2011,
          2012,
          2013,
          2014,
          2015,
          2016,
          2017,
          2018
         ],
         "y": [
          165.69319,
          169.84041000000002,
          170.76934,
          171.4396,
          172.35359,
          173.26432,
          174.34236,
          175.69681,
          176.93508,
          178.11155,
          179.08191000000002,
          180.95843,
          181.67243,
          182.27451000000002,
          183.13121,
          183.83285,
          184.24446,
          184.94281999999998,
          185.68829,
          186.57478999999998
         ],
         "z": [
          31730,
          22982,
          25208,
          19158,
          29783,
          63251,
          63983,
          69893,
          74557,
          94894,
          110510,
          112636,
          136257,
          188993,
          215811,
          205304,
          249659,
          278987,
          251978,
          231244
         ]
        },
        {
         "hovertemplate": "state=Iowa<br>year=%{x}<br>pop_density=%{y}<br>total_handgun=%{z}<extra></extra>",
         "legendgroup": "Iowa",
         "line": {
          "color": "#19d3f3",
          "dash": "solid"
         },
         "mode": "lines",
         "name": "Iowa",
         "scene": "scene",
         "showlegend": true,
         "type": "scatter3d",
         "x": [
          1999,
          2000,
          2001,
          2002,
          2003,
          2004,
          2005,
          2006,
          2007,
          2008,
          2009,
          2010,
          2011,
          2012,
          2013,
          2014,
          2015,
          2016,
          2017,
          2018
         ],
         "y": [
          51.35933,
          52.41127,
          52.43346,
          52.4306,
          52.493869999999994,
          52.64706999999999,
          52.791909999999994,
          53.05933,
          53.31579,
          53.58906999999999,
          53.837309999999995,
          54.60572,
          54.87934,
          55.0591,
          55.36305,
          55.65705,
          55.87106,
          56.055859999999996,
          56.268,
          56.49188
         ],
         "z": [
          649,
          440,
          421,
          333,
          274,
          335,
          343,
          312,
          264,
          378,
          464,
          608,
          1027,
          1503,
          2160,
          2153,
          2715,
          2975,
          2683,
          2213
         ]
        },
        {
         "hovertemplate": "state=Kansas<br>year=%{x}<br>pop_density=%{y}<br>total_handgun=%{z}<extra></extra>",
         "legendgroup": "Kansas",
         "line": {
          "color": "#FF6692",
          "dash": "solid"
         },
         "mode": "lines",
         "name": "Kansas",
         "scene": "scene",
         "showlegend": true,
         "type": "scatter3d",
         "x": [
          1999,
          2000,
          2001,
          2002,
          2003,
          2004,
          2005,
          2006,
          2007,
          2008,
          2009,
          2010,
          2011,
          2012,
          2013,
          2014,
          2015,
          2016,
          2017,
          2018
         ],
         "y": [
          32.43972,
          32.91345,
          33.01913,
          33.15531,
          33.26968,
          33.377359999999996,
          33.51189,
          33.682140000000004,
          33.9252,
          34.191520000000004,
          34.452740000000006,
          34.93507,
          35.06735,
          35.266890000000004,
          35.3665,
          35.45677,
          35.56196,
          35.583490000000005,
          35.57647,
          35.58645
         ],
         "z": [
          35809,
          29377,
          28025,
          26334,
          27260,
          27429,
          28221,
          37954,
          43892,
          54072,
          63269,
          62375,
          65924,
          88085,
          88841,
          66442,
          83086,
          88492,
          81972,
          73792
         ]
        },
        {
         "hovertemplate": "state=Kentucky<br>year=%{x}<br>pop_density=%{y}<br>total_handgun=%{z}<extra></extra>",
         "legendgroup": "Kentucky",
         "line": {
          "color": "#B6E880",
          "dash": "solid"
         },
         "mode": "lines",
         "name": "Kentucky",
         "scene": "scene",
         "showlegend": true,
         "type": "scatter3d",
         "x": [
          1999,
          2000,
          2001,
          2002,
          2003,
          2004,
          2005,
          2006,
          2007,
          2008,
          2009,
          2010,
          2011,
          2012,
          2013,
          2014,
          2015,
          2016,
          2017,
          2018
         ],
         "y": [
          99.69811999999999,
          101.91514000000001,
          102.42581,
          102.98307,
          103.67017,
          104.40876,
          105.27271,
          106.20607,
          107.13498999999999,
          107.93173,
          108.59075,
          109.44925,
          109.9851,
          110.41032,
          110.87437,
          111.11768000000001,
          111.40755,
          111.71538999999999,
          112.10918999999998,
          112.47488
         ],
         "z": [
          96183,
          84688,
          84430,
          78747,
          78667,
          81212,
          83889,
          88373,
          90491,
          99733,
          105589,
          101852,
          112562,
          139489,
          143223,
          124291,
          149596,
          161940,
          148753,
          133622
         ]
        },
        {
         "hovertemplate": "state=Louisiana<br>year=%{x}<br>pop_density=%{y}<br>total_handgun=%{z}<extra></extra>",
         "legendgroup": "Louisiana",
         "line": {
          "color": "#FF97FF",
          "dash": "solid"
         },
         "mode": "lines",
         "name": "Louisiana",
         "scene": "scene",
         "showlegend": true,
         "type": "scatter3d",
         "x": [
          1999,
          2000,
          2001,
          2002,
          2003,
          2004,
          2005,
          2006,
          2007,
          2008,
          2009,
          2010,
          2011,
          2012,
          2013,
          2014,
          2015,
          2016,
          2017,
          2018
         ],
         "y": [
          100.36385,
          102.58928,
          102.4019,
          102.52246,
          102.72121,
          103.05639000000001,
          103.24839,
          97.34038000000001,
          100.45767,
          102.18834,
          103.1195,
          104.32330999999999,
          105.02695,
          105.61531000000001,
          106.16081000000001,
          106.61136,
          107.08533,
          107.39211,
          107.2223,
          106.97346
         ],
         "z": [
          70507,
          59327,
          59756,
          60116,
          61879,
          58940,
          83836,
          85864,
          84001,
          103374,
          106957,
          100366,
          112845,
          142213,
          157163,
          140272,
          176080,
          184620,
          152714,
          134913
         ]
        },
        {
         "hovertemplate": "state=Maine<br>year=%{x}<br>pop_density=%{y}<br>total_handgun=%{z}<extra></extra>",
         "legendgroup": "Maine",
         "line": {
          "color": "#FECB52",
          "dash": "solid"
         },
         "mode": "lines",
         "name": "Maine",
         "scene": "scene",
         "showlegend": true,
         "type": "scatter3d",
         "x": [
          1999,
          2000,
          2001,
          2002,
          2003,
          2004,
          2005,
          2006,
          2007,
          2008,
          2009,
          2010,
          2011,
          2012,
          2013,
          2014,
          2015,
          2016,
          2017,
          2018
         ],
         "y": [
          40.60198,
          41.38519,
          41.6308,
          41.92719,
          42.22413,
          42.39103,
          42.50049,
          42.60846,
          42.68444,
          42.76166,
          42.71662,
          43.01834,
          43.03512,
          43.02025,
          43.036609999999996,
          43.119690000000006,
          43.04595,
          43.13946,
          43.25912,
          43.36738
         ],
         "z": [
          12928,
          12055,
          13193,
          12952,
          13102,
          13825,
          14032,
          14857,
          15401,
          19138,
          22013,
          24205,
          27901,
          37627,
          39858,
          33604,
          43736,
          50232,
          42022,
          38645
         ]
        },
        {
         "hovertemplate": "state=Maryland<br>year=%{x}<br>pop_density=%{y}<br>total_handgun=%{z}<extra></extra>",
         "legendgroup": "Maryland",
         "line": {
          "color": "#636efa",
          "dash": "solid"
         },
         "mode": "lines",
         "name": "Maryland",
         "scene": "scene",
         "showlegend": true,
         "type": "scatter3d",
         "x": [
          1999,
          2000,
          2001,
          2002,
          2003,
          2004,
          2005,
          2006,
          2007,
          2008,
          2009,
          2010,
          2011,
          2012,
          2013,
          2014,
          2015,
          2016,
          2017,
          2018
         ],
         "y": [
          529.13129,
          543.3473299999999,
          549.9418900000001,
          556.58003,
          562.39096,
          567.0924,
          571.17074,
          574.20701,
          576.46263,
          578.96043,
          583.1372,
          592.24903,
          597.40035,
          602.31962,
          606.06753,
          609.59331,
          612.51453,
          614.35359,
          616.4202,
          618.2441200000001
         ],
         "z": [
          2054,
          1708,
          1471,
          1280,
          1339,
          3083,
          10097,
          9444,
          22674,
          37352,
          46389,
          40567,
          46683,
          67830,
          133057,
          55837,
          37956,
          53405,
          53124,
          54329
         ]
        },
        {
         "hovertemplate": "state=Massachusetts<br>year=%{x}<br>pop_density=%{y}<br>total_handgun=%{z}<extra></extra>",
         "legendgroup": "Massachusetts",
         "line": {
          "color": "#EF553B",
          "dash": "solid"
         },
         "mode": "lines",
         "name": "Massachusetts",
         "scene": "scene",
         "showlegend": true,
         "type": "scatter3d",
         "x": [
          1999,
          2000,
          2001,
          2002,
          2003,
          2004,
          2005,
          2006,
          2007,
          2008,
          2009,
          2010,
          2011,
          2012,
          2013,
          2014,
          2015,
          2016,
          2017,
          2018
         ],
         "y": [
          787.6471,
          811.60699,
          817.82062,
          821.5512200000001,
          822.9107799999999,
          822.86512,
          823.0885900000001,
          824.7936900000001,
          828.9870400000001,
          834.64009,
          841.0166,
          837.55497,
          843.5139,
          849.8926,
          856.37041,
          862.71071,
          866.8228300000001,
          870.6660699999999,
          875.41403,
          880.37615
         ],
         "z": [
          9504,
          14067,
          15490,
          17775,
          21189,
          20815,
          20581,
          21341,
          22247,
          24184,
          30166,
          33468,
          42506,
          55136,
          61229,
          59724,
          66056,
          76567,
          67828,
          53787
         ]
        },
        {
         "hovertemplate": "state=Michigan<br>year=%{x}<br>pop_density=%{y}<br>total_handgun=%{z}<extra></extra>",
         "legendgroup": "Michigan",
         "line": {
          "color": "#00cc96",
          "dash": "solid"
         },
         "mode": "lines",
         "name": "Michigan",
         "scene": "scene",
         "showlegend": true,
         "type": "scatter3d",
         "x": [
          1999,
          2000,
          2001,
          2002,
          2003,
          2004,
          2005,
          2006,
          2007,
          2008,
          2009,
          2010,
          2011,
          2012,
          2013,
          2014,
          2015,
          2016,
          2017,
          2018
         ],
         "y": [
          173.64633,
          175.25772,
          176.15176,
          176.72697,
          177.21257,
          177.61666,
          177.63865,
          177.49577,
          176.93963,
          176.08826000000002,
          175.51156,
          173.88801999999998,
          173.95819,
          174.22946000000002,
          174.5185,
          174.822,
          174.85693,
          175.19699,
          175.6293,
          175.97203000000002
         ],
         "z": [
          1398,
          964,
          5214,
          23211,
          27100,
          32593,
          33073,
          28574,
          24623,
          26618,
          25716,
          18531,
          15234,
          21026,
          136692,
          110078,
          142450,
          165938,
          142622,
          124708
         ]
        },
        {
         "hovertemplate": "state=Minnesota<br>year=%{x}<br>pop_density=%{y}<br>total_handgun=%{z}<extra></extra>",
         "legendgroup": "Minnesota",
         "line": {
          "color": "#ab63fa",
          "dash": "solid"
         },
         "mode": "lines",
         "name": "Minnesota",
         "scene": "scene",
         "showlegend": true,
         "type": "scatter3d",
         "x": [
          1999,
          2000,
          2001,
          2002,
          2003,
          2004,
          2005,
          2006,
          2007,
          2008,
          2009,
          2010,
          2011,
          2012,
          2013,
          2014,
          2015,
          2016,
          2017,
          2018
         ],
         "y": [
          59.986219999999996,
          61.97655,
          62.590230000000005,
          63.02541,
          63.40732,
          63.802769999999995,
          64.14464,
          64.66951999999999,
          65.2079,
          65.70232,
          66.15009,
          66.71075,
          67.1482,
          67.53611,
          68.00268,
          68.47785,
          68.86701,
          69.38084,
          69.94291,
          70.48334
         ],
         "z": [
          27953,
          29984,
          29005,
          28887,
          40302,
          39456,
          37817,
          41800,
          45385,
          55496,
          62929,
          59997,
          73815,
          104260,
          126322,
          95410,
          112673,
          136779,
          97130,
          64724
         ]
        },
        {
         "hovertemplate": "state=Mississippi<br>year=%{x}<br>pop_density=%{y}<br>total_handgun=%{z}<extra></extra>",
         "legendgroup": "Mississippi",
         "line": {
          "color": "#FFA15A",
          "dash": "solid"
         },
         "mode": "lines",
         "name": "Mississippi",
         "scene": "scene",
         "showlegend": true,
         "type": "scatter3d",
         "x": [
          1999,
          2000,
          2001,
          2002,
          2003,
          2004,
          2005,
          2006,
          2007,
          2008,
          2009,
          2010,
          2011,
          2012,
          2013,
          2014,
          2015,
          2016,
          2017,
          2018
         ],
         "y": [
          59.023630000000004,
          60.72255,
          60.8292,
          60.94283000000001,
          61.13545,
          61.526180000000004,
          61.82699,
          61.76376,
          62.28762,
          62.68179,
          62.933009999999996,
          63.3282,
          63.49735,
          63.61026999999999,
          63.7175,
          63.75643,
          63.71529,
          63.706869999999995,
          63.735969999999995,
          63.669180000000004
         ],
         "z": [
          66980,
          56142,
          52604,
          48510,
          48080,
          49444,
          55797,
          58285,
          56701,
          64799,
          62432,
          62207,
          68944,
          86016,
          97028,
          92613,
          125463,
          135408,
          121841,
          114616
         ]
        },
        {
         "hovertemplate": "state=Missouri<br>year=%{x}<br>pop_density=%{y}<br>total_handgun=%{z}<extra></extra>",
         "legendgroup": "Missouri",
         "line": {
          "color": "#19d3f3",
          "dash": "solid"
         },
         "mode": "lines",
         "name": "Missouri",
         "scene": "scene",
         "showlegend": true,
         "type": "scatter3d",
         "x": [
          1999,
          2000,
          2001,
          2002,
          2003,
          2004,
          2005,
          2006,
          2007,
          2008,
          2009,
          2010,
          2011,
          2012,
          2013,
          2014,
          2015,
          2016,
          2017,
          2018
         ],
         "y": [
          79.38251,
          81.38186,
          81.93235,
          82.46752,
          82.96101999999999,
          83.59391,
          84.29354000000001,
          85.09099,
          85.79145,
          86.46664,
          86.92022,
          87.04201,
          87.24038,
          87.45,
          87.69065,
          87.91762,
          88.14193,
          88.36633,
          88.67712,
          88.9361
         ],
         "z": [
          43744,
          36523,
          35878,
          34263,
          39108,
          46817,
          49910,
          53998,
          84055,
          143407,
          164674,
          157387,
          176807,
          231266,
          252778,
          229945,
          269241,
          291803,
          273172,
          246344
         ]
        },
        {
         "hovertemplate": "state=Montana<br>year=%{x}<br>pop_density=%{y}<br>total_handgun=%{z}<extra></extra>",
         "legendgroup": "Montana",
         "line": {
          "color": "#FF6692",
          "dash": "solid"
         },
         "mode": "lines",
         "name": "Montana",
         "scene": "scene",
         "showlegend": true,
         "type": "scatter3d",
         "x": [
          1999,
          2000,
          2001,
          2002,
          2003,
          2004,
          2005,
          2006,
          2007,
          2008,
          2009,
          2010,
          2011,
          2012,
          2013,
          2014,
          2015,
          2016,
          2017,
          2018
         ],
         "y": [
          6.06502,
          6.20596,
          6.22369,
          6.25114,
          6.29842,
          6.361190000000001,
          6.42243,
          6.50096,
          6.5765,
          6.650760000000001,
          6.6985399999999995,
          6.80665,
          6.8513,
          6.89619,
          6.963589999999999,
          7.0208,
          7.079960000000001,
          7.15114,
          7.23515,
          7.29846
         ],
         "z": [
          19448,
          18401,
          18426,
          18032,
          19102,
          19321,
          19703,
          20636,
          22430,
          26311,
          28893,
          29611,
          34306,
          44700,
          44390,
          38409,
          41516,
          43050,
          40021,
          38393
         ]
        },
        {
         "hovertemplate": "state=Nebraska<br>year=%{x}<br>pop_density=%{y}<br>total_handgun=%{z}<extra></extra>",
         "legendgroup": "Nebraska",
         "line": {
          "color": "#B6E880",
          "dash": "solid"
         },
         "mode": "lines",
         "name": "Nebraska",
         "scene": "scene",
         "showlegend": true,
         "type": "scatter3d",
         "x": [
          1999,
          2000,
          2001,
          2002,
          2003,
          2004,
          2005,
          2006,
          2007,
          2008,
          2009,
          2010,
          2011,
          2012,
          2013,
          2014,
          2015,
          2016,
          2017,
          2018
         ],
         "y": [
          21.672639999999998,
          22.28817,
          22.34804,
          22.44086,
          22.55269,
          22.663320000000002,
          22.78738,
          22.90074,
          23.02402,
          23.18061,
          23.37144,
          23.799770000000002,
          23.94289,
          24.10921,
          24.26649,
          24.450020000000002,
          24.605929999999997,
          24.793470000000003,
          24.94504,
          25.09715
         ],
         "z": [
          615,
          393,
          295,
          210,
          192,
          176,
          26,
          28,
          28,
          116,
          155,
          950,
          1263,
          1256,
          1399,
          1392,
          1905,
          1859,
          1847,
          1633
         ]
        },
        {
         "hovertemplate": "state=Nevada<br>year=%{x}<br>pop_density=%{y}<br>total_handgun=%{z}<extra></extra>",
         "legendgroup": "Nevada",
         "line": {
          "color": "#FF97FF",
          "dash": "solid"
         },
         "mode": "lines",
         "name": "Nevada",
         "scene": "scene",
         "showlegend": true,
         "type": "scatter3d",
         "x": [
          1999,
          2000,
          2001,
          2002,
          2003,
          2004,
          2005,
          2006,
          2007,
          2008,
          2009,
          2010,
          2011,
          2012,
          2013,
          2014,
          2015,
          2016,
          2017,
          2018
         ],
         "y": [
          16.47381,
          18.37644,
          19.07116,
          19.72406,
          20.36812,
          21.203570000000003,
          21.93291,
          22.703229999999998,
          23.38019,
          23.817420000000002,
          24.06612,
          24.60678,
          24.700879999999998,
          24.990129999999997,
          25.2852,
          25.66798,
          26.1201,
          26.585440000000002,
          27.06468,
          27.62909
         ],
         "z": [
          31387,
          23817,
          24035,
          21956,
          22692,
          24866,
          29772,
          30783,
          31649,
          45248,
          50143,
          49669,
          56604,
          65506,
          63392,
          51948,
          60528,
          69956,
          61487,
          58817
         ]
        },
        {
         "hovertemplate": "state=New Hampshire<br>year=%{x}<br>pop_density=%{y}<br>total_handgun=%{z}<extra></extra>",
         "legendgroup": "New Hampshire",
         "line": {
          "color": "#FECB52",
          "dash": "solid"
         },
         "mode": "lines",
         "name": "New Hampshire",
         "scene": "scene",
         "showlegend": true,
         "type": "scatter3d",
         "x": [
          1999,
          2000,
          2001,
          2002,
          2003,
          2004,
          2005,
          2006,
          2007,
          2008,
          2009,
          2010,
          2011,
          2012,
          2013,
          2014,
          2015,
          2016,
          2017,
          2018
         ],
         "y": [
          133.93406000000002,
          138.31759,
          140.14998,
          141.74273,
          142.93674,
          144.1516,
          145.11602,
          146.2845,
          146.8921,
          147.39711,
          147.69851,
          146.83061999999998,
          147.16938000000002,
          147.6318,
          147.90455,
          148.66447,
          149.00691,
          149.68477,
          150.50926,
          151.25535
         ],
         "z": [
          11799,
          14495,
          15257,
          13637,
          13890,
          13343,
          14565,
          16653,
          18784,
          23478,
          27945,
          28788,
          33604,
          50982,
          56476,
          47550,
          55631,
          69400,
          63149,
          60637
         ]
        },
        {
         "hovertemplate": "state=New Jersey<br>year=%{x}<br>pop_density=%{y}<br>total_handgun=%{z}<extra></extra>",
         "legendgroup": "New Jersey",
         "line": {
          "color": "#636efa",
          "dash": "solid"
         },
         "mode": "lines",
         "name": "New Jersey",
         "scene": "scene",
         "showlegend": true,
         "type": "scatter3d",
         "x": [
          1999,
          2000,
          2001,
          2002,
          2003,
          2004,
          2005,
          2006,
          2007,
          2008,
          2009,
          2010,
          2011,
          2012,
          2013,
          2014,
          2015,
          2016,
          2017,
          2018
         ],
         "y": [
          1097.88846,
          1136.6502,
          1144.5436,
          1151.91093,
          1157.21822,
          1160.99977,
          1162.38935,
          1162.64335,
          1164.30459,
          1167.99257,
          1173.9705900000001,
          1186.41284,
          1190.20938,
          1192.59579,
          1194.33221,
          1195.46717,
          1196.01847,
          1196.51018,
          1198.40138,
          1201.0947800000001
         ],
         "z": [
          16176,
          15263,
          13791,
          17647,
          15998,
          14399,
          15541,
          16360,
          16505,
          19042,
          29976,
          25593,
          31163,
          45152,
          66786,
          49911,
          47849,
          70249,
          58989,
          51231
         ]
        },
        {
         "hovertemplate": "state=New Mexico<br>year=%{x}<br>pop_density=%{y}<br>total_handgun=%{z}<extra></extra>",
         "legendgroup": "New Mexico",
         "line": {
          "color": "#EF553B",
          "dash": "solid"
         },
         "mode": "lines",
         "name": "New Mexico",
         "scene": "scene",
         "showlegend": true,
         "type": "scatter3d",
         "x": [
          1999,
          2000,
          2001,
          2002,
          2003,
          2004,
          2005,
          2006,
          2007,
          2008,
          2009,
          2010,
          2011,
          2012,
          2013,
          2014,
          2015,
          2016,
          2017,
          2018
         ],
         "y": [
          14.33675,
          15.003960000000001,
          15.06984,
          15.24475,
          15.40666,
          15.58915,
          15.79275,
          16.007579999999997,
          16.222839999999998,
          16.37143,
          16.56019,
          17.01266,
          17.14291,
          17.20186,
          17.245060000000002,
          17.22488,
          17.2238,
          17.24504,
          17.25003,
          17.26679
         ],
         "z": [
          35566,
          29382,
          29983,
          27447,
          27484,
          29698,
          31289,
          34075,
          37368,
          44428,
          44703,
          47094,
          51905,
          63570,
          69063,
          64059,
          71902,
          75665,
          77162,
          75103
         ]
        },
        {
         "hovertemplate": "state=New York<br>year=%{x}<br>pop_density=%{y}<br>total_handgun=%{z}<extra></extra>",
         "legendgroup": "New York",
         "line": {
          "color": "#00cc96",
          "dash": "solid"
         },
         "mode": "lines",
         "name": "New York",
         "scene": "scene",
         "showlegend": true,
         "type": "scatter3d",
         "x": [
          1999,
          2000,
          2001,
          2002,
          2003,
          2004,
          2005,
          2006,
          2007,
          2008,
          2009,
          2010,
          2011,
          2012,
          2013,
          2014,
          2015,
          2016,
          2017,
          2018
         ],
         "y": [
          385.40861,
          402.38337,
          404.30938,
          405.85331,
          407.31958,
          408.7351,
          409.43316,
          409.97692,
          411.37932,
          412.33269,
          413.89291000000003,
          410.89677,
          412.98162,
          414.59205,
          415.72506,
          416.32417999999996,
          416.4318,
          416.01197,
          414.93453,
          413.90708
         ],
         "z": [
          10451,
          9624,
          8629,
          8078,
          9603,
          11095,
          12976,
          28895,
          40064,
          44329,
          54613,
          59852,
          65774,
          82887,
          108952,
          98573,
          110505,
          137350,
          129886,
          114799
         ]
        },
        {
         "hovertemplate": "state=North Carolina<br>year=%{x}<br>pop_density=%{y}<br>total_handgun=%{z}<extra></extra>",
         "legendgroup": "North Carolina",
         "line": {
          "color": "#ab63fa",
          "dash": "solid"
         },
         "mode": "lines",
         "name": "North Carolina",
         "scene": "scene",
         "showlegend": true,
         "type": "scatter3d",
         "x": [
          1999,
          2000,
          2001,
          2002,
          2003,
          2004,
          2005,
          2006,
          2007,
          2008,
          2009,
          2010,
          2011,
          2012,
          2013,
          2014,
          2015,
          2016,
          2017,
          2018
         ],
         "y": [
          157.0653,
          165.86403,
          168.41106000000002,
          170.73428,
          172.7838,
          175.14122,
          177.97773,
          182.03278,
          186.07904,
          189.83713999999998,
          192.58293,
          196.553,
          198.24586000000002,
          200.14212,
          202.08164,
          203.93636,
          205.97153,
          208.50894,
          210.85176,
          213.16787000000002
         ],
         "z": [
          18324,
          16227,
          16048,
          15566,
          16180,
          15242,
          14429,
          15205,
          14726,
          16516,
          17155,
          19831,
          22856,
          30252,
          31649,
          35262,
          38328,
          39460,
          42792,
          42987
         ]
        },
        {
         "hovertemplate": "state=North Dakota<br>year=%{x}<br>pop_density=%{y}<br>total_handgun=%{z}<extra></extra>",
         "legendgroup": "North Dakota",
         "line": {
          "color": "#FFA15A",
          "dash": "solid"
         },
         "mode": "lines",
         "name": "North Dakota",
         "scene": "scene",
         "showlegend": true,
         "type": "scatter3d",
         "x": [
          1999,
          2000,
          2001,
          2002,
          2003,
          2004,
          2005,
          2006,
          2007,
          2008,
          2009,
          2010,
          2011,
          2012,
          2013,
          2014,
          2015,
          2016,
          2017,
          2018
         ],
         "y": [
          9.18677,
          9.296,
          9.22448,
          9.186060000000001,
          9.17435,
          9.225,
          9.2114,
          9.23179,
          9.25253,
          9.2992,
          9.37782,
          9.78181,
          9.932960000000001,
          10.164639999999999,
          10.46739,
          10.69041,
          10.93166,
          10.93646,
          10.94839,
          11.01944
         ],
         "z": [
          5032,
          4994,
          4746,
          4462,
          4700,
          5060,
          5448,
          6128,
          6767,
          8958,
          10123,
          10339,
          15596,
          23557,
          24345,
          19659,
          21368,
          20735,
          20596,
          19277
         ]
        },
        {
         "hovertemplate": "state=Ohio<br>year=%{x}<br>pop_density=%{y}<br>total_handgun=%{z}<extra></extra>",
         "legendgroup": "Ohio",
         "line": {
          "color": "#19d3f3",
          "dash": "solid"
         },
         "mode": "lines",
         "name": "Ohio",
         "scene": "scene",
         "showlegend": true,
         "type": "scatter3d",
         "x": [
          1999,
          2000,
          2001,
          2002,
          2003,
          2004,
          2005,
          2006,
          2007,
          2008,
          2009,
          2010,
          2011,
          2012,
          2013,
          2014,
          2015,
          2016,
          2017,
          2018
         ],
         "y": [
          274.89864,
          277.51633,
          278.32295,
          278.91167,
          279.50262999999995,
          279.97672,
          280.23726,
          280.65811,
          281.34971,
          281.52693999999997,
          281.88282000000004,
          281.80441,
          281.90542,
          282.02522999999997,
          282.71407999999997,
          283.35872,
          283.72204,
          284.14092999999997,
          284.85222999999996,
          285.4704
         ],
         "z": [
          119054,
          99315,
          103298,
          97773,
          99451,
          133795,
          123742,
          126274,
          131205,
          168719,
          202607,
          208730,
          254132,
          341709,
          372746,
          318776,
          374060,
          411864,
          350111,
          292598
         ]
        },
        {
         "hovertemplate": "state=Oklahoma<br>year=%{x}<br>pop_density=%{y}<br>total_handgun=%{z}<extra></extra>",
         "legendgroup": "Oklahoma",
         "line": {
          "color": "#FF6692",
          "dash": "solid"
         },
         "mode": "lines",
         "name": "Oklahoma",
         "scene": "scene",
         "showlegend": true,
         "type": "scatter3d",
         "x": [
          1999,
          2000,
          2001,
          2002,
          2003,
          2004,
          2005,
          2006,
          2007,
          2008,
          2009,
          2010,
          2011,
          2012,
          2013,
          2014,
          2015,
          2016,
          2017,
          2018
         ],
         "y": [
          48.90327,
          50.29985,
          50.45693,
          50.74855,
          50.95146,
          51.181,
          51.4478,
          52.05311,
          52.60435,
          53.06802,
          53.6946,
          54.75166,
          55.162169999999996,
          55.610409999999995,
          56.11436,
          56.4808,
          56.939009999999996,
          57.185680000000005,
          57.27118000000001,
          57.4232
         ],
         "z": [
          57147,
          49532,
          52066,
          50570,
          53744,
          57409,
          63140,
          70088,
          76620,
          97833,
          109656,
          110381,
          126424,
          177976,
          183437,
          168627,
          187511,
          188417,
          167696,
          158710
         ]
        },
        {
         "hovertemplate": "state=Oregon<br>year=%{x}<br>pop_density=%{y}<br>total_handgun=%{z}<extra></extra>",
         "legendgroup": "Oregon",
         "line": {
          "color": "#B6E880",
          "dash": "solid"
         },
         "mode": "lines",
         "name": "Oregon",
         "scene": "scene",
         "showlegend": true,
         "type": "scatter3d",
         "x": [
          1999,
          2000,
          2001,
          2002,
          2003,
          2004,
          2005,
          2006,
          2007,
          2008,
          2009,
          2010,
          2011,
          2012,
          2013,
          2014,
          2015,
          2016,
          2017,
          2018
         ],
         "y": [
          34.54443,
          35.73964,
          36.15102,
          36.6378,
          36.982279999999996,
          37.22526,
          37.6874,
          38.30904,
          38.88627,
          39.40747,
          39.851929999999996,
          39.97554,
          40.331759999999996,
          40.61708,
          40.8649,
          41.294059999999995,
          41.8442,
          42.62012,
          43.19502,
          43.65462
         ],
         "z": [
          63342,
          49634,
          46620,
          44013,
          47287,
          48042,
          52469,
          56364,
          60535,
          71876,
          77167,
          80060,
          95413,
          132660,
          140539,
          123605,
          150194,
          178739,
          169963,
          167730
         ]
        },
        {
         "hovertemplate": "state=Pennsylvania<br>year=%{x}<br>pop_density=%{y}<br>total_handgun=%{z}<extra></extra>",
         "legendgroup": "Pennsylvania",
         "line": {
          "color": "#FF97FF",
          "dash": "solid"
         },
         "mode": "lines",
         "name": "Pennsylvania",
         "scene": "scene",
         "showlegend": true,
         "type": "scatter3d",
         "x": [
          1999,
          2000,
          2001,
          2002,
          2003,
          2004,
          2005,
          2006,
          2007,
          2008,
          2009,
          2010,
          2011,
          2012,
          2013,
          2014,
          2015,
          2016,
          2017,
          2018
         ],
         "y": [
          267.62435,
          274.12836,
          274.4414,
          275.0387,
          275.73536,
          276.42357999999996,
          277.08836,
          278.27053,
          279.41718,
          280.39533,
          281.25212999999997,
          283.62358,
          284.36939,
          284.86572,
          285.08425,
          285.36272,
          285.28815,
          285.23859,
          285.39275,
          285.76344
         ],
         "z": [
          4139,
          10,
          0,
          0,
          2,
          0,
          2,
          137,
          1,
          2,
          7,
          6,
          94,
          536,
          320,
          507891,
          605707,
          647974,
          572731,
          541488
         ]
        },
        {
         "hovertemplate": "state=Rhode Island<br>year=%{x}<br>pop_density=%{y}<br>total_handgun=%{z}<extra></extra>",
         "legendgroup": "Rhode Island",
         "line": {
          "color": "#FECB52",
          "dash": "solid"
         },
         "mode": "lines",
         "name": "Rhode Island",
         "scene": "scene",
         "showlegend": true,
         "type": "scatter3d",
         "x": [
          1999,
          2000,
          2001,
          2002,
          2003,
          2004,
          2005,
          2006,
          2007,
          2008,
          2009,
          2010,
          2011,
          2012,
          2013,
          2014,
          2015,
          2016,
          2017,
          2018
         ],
         "y": [
          948.2156699999999,
          1005.55635,
          1012.5568199999999,
          1020.19657,
          1025.43137,
          1025.34524,
          1019.1965,
          1014.60959,
          1009.6456199999999,
          1008.2034199999999,
          1007.92302,
          1008.55311,
          1008.16842,
          1009.18756,
          1009.68612,
          1010.54258,
          1010.6918699999999,
          1011.54354,
          1010.99139,
          1011.7846900000001
         ],
         "z": [
          4933,
          4216,
          4385,
          4061,
          4014,
          4294,
          4266,
          4321,
          4535,
          5869,
          7168,
          7641,
          8689,
          11604,
          12821,
          10096,
          11377,
          14507,
          13176,
          12619
         ]
        },
        {
         "hovertemplate": "state=South Carolina<br>year=%{x}<br>pop_density=%{y}<br>total_handgun=%{z}<extra></extra>",
         "legendgroup": "South Carolina",
         "line": {
          "color": "#636efa",
          "dash": "solid"
         },
         "mode": "lines",
         "name": "South Carolina",
         "scene": "scene",
         "showlegend": true,
         "type": "scatter3d",
         "x": [
          1999,
          2000,
          2001,
          2002,
          2003,
          2004,
          2005,
          2006,
          2007,
          2008,
          2009,
          2010,
          2011,
          2012,
          2013,
          2014,
          2015,
          2016,
          2017,
          2018
         ],
         "y": [
          129.05362,
          133.63138,
          134.931,
          136.30043999999998,
          137.71328,
          139.53437,
          141.35748999999998,
          144.12073999999998,
          146.93822,
          149.56358,
          151.48862,
          153.96247,
          155.15035,
          156.66783999999998,
          158.2302,
          160.211,
          162.48474,
          164.67618000000002,
          166.76803999999998,
          168.85738
         ],
         "z": [
          57983,
          47169,
          45673,
          40243,
          42273,
          43079,
          48928,
          51585,
          55227,
          76430,
          85155,
          78737,
          91423,
          125378,
          122412,
          107694,
          134888,
          145508,
          136773,
          125509
         ]
        },
        {
         "hovertemplate": "state=South Dakota<br>year=%{x}<br>pop_density=%{y}<br>total_handgun=%{z}<extra></extra>",
         "legendgroup": "South Dakota",
         "line": {
          "color": "#EF553B",
          "dash": "solid"
         },
         "mode": "lines",
         "name": "South Dakota",
         "scene": "scene",
         "showlegend": true,
         "type": "scatter3d",
         "x": [
          1999,
          2000,
          2001,
          2002,
          2003,
          2004,
          2005,
          2006,
          2007,
          2008,
          2009,
          2010,
          2011,
          2012,
          2013,
          2014,
          2015,
          2016,
          2017,
          2018
         ],
         "y": [
          9.66115,
          9.95846,
          10.0018,
          10.04297,
          10.10712,
          10.20342,
          10.279869999999999,
          10.39102,
          10.50325,
          10.602039999999999,
          10.7055,
          10.755289999999999,
          10.85174,
          10.98367,
          11.09929,
          11.18914,
          11.252989999999999,
          11.37102,
          11.50802,
          11.62595
         ],
         "z": [
          4168,
          5768,
          7032,
          7888,
          8649,
          9217,
          9481,
          9835,
          10884,
          15358,
          16947,
          17541,
          21279,
          30119,
          32669,
          28890,
          33925,
          38146,
          33201,
          29625
         ]
        },
        {
         "hovertemplate": "state=Tennessee<br>year=%{x}<br>pop_density=%{y}<br>total_handgun=%{z}<extra></extra>",
         "legendgroup": "Tennessee",
         "line": {
          "color": "#00cc96",
          "dash": "solid"
         },
         "mode": "lines",
         "name": "Tennessee",
         "scene": "scene",
         "showlegend": true,
         "type": "scatter3d",
         "x": [
          1999,
          2000,
          2001,
          2002,
          2003,
          2004,
          2005,
          2006,
          2007,
          2008,
          2009,
          2010,
          2011,
          2012,
          2013,
          2014,
          2015,
          2016,
          2017,
          2018
         ],
         "y": [
          133.04023,
          138.37073,
          139.63719,
          140.79844,
          142.08955,
          143.55108,
          145.46742,
          147.74087,
          149.76452,
          151.40446,
          152.75822,
          154.19126,
          155.2129,
          156.51991,
          157.54256999999998,
          158.69243,
          159.90509,
          161.22015,
          162.76764,
          164.25286
         ],
         "z": [
          122114,
          100998,
          97966,
          91223,
          90007,
          87637,
          91349,
          98928,
          114808,
          146725,
          166340,
          166078,
          188776,
          233098,
          249753,
          229718,
          300902,
          319557,
          304012,
          290656
         ]
        },
        {
         "hovertemplate": "state=Texas<br>year=%{x}<br>pop_density=%{y}<br>total_handgun=%{z}<extra></extra>",
         "legendgroup": "Texas",
         "line": {
          "color": "#ab63fa",
          "dash": "solid"
         },
         "mode": "lines",
         "name": "Texas",
         "scene": "scene",
         "showlegend": true,
         "type": "scatter3d",
         "x": [
          1999,
          2000,
          2001,
          2002,
          2003,
          2004,
          2005,
          2006,
          2007,
          2008,
          2009,
          2010,
          2011,
          2012,
          2013,
          2014,
          2015,
          2016,
          2017,
          2018
         ],
         "y": [
          76.56364,
          80.00838,
          81.48618,
          82.92981999999999,
          84.25532,
          85.63241,
          87.09767,
          89.26387,
          91.0541,
          92.83635,
          94.66224,
          96.42081,
          97.96226,
          99.65592,
          101.18321999999999,
          103.04603,
          104.99285,
          106.71433,
          108.1858,
          109.63396999999999
         ],
         "z": [
          229866,
          189654,
          193477,
          177884,
          188869,
          190373,
          225605,
          245460,
          275743,
          376363,
          408417,
          396375,
          473092,
          615886,
          666857,
          586576,
          692677,
          717546,
          661685,
          604427
         ]
        },
        {
         "hovertemplate": "state=Utah<br>year=%{x}<br>pop_density=%{y}<br>total_handgun=%{z}<extra></extra>",
         "legendgroup": "Utah",
         "line": {
          "color": "#FFA15A",
          "dash": "solid"
         },
         "mode": "lines",
         "name": "Utah",
         "scene": "scene",
         "showlegend": true,
         "type": "scatter3d",
         "x": [
          1999,
          2000,
          2001,
          2002,
          2003,
          2004,
          2005,
          2006,
          2007,
          2008,
          2009,
          2010,
          2011,
          2012,
          2013,
          2014,
          2015,
          2016,
          2017,
          2018
         ],
         "y": [
          25.92819,
          27.321820000000002,
          27.893209999999996,
          28.4194,
          28.97288,
          29.69085,
          30.43007,
          31.45373,
          32.428509999999996,
          33.20212,
          33.89881,
          33.7862,
          34.25954,
          34.73738,
          35.278620000000004,
          35.75914,
          36.30815,
          37.03999,
          37.776559999999996,
          38.482479999999995
         ],
         "z": [
          26051,
          19941,
          19427,
          16940,
          18200,
          18899,
          20349,
          24198,
          29154,
          34625,
          34134,
          28442,
          32129,
          45471,
          48741,
          36773,
          46589,
          52148,
          50092,
          47589
         ]
        },
        {
         "hovertemplate": "state=Vermont<br>year=%{x}<br>pop_density=%{y}<br>total_handgun=%{z}<extra></extra>",
         "legendgroup": "Vermont",
         "line": {
          "color": "#19d3f3",
          "dash": "solid"
         },
         "mode": "lines",
         "name": "Vermont",
         "scene": "scene",
         "showlegend": true,
         "type": "scatter3d",
         "x": [
          1999,
          2000,
          2001,
          2002,
          2003,
          2004,
          2005,
          2006,
          2007,
          2008,
          2009,
          2010,
          2011,
          2012,
          2013,
          2014,
          2015,
          2016,
          2017,
          2018
         ],
         "y": [
          64.19116,
          65.9386,
          66.18185,
          66.48424,
          66.6582,
          66.82967,
          66.90199,
          67.02859000000001,
          67.07995,
          67.14363,
          67.22049,
          67.6627,
          67.78151,
          67.68249,
          67.69859,
          67.59114,
          67.58886,
          67.42097,
          67.51621999999999,
          67.708
         ],
         "z": [
          6443,
          5867,
          5873,
          5656,
          5846,
          5816,
          5912,
          6743,
          6673,
          8102,
          8898,
          9535,
          11276,
          14891,
          15913,
          13926,
          16366,
          18342,
          17651,
          18600
         ]
        },
        {
         "hovertemplate": "state=Virginia<br>year=%{x}<br>pop_density=%{y}<br>total_handgun=%{z}<extra></extra>",
         "legendgroup": "Virginia",
         "line": {
          "color": "#FF6692",
          "dash": "solid"
         },
         "mode": "lines",
         "name": "Virginia",
         "scene": "scene",
         "showlegend": true,
         "type": "scatter3d",
         "x": [
          1999,
          2000,
          2001,
          2002,
          2003,
          2004,
          2005,
          2006,
          2007,
          2008,
          2009,
          2010,
          2011,
          2012,
          2013,
          2014,
          2015,
          2016,
          2017,
          2018
         ],
         "y": [
          173.58438,
          179.43427,
          181.62578,
          183.95535,
          186.23228,
          188.63719,
          191.03585,
          193.13488,
          194.97235,
          196.88362,
          199.08512,
          202.64889,
          204.5883,
          206.72902,
          208.44201,
          209.93272000000002,
          211.21652000000003,
          212.42981,
          213.80025,
          215.12565
         ],
         "z": [
          84170,
          71978,
          73338,
          69145,
          72882,
          80005,
          89812,
          103747,
          114206,
          137088,
          148246,
          169736,
          175556,
          235889,
          257928,
          221407,
          262175,
          296012,
          292322,
          254216
         ]
        },
        {
         "hovertemplate": "state=Washington<br>year=%{x}<br>pop_density=%{y}<br>total_handgun=%{z}<extra></extra>",
         "legendgroup": "Washington",
         "line": {
          "color": "#B6E880",
          "dash": "solid"
         },
         "mode": "lines",
         "name": "Washington",
         "scene": "scene",
         "showlegend": true,
         "type": "scatter3d",
         "x": [
          1999,
          2000,
          2001,
          2002,
          2003,
          2004,
          2005,
          2006,
          2007,
          2008,
          2009,
          2010,
          2011,
          2012,
          2013,
          2014,
          2015,
          2016,
          2017,
          2018
         ],
         "y": [
          86.50451,
          88.8302,
          89.98226,
          91.01018,
          91.86788,
          92.93525,
          94.09228,
          95.75976,
          97.15335999999999,
          98.67256,
          100.14711,
          101.32998,
          102.51345,
          103.58373,
          104.63611999999999,
          105.98159,
          107.65122,
          109.6219,
          111.5868,
          113.24223
         ],
         "z": [
          29640,
          34495,
          41661,
          51134,
          61050,
          64946,
          70933,
          78501,
          86959,
          105614,
          120959,
          128688,
          150152,
          198633,
          214288,
          183413,
          204953,
          240751,
          228733,
          233901
         ]
        },
        {
         "hovertemplate": "state=West Virginia<br>year=%{x}<br>pop_density=%{y}<br>total_handgun=%{z}<extra></extra>",
         "legendgroup": "West Virginia",
         "line": {
          "color": "#FF97FF",
          "dash": "solid"
         },
         "mode": "lines",
         "name": "West Virginia",
         "scene": "scene",
         "showlegend": true,
         "type": "scatter3d",
         "x": [
          1999,
          2000,
          2001,
          2002,
          2003,
          2004,
          2005,
          2006,
          2007,
          2008,
          2009,
          2010,
          2011,
          2012,
          2013,
          2014,
          2015,
          2016,
          2017,
          2018
         ],
         "y": [
          75.04561,
          75.04701999999999,
          74.69899000000001,
          74.73342,
          74.85083,
          74.89502,
          74.92068,
          75.05845,
          75.22295,
          75.37559,
          75.57925999999999,
          77.00864,
          77.08589,
          77.11454,
          76.99448000000001,
          76.81149,
          76.5012,
          76.04157,
          75.46507,
          74.99925
         ],
         "z": [
          40720,
          36957,
          38178,
          37574,
          36561,
          36608,
          38730,
          40045,
          42137,
          50684,
          57192,
          58351,
          70744,
          90107,
          104412,
          89182,
          101276,
          105855,
          94410,
          88740
         ]
        },
        {
         "hovertemplate": "state=Wisconsin<br>year=%{x}<br>pop_density=%{y}<br>total_handgun=%{z}<extra></extra>",
         "legendgroup": "Wisconsin",
         "line": {
          "color": "#FECB52",
          "dash": "solid"
         },
         "mode": "lines",
         "name": "Wisconsin",
         "scene": "scene",
         "showlegend": true,
         "type": "scatter3d",
         "x": [
          1999,
          2000,
          2001,
          2002,
          2003,
          2004,
          2005,
          2006,
          2007,
          2008,
          2009,
          2010,
          2011,
          2012,
          2013,
          2014,
          2015,
          2016,
          2017,
          2018
         ],
         "y": [
          96.67531,
          98.95496,
          99.59048,
          100.29011,
          100.84305,
          101.47993000000001,
          102.03338000000001,
          102.59013,
          103.1405,
          103.61995,
          104.12012,
          104.77774000000001,
          105.0406,
          105.31863,
          105.63344,
          105.91003,
          106.0837,
          106.29641000000001,
          106.64797,
          107.04415
         ],
         "z": [
          49549,
          40804,
          41129,
          39058,
          43253,
          41028,
          39972,
          43712,
          43615,
          54043,
          64538,
          62781,
          102151,
          166410,
          167123,
          126605,
          157065,
          188275,
          173954,
          158189
         ]
        },
        {
         "hovertemplate": "state=Wyoming<br>year=%{x}<br>pop_density=%{y}<br>total_handgun=%{z}<extra></extra>",
         "legendgroup": "Wyoming",
         "line": {
          "color": "#636efa",
          "dash": "solid"
         },
         "mode": "lines",
         "name": "Wyoming",
         "scene": "scene",
         "showlegend": true,
         "type": "scatter3d",
         "x": [
          1999,
          2000,
          2001,
          2002,
          2003,
          2004,
          2005,
          2006,
          2007,
          2008,
          2009,
          2010,
          2011,
          2012,
          2013,
          2014,
          2015,
          2016,
          2017,
          2018
         ],
         "y": [
          4.93924,
          5.08709,
          5.077030000000001,
          5.11912,
          5.14096,
          5.18008,
          5.21359,
          5.28155,
          5.39044,
          5.48897,
          5.605230000000001,
          5.81342,
          5.84165,
          5.93481,
          5.99509,
          5.99946,
          6.0316,
          6.0174,
          5.96225,
          5.94992
         ],
         "z": [
          10485,
          9308,
          9469,
          9157,
          9214,
          9488,
          10310,
          11494,
          12158,
          16273,
          16830,
          15821,
          19964,
          25790,
          28577,
          23588,
          24251,
          24360,
          22066,
          23556
         ]
        }
       ],
       "layout": {
        "legend": {
         "title": {
          "text": "state"
         },
         "tracegroupgap": 0
        },
        "margin": {
         "t": 60
        },
        "scene": {
         "domain": {
          "x": [
           0,
           1
          ],
          "y": [
           0,
           1
          ]
         },
         "xaxis": {
          "title": {
           "text": "year"
          }
         },
         "yaxis": {
          "title": {
           "text": "pop_density"
          }
         },
         "zaxis": {
          "title": {
           "text": "total_handgun"
          }
         }
        },
        "template": {
         "data": {
          "bar": [
           {
            "error_x": {
             "color": "#2a3f5f"
            },
            "error_y": {
             "color": "#2a3f5f"
            },
            "marker": {
             "line": {
              "color": "#E5ECF6",
              "width": 0.5
             }
            },
            "type": "bar"
           }
          ],
          "barpolar": [
           {
            "marker": {
             "line": {
              "color": "#E5ECF6",
              "width": 0.5
             }
            },
            "type": "barpolar"
           }
          ],
          "carpet": [
           {
            "aaxis": {
             "endlinecolor": "#2a3f5f",
             "gridcolor": "white",
             "linecolor": "white",
             "minorgridcolor": "white",
             "startlinecolor": "#2a3f5f"
            },
            "baxis": {
             "endlinecolor": "#2a3f5f",
             "gridcolor": "white",
             "linecolor": "white",
             "minorgridcolor": "white",
             "startlinecolor": "#2a3f5f"
            },
            "type": "carpet"
           }
          ],
          "choropleth": [
           {
            "colorbar": {
             "outlinewidth": 0,
             "ticks": ""
            },
            "type": "choropleth"
           }
          ],
          "contour": [
           {
            "colorbar": {
             "outlinewidth": 0,
             "ticks": ""
            },
            "colorscale": [
             [
              0,
              "#0d0887"
             ],
             [
              0.1111111111111111,
              "#46039f"
             ],
             [
              0.2222222222222222,
              "#7201a8"
             ],
             [
              0.3333333333333333,
              "#9c179e"
             ],
             [
              0.4444444444444444,
              "#bd3786"
             ],
             [
              0.5555555555555556,
              "#d8576b"
             ],
             [
              0.6666666666666666,
              "#ed7953"
             ],
             [
              0.7777777777777778,
              "#fb9f3a"
             ],
             [
              0.8888888888888888,
              "#fdca26"
             ],
             [
              1,
              "#f0f921"
             ]
            ],
            "type": "contour"
           }
          ],
          "contourcarpet": [
           {
            "colorbar": {
             "outlinewidth": 0,
             "ticks": ""
            },
            "type": "contourcarpet"
           }
          ],
          "heatmap": [
           {
            "colorbar": {
             "outlinewidth": 0,
             "ticks": ""
            },
            "colorscale": [
             [
              0,
              "#0d0887"
             ],
             [
              0.1111111111111111,
              "#46039f"
             ],
             [
              0.2222222222222222,
              "#7201a8"
             ],
             [
              0.3333333333333333,
              "#9c179e"
             ],
             [
              0.4444444444444444,
              "#bd3786"
             ],
             [
              0.5555555555555556,
              "#d8576b"
             ],
             [
              0.6666666666666666,
              "#ed7953"
             ],
             [
              0.7777777777777778,
              "#fb9f3a"
             ],
             [
              0.8888888888888888,
              "#fdca26"
             ],
             [
              1,
              "#f0f921"
             ]
            ],
            "type": "heatmap"
           }
          ],
          "heatmapgl": [
           {
            "colorbar": {
             "outlinewidth": 0,
             "ticks": ""
            },
            "colorscale": [
             [
              0,
              "#0d0887"
             ],
             [
              0.1111111111111111,
              "#46039f"
             ],
             [
              0.2222222222222222,
              "#7201a8"
             ],
             [
              0.3333333333333333,
              "#9c179e"
             ],
             [
              0.4444444444444444,
              "#bd3786"
             ],
             [
              0.5555555555555556,
              "#d8576b"
             ],
             [
              0.6666666666666666,
              "#ed7953"
             ],
             [
              0.7777777777777778,
              "#fb9f3a"
             ],
             [
              0.8888888888888888,
              "#fdca26"
             ],
             [
              1,
              "#f0f921"
             ]
            ],
            "type": "heatmapgl"
           }
          ],
          "histogram": [
           {
            "marker": {
             "colorbar": {
              "outlinewidth": 0,
              "ticks": ""
             }
            },
            "type": "histogram"
           }
          ],
          "histogram2d": [
           {
            "colorbar": {
             "outlinewidth": 0,
             "ticks": ""
            },
            "colorscale": [
             [
              0,
              "#0d0887"
             ],
             [
              0.1111111111111111,
              "#46039f"
             ],
             [
              0.2222222222222222,
              "#7201a8"
             ],
             [
              0.3333333333333333,
              "#9c179e"
             ],
             [
              0.4444444444444444,
              "#bd3786"
             ],
             [
              0.5555555555555556,
              "#d8576b"
             ],
             [
              0.6666666666666666,
              "#ed7953"
             ],
             [
              0.7777777777777778,
              "#fb9f3a"
             ],
             [
              0.8888888888888888,
              "#fdca26"
             ],
             [
              1,
              "#f0f921"
             ]
            ],
            "type": "histogram2d"
           }
          ],
          "histogram2dcontour": [
           {
            "colorbar": {
             "outlinewidth": 0,
             "ticks": ""
            },
            "colorscale": [
             [
              0,
              "#0d0887"
             ],
             [
              0.1111111111111111,
              "#46039f"
             ],
             [
              0.2222222222222222,
              "#7201a8"
             ],
             [
              0.3333333333333333,
              "#9c179e"
             ],
             [
              0.4444444444444444,
              "#bd3786"
             ],
             [
              0.5555555555555556,
              "#d8576b"
             ],
             [
              0.6666666666666666,
              "#ed7953"
             ],
             [
              0.7777777777777778,
              "#fb9f3a"
             ],
             [
              0.8888888888888888,
              "#fdca26"
             ],
             [
              1,
              "#f0f921"
             ]
            ],
            "type": "histogram2dcontour"
           }
          ],
          "mesh3d": [
           {
            "colorbar": {
             "outlinewidth": 0,
             "ticks": ""
            },
            "type": "mesh3d"
           }
          ],
          "parcoords": [
           {
            "line": {
             "colorbar": {
              "outlinewidth": 0,
              "ticks": ""
             }
            },
            "type": "parcoords"
           }
          ],
          "pie": [
           {
            "automargin": true,
            "type": "pie"
           }
          ],
          "scatter": [
           {
            "marker": {
             "colorbar": {
              "outlinewidth": 0,
              "ticks": ""
             }
            },
            "type": "scatter"
           }
          ],
          "scatter3d": [
           {
            "line": {
             "colorbar": {
              "outlinewidth": 0,
              "ticks": ""
             }
            },
            "marker": {
             "colorbar": {
              "outlinewidth": 0,
              "ticks": ""
             }
            },
            "type": "scatter3d"
           }
          ],
          "scattercarpet": [
           {
            "marker": {
             "colorbar": {
              "outlinewidth": 0,
              "ticks": ""
             }
            },
            "type": "scattercarpet"
           }
          ],
          "scattergeo": [
           {
            "marker": {
             "colorbar": {
              "outlinewidth": 0,
              "ticks": ""
             }
            },
            "type": "scattergeo"
           }
          ],
          "scattergl": [
           {
            "marker": {
             "colorbar": {
              "outlinewidth": 0,
              "ticks": ""
             }
            },
            "type": "scattergl"
           }
          ],
          "scattermapbox": [
           {
            "marker": {
             "colorbar": {
              "outlinewidth": 0,
              "ticks": ""
             }
            },
            "type": "scattermapbox"
           }
          ],
          "scatterpolar": [
           {
            "marker": {
             "colorbar": {
              "outlinewidth": 0,
              "ticks": ""
             }
            },
            "type": "scatterpolar"
           }
          ],
          "scatterpolargl": [
           {
            "marker": {
             "colorbar": {
              "outlinewidth": 0,
              "ticks": ""
             }
            },
            "type": "scatterpolargl"
           }
          ],
          "scatterternary": [
           {
            "marker": {
             "colorbar": {
              "outlinewidth": 0,
              "ticks": ""
             }
            },
            "type": "scatterternary"
           }
          ],
          "surface": [
           {
            "colorbar": {
             "outlinewidth": 0,
             "ticks": ""
            },
            "colorscale": [
             [
              0,
              "#0d0887"
             ],
             [
              0.1111111111111111,
              "#46039f"
             ],
             [
              0.2222222222222222,
              "#7201a8"
             ],
             [
              0.3333333333333333,
              "#9c179e"
             ],
             [
              0.4444444444444444,
              "#bd3786"
             ],
             [
              0.5555555555555556,
              "#d8576b"
             ],
             [
              0.6666666666666666,
              "#ed7953"
             ],
             [
              0.7777777777777778,
              "#fb9f3a"
             ],
             [
              0.8888888888888888,
              "#fdca26"
             ],
             [
              1,
              "#f0f921"
             ]
            ],
            "type": "surface"
           }
          ],
          "table": [
           {
            "cells": {
             "fill": {
              "color": "#EBF0F8"
             },
             "line": {
              "color": "white"
             }
            },
            "header": {
             "fill": {
              "color": "#C8D4E3"
             },
             "line": {
              "color": "white"
             }
            },
            "type": "table"
           }
          ]
         },
         "layout": {
          "annotationdefaults": {
           "arrowcolor": "#2a3f5f",
           "arrowhead": 0,
           "arrowwidth": 1
          },
          "coloraxis": {
           "colorbar": {
            "outlinewidth": 0,
            "ticks": ""
           }
          },
          "colorscale": {
           "diverging": [
            [
             0,
             "#8e0152"
            ],
            [
             0.1,
             "#c51b7d"
            ],
            [
             0.2,
             "#de77ae"
            ],
            [
             0.3,
             "#f1b6da"
            ],
            [
             0.4,
             "#fde0ef"
            ],
            [
             0.5,
             "#f7f7f7"
            ],
            [
             0.6,
             "#e6f5d0"
            ],
            [
             0.7,
             "#b8e186"
            ],
            [
             0.8,
             "#7fbc41"
            ],
            [
             0.9,
             "#4d9221"
            ],
            [
             1,
             "#276419"
            ]
           ],
           "sequential": [
            [
             0,
             "#0d0887"
            ],
            [
             0.1111111111111111,
             "#46039f"
            ],
            [
             0.2222222222222222,
             "#7201a8"
            ],
            [
             0.3333333333333333,
             "#9c179e"
            ],
            [
             0.4444444444444444,
             "#bd3786"
            ],
            [
             0.5555555555555556,
             "#d8576b"
            ],
            [
             0.6666666666666666,
             "#ed7953"
            ],
            [
             0.7777777777777778,
             "#fb9f3a"
            ],
            [
             0.8888888888888888,
             "#fdca26"
            ],
            [
             1,
             "#f0f921"
            ]
           ],
           "sequentialminus": [
            [
             0,
             "#0d0887"
            ],
            [
             0.1111111111111111,
             "#46039f"
            ],
            [
             0.2222222222222222,
             "#7201a8"
            ],
            [
             0.3333333333333333,
             "#9c179e"
            ],
            [
             0.4444444444444444,
             "#bd3786"
            ],
            [
             0.5555555555555556,
             "#d8576b"
            ],
            [
             0.6666666666666666,
             "#ed7953"
            ],
            [
             0.7777777777777778,
             "#fb9f3a"
            ],
            [
             0.8888888888888888,
             "#fdca26"
            ],
            [
             1,
             "#f0f921"
            ]
           ]
          },
          "colorway": [
           "#636efa",
           "#EF553B",
           "#00cc96",
           "#ab63fa",
           "#FFA15A",
           "#19d3f3",
           "#FF6692",
           "#B6E880",
           "#FF97FF",
           "#FECB52"
          ],
          "font": {
           "color": "#2a3f5f"
          },
          "geo": {
           "bgcolor": "white",
           "lakecolor": "white",
           "landcolor": "#E5ECF6",
           "showlakes": true,
           "showland": true,
           "subunitcolor": "white"
          },
          "hoverlabel": {
           "align": "left"
          },
          "hovermode": "closest",
          "mapbox": {
           "style": "light"
          },
          "paper_bgcolor": "white",
          "plot_bgcolor": "#E5ECF6",
          "polar": {
           "angularaxis": {
            "gridcolor": "white",
            "linecolor": "white",
            "ticks": ""
           },
           "bgcolor": "#E5ECF6",
           "radialaxis": {
            "gridcolor": "white",
            "linecolor": "white",
            "ticks": ""
           }
          },
          "scene": {
           "xaxis": {
            "backgroundcolor": "#E5ECF6",
            "gridcolor": "white",
            "gridwidth": 2,
            "linecolor": "white",
            "showbackground": true,
            "ticks": "",
            "zerolinecolor": "white"
           },
           "yaxis": {
            "backgroundcolor": "#E5ECF6",
            "gridcolor": "white",
            "gridwidth": 2,
            "linecolor": "white",
            "showbackground": true,
            "ticks": "",
            "zerolinecolor": "white"
           },
           "zaxis": {
            "backgroundcolor": "#E5ECF6",
            "gridcolor": "white",
            "gridwidth": 2,
            "linecolor": "white",
            "showbackground": true,
            "ticks": "",
            "zerolinecolor": "white"
           }
          },
          "shapedefaults": {
           "line": {
            "color": "#2a3f5f"
           }
          },
          "ternary": {
           "aaxis": {
            "gridcolor": "white",
            "linecolor": "white",
            "ticks": ""
           },
           "baxis": {
            "gridcolor": "white",
            "linecolor": "white",
            "ticks": ""
           },
           "bgcolor": "#E5ECF6",
           "caxis": {
            "gridcolor": "white",
            "linecolor": "white",
            "ticks": ""
           }
          },
          "title": {
           "x": 0.05
          },
          "xaxis": {
           "automargin": true,
           "gridcolor": "white",
           "linecolor": "white",
           "ticks": "",
           "title": {
            "standoff": 15
           },
           "zerolinecolor": "white",
           "zerolinewidth": 2
          },
          "yaxis": {
           "automargin": true,
           "gridcolor": "white",
           "linecolor": "white",
           "ticks": "",
           "title": {
            "standoff": 15
           },
           "zerolinecolor": "white",
           "zerolinewidth": 2
          }
         }
        }
       }
      }
     },
     "metadata": {}
    }
   ],
   "source": [
    "import plotly.express as px\n",
    "import plotly.express as px\n",
    "fig = px.line_3d(all_df, x=\"year\", y=\"pop_density\", z=\"total_handgun\", color='state')\n",
    "fig.show()"
   ]
  },
  {
   "cell_type": "code",
   "execution_count": 33,
   "metadata": {},
   "outputs": [
    {
     "output_type": "execute_result",
     "data": {
      "text/plain": "(1000, 5)"
     },
     "metadata": {},
     "execution_count": 33
    }
   ],
   "source": [
    "all_df_noDC = all_df[all_df['state'] != 'District of Columbia']\n",
    "all_df_noDC.shape"
   ]
  },
  {
   "cell_type": "code",
   "execution_count": 41,
   "metadata": {},
   "outputs": [],
   "source": [
    "fig = px.line_3d(all_df_noDC, x=\"pop_density\", y=\"total_handgun\", z='year', color='state')\n",
    "fig.show()"
   ]
  },
  {
   "cell_type": "code",
   "execution_count": 42,
   "metadata": {},
   "outputs": [
    {
     "output_type": "display_data",
     "data": {
      "application/vnd.plotly.v1+json": {
       "config": {
        "plotlyServerURL": "https://plot.ly"
       },
       "data": [
        {
         "hovertemplate": "state=Alabama<br>pop_density=%{x}<br>total_long_gun=%{y}<br>year=%{z}<extra></extra>",
         "legendgroup": "Alabama",
         "line": {
          "color": "#636efa",
          "dash": "solid"
         },
         "mode": "lines",
         "name": "Alabama",
         "scene": "scene",
         "showlegend": true,
         "type": "scatter3d",
         "x": [
          86.11584,
          87.73153,
          87.97166,
          88.13691999999999,
          88.49501,
          88.92066,
          89.56821,
          90.60555,
          91.39808000000001,
          92.17768000000001,
          92.79339,
          94.30569,
          94.56949,
          94.89918,
          95.19273000000001,
          95.42963,
          95.64008000000001,
          95.86838,
          96.07284,
          96.32412
         ],
         "y": [
          149017,
          136767,
          140082,
          136136,
          137696,
          140544,
          139936,
          141057,
          134278,
          164122,
          169496,
          160043,
          170785,
          210085,
          228688,
          195712,
          199105,
          139841,
          101116,
          94386
         ],
         "z": [
          1999,
          2000,
          2001,
          2002,
          2003,
          2004,
          2005,
          2006,
          2007,
          2008,
          2009,
          2010,
          2011,
          2012,
          2013,
          2014,
          2015,
          2016,
          2017,
          2018
         ]
        },
        {
         "hovertemplate": "state=Alaska<br>pop_density=%{x}<br>total_long_gun=%{y}<br>year=%{z}<extra></extra>",
         "legendgroup": "Alaska",
         "line": {
          "color": "#EF553B",
          "dash": "solid"
         },
         "mode": "lines",
         "name": "Alaska",
         "scene": "scene",
         "showlegend": true,
         "type": "scatter3d",
         "x": [
          1.08313,
          1.09712,
          1.1072899999999999,
          1.12368,
          1.13801,
          1.15669,
          1.1705299999999998,
          1.18424,
          1.1929299999999998,
          1.20312,
          1.2212100000000001,
          1.24819,
          1.26241,
          1.2770299999999999,
          1.28865,
          1.28736,
          1.2895299999999998,
          1.29645,
          1.29344,
          1.28934
         ],
         "y": [
          27790,
          26311,
          25682,
          23741,
          23355,
          24803,
          26205,
          27426,
          28604,
          35306,
          33230,
          35692,
          37044,
          43052,
          46554,
          42107,
          38715,
          39213,
          35238,
          34748
         ],
         "z": [
          1999,
          2000,
          2001,
          2002,
          2003,
          2004,
          2005,
          2006,
          2007,
          2008,
          2009,
          2010,
          2011,
          2012,
          2013,
          2014,
          2015,
          2016,
          2017,
          2018
         ]
        },
        {
         "hovertemplate": "state=Arizona<br>pop_density=%{x}<br>total_long_gun=%{y}<br>year=%{z}<extra></extra>",
         "legendgroup": "Arizona",
         "line": {
          "color": "#00cc96",
          "dash": "solid"
         },
         "mode": "lines",
         "name": "Arizona",
         "scene": "scene",
         "showlegend": true,
         "type": "scatter3d",
         "x": [
          42.04999,
          45.46765,
          46.67961,
          47.97931,
          49.20339,
          50.68374,
          52.57937,
          54.49134,
          55.9886,
          57.19542,
          58.04376,
          56.38909,
          56.967459999999996,
          57.69903000000001,
          58.388690000000004,
          59.2585,
          60.13636999999999,
          61.120709999999995,
          62.03085,
          63.11124
         ],
         "y": [
          71365,
          64828,
          67475,
          62984,
          64963,
          70001,
          77862,
          83403,
          74182,
          77428,
          76966,
          75898,
          89406,
          116413,
          119396,
          100473,
          102058,
          117638,
          107754,
          100359
         ],
         "z": [
          1999,
          2000,
          2001,
          2002,
          2003,
          2004,
          2005,
          2006,
          2007,
          2008,
          2009,
          2010,
          2011,
          2012,
          2013,
          2014,
          2015,
          2016,
          2017,
          2018
         ]
        },
        {
         "hovertemplate": "state=Arkansas<br>pop_density=%{x}<br>total_long_gun=%{y}<br>year=%{z}<extra></extra>",
         "legendgroup": "Arkansas",
         "line": {
          "color": "#ab63fa",
          "dash": "solid"
         },
         "mode": "lines",
         "name": "Arkansas",
         "scene": "scene",
         "showlegend": true,
         "type": "scatter3d",
         "x": [
          49.00063,
          51.438109999999995,
          51.68355,
          51.94598,
          52.28321,
          52.74165,
          53.31896999999999,
          54.0656,
          54.58602,
          55.0771,
          55.4936,
          56.1185,
          56.47244,
          56.69718,
          56.84007,
          56.997119999999995,
          57.20225,
          57.43278000000001,
          57.674519999999994,
          57.88248000000001
         ],
         "y": [
          126875,
          116885,
          115927,
          107073,
          106932,
          109234,
          109621,
          109050,
          98874,
          100628,
          98820,
          96488,
          104897,
          122210,
          120903,
          107611,
          105665,
          102836,
          96320,
          90980
         ],
         "z": [
          1999,
          2000,
          2001,
          2002,
          2003,
          2004,
          2005,
          2006,
          2007,
          2008,
          2009,
          2010,
          2011,
          2012,
          2013,
          2014,
          2015,
          2016,
          2017,
          2018
         ]
        },
        {
         "hovertemplate": "state=California<br>pop_density=%{x}<br>total_long_gun=%{y}<br>year=%{z}<extra></extra>",
         "legendgroup": "California",
         "line": {
          "color": "#FFA15A",
          "dash": "solid"
         },
         "mode": "lines",
         "name": "California",
         "scene": "scene",
         "showlegend": true,
         "type": "scatter3d",
         "x": [
          212.52412,
          217.97072999999997,
          221.11932000000002,
          223.62363,
          226.02755,
          227.99801000000002,
          229.51657999999998,
          230.69608,
          232.27927000000003,
          234.55069,
          236.99551,
          239.29945,
          241.35717000000002,
          243.40232000000003,
          245.45441,
          247.66214,
          249.76527000000002,
          251.40662999999998,
          252.62632000000002,
          253.63746
         ],
         "y": [
          410119,
          302746,
          338251,
          257323,
          209606,
          219511,
          239155,
          227982,
          191063,
          217609,
          256203,
          275458,
          322046,
          426896,
          530272,
          375162,
          349194,
          561195,
          322897,
          317334
         ],
         "z": [
          1999,
          2000,
          2001,
          2002,
          2003,
          2004,
          2005,
          2006,
          2007,
          2008,
          2009,
          2010,
          2011,
          2012,
          2013,
          2014,
          2015,
          2016,
          2017,
          2018
         ]
        },
        {
         "hovertemplate": "state=Colorado<br>pop_density=%{x}<br>total_long_gun=%{y}<br>year=%{z}<extra></extra>",
         "legendgroup": "Colorado",
         "line": {
          "color": "#19d3f3",
          "dash": "solid"
         },
         "mode": "lines",
         "name": "Colorado",
         "scene": "scene",
         "showlegend": true,
         "type": "scatter3d",
         "x": [
          39.1075,
          41.7294,
          42.74174,
          43.42819,
          43.85734,
          44.34815,
          44.93724,
          45.826809999999995,
          46.68699,
          47.58321,
          48.44647,
          48.673140000000004,
          49.3817,
          50.07541,
          50.8155,
          51.593920000000004,
          52.56664,
          53.422940000000004,
          54.145880000000005,
          54.913940000000004
         ],
         "y": [
          147253,
          178889,
          207982,
          110700,
          99640,
          109533,
          116200,
          117350,
          112173,
          132372,
          132671,
          129642,
          146166,
          170974,
          188050,
          156118,
          163388,
          180469,
          167538,
          161511
         ],
         "z": [
          1999,
          2000,
          2001,
          2002,
          2003,
          2004,
          2005,
          2006,
          2007,
          2008,
          2009,
          2010,
          2011,
          2012,
          2013,
          2014,
          2015,
          2016,
          2017,
          2018
         ]
        },
        {
         "hovertemplate": "state=Connecticut<br>pop_density=%{x}<br>total_long_gun=%{y}<br>year=%{z}<extra></extra>",
         "legendgroup": "Connecticut",
         "line": {
          "color": "#FF6692",
          "dash": "solid"
         },
         "mode": "lines",
         "name": "Connecticut",
         "scene": "scene",
         "showlegend": true,
         "type": "scatter3d",
         "x": [
          677.4337400000001,
          704.20368,
          707.65212,
          711.76973,
          715.75153,
          717.18337,
          717.76255,
          719.3613799999999,
          720.07782,
          723.02923,
          726.19881,
          738.72549,
          740.5620200000001,
          741.87719,
          741.98452,
          741.95728,
          740.45593,
          738.6324,
          737.64293,
          737.39216
         ],
         "y": [
          22860,
          4,
          13153,
          26081,
          27660,
          25045,
          24630,
          26291,
          28627,
          37053,
          40850,
          40546,
          41435,
          53992,
          57455,
          59523,
          48354,
          43815,
          25869,
          24573
         ],
         "z": [
          1999,
          2000,
          2001,
          2002,
          2003,
          2004,
          2005,
          2006,
          2007,
          2008,
          2009,
          2010,
          2011,
          2012,
          2013,
          2014,
          2015,
          2016,
          2017,
          2018
         ]
        },
        {
         "hovertemplate": "state=Delaware<br>pop_density=%{x}<br>total_long_gun=%{y}<br>year=%{z}<extra></extra>",
         "legendgroup": "Delaware",
         "line": {
          "color": "#B6E880",
          "dash": "solid"
         },
         "mode": "lines",
         "name": "Delaware",
         "scene": "scene",
         "showlegend": true,
         "type": "scatter3d",
         "x": [
          385.72555,
          402.55278,
          406.75485,
          411.6234,
          417.13845,
          423.14493,
          429.93612,
          436.65000999999995,
          442.72815,
          448.52014,
          453.08155,
          460.38639000000006,
          464.33777000000003,
          468.36643,
          472.69089,
          477.27533,
          481.78762,
          485.78095999999994,
          489.8045,
          494.96980999999994
         ],
         "y": [
          11417,
          10260,
          11220,
          11396,
          11172,
          11221,
          10700,
          10371,
          9316,
          9841,
          10246,
          9466,
          10676,
          13910,
          16483,
          19403,
          20311,
          22187,
          19045,
          18907
         ],
         "z": [
          1999,
          2000,
          2001,
          2002,
          2003,
          2004,
          2005,
          2006,
          2007,
          2008,
          2009,
          2010,
          2011,
          2012,
          2013,
          2014,
          2015,
          2016,
          2017,
          2018
         ]
        },
        {
         "hovertemplate": "state=Florida<br>pop_density=%{x}<br>total_long_gun=%{y}<br>year=%{z}<extra></extra>",
         "legendgroup": "Florida",
         "line": {
          "color": "#FF97FF",
          "dash": "solid"
         },
         "mode": "lines",
         "name": "Florida",
         "scene": "scene",
         "showlegend": true,
         "type": "scatter3d",
         "x": [
          280.2176,
          297.57212000000004,
          303.2604,
          309.31379,
          314.89309,
          322.2007,
          329.7778,
          335.42688,
          338.93872999999996,
          341.64592000000005,
          343.76158,
          349.46845,
          354.05922999999996,
          358.37762000000004,
          362.77126,
          368.28175,
          375.03011000000004,
          382.55386,
          388.98533,
          394.96587999999997
         ],
         "y": [
          127226,
          122921,
          143923,
          144375,
          151563,
          161075,
          175203,
          184169,
          174611,
          193254,
          201975,
          194576,
          221266,
          307311,
          338972,
          289112,
          291509,
          331399,
          294622,
          260111
         ],
         "z": [
          1999,
          2000,
          2001,
          2002,
          2003,
          2004,
          2005,
          2006,
          2007,
          2008,
          2009,
          2010,
          2011,
          2012,
          2013,
          2014,
          2015,
          2016,
          2017,
          2018
         ]
        },
        {
         "hovertemplate": "state=Georgia<br>pop_density=%{x}<br>total_long_gun=%{y}<br>year=%{z}<extra></extra>",
         "legendgroup": "Georgia",
         "line": {
          "color": "#FECB52",
          "dash": "solid"
         },
         "mode": "lines",
         "name": "Georgia",
         "scene": "scene",
         "showlegend": true,
         "type": "scatter3d",
         "x": [
          134.49765,
          142.12933,
          145.40071,
          148.2664,
          150.85203,
          153.93318,
          157.10645,
          161.1243,
          164.64163,
          167.47512,
          169.74385,
          167.71681999999998,
          169.26705,
          170.99257,
          172.23303,
          173.88528,
          175.82135,
          177.95674,
          179.82686999999999,
          181.66468
         ],
         "y": [
          138415,
          130224,
          130545,
          121653,
          122709,
          123561,
          136249,
          157386,
          126905,
          128461,
          121320,
          117275,
          135982,
          164575,
          164336,
          148499,
          148320,
          147453,
          131114,
          121926
         ],
         "z": [
          1999,
          2000,
          2001,
          2002,
          2003,
          2004,
          2005,
          2006,
          2007,
          2008,
          2009,
          2010,
          2011,
          2012,
          2013,
          2014,
          2015,
          2016,
          2017,
          2018
         ]
        },
        {
         "hovertemplate": "state=Hawaii<br>pop_density=%{x}<br>total_long_gun=%{y}<br>year=%{z}<extra></extra>",
         "legendgroup": "Hawaii",
         "line": {
          "color": "#636efa",
          "dash": "solid"
         },
         "mode": "lines",
         "name": "Hawaii",
         "scene": "scene",
         "showlegend": true,
         "type": "scatter3d",
         "x": [
          184.58153000000001,
          188.64046000000002,
          189.68972,
          191.20997,
          192.95833000000002,
          195.05778,
          197.13404,
          198.61038,
          198.80236000000002,
          200.4604,
          201.65882,
          212.35606,
          214.73642,
          217.17344,
          219.28273,
          220.28055,
          221.46722999999997,
          222.34236,
          221.73486,
          221.15694
         ],
         "y": [
          4,
          0,
          0,
          0,
          0,
          0,
          0,
          0,
          0,
          0,
          0,
          0,
          0,
          6,
          0,
          0,
          16,
          32,
          15,
          31
         ],
         "z": [
          1999,
          2000,
          2001,
          2002,
          2003,
          2004,
          2005,
          2006,
          2007,
          2008,
          2009,
          2010,
          2011,
          2012,
          2013,
          2014,
          2015,
          2016,
          2017,
          2018
         ]
        },
        {
         "hovertemplate": "state=Idaho<br>pop_density=%{x}<br>total_long_gun=%{y}<br>year=%{z}<extra></extra>",
         "legendgroup": "Idaho",
         "line": {
          "color": "#EF553B",
          "dash": "solid"
         },
         "mode": "lines",
         "name": "Idaho",
         "scene": "scene",
         "showlegend": true,
         "type": "scatter3d",
         "x": [
          15.12679,
          15.705070000000001,
          15.966339999999999,
          16.21987,
          16.48526,
          16.81891,
          17.23154,
          17.697429999999997,
          18.11838,
          18.45991,
          18.681,
          18.98284,
          19.140610000000002,
          19.28095,
          19.47539,
          19.71647,
          19.95871,
          20.338260000000002,
          20.77301,
          21.19966
         ],
         "y": [
          49778,
          46396,
          46952,
          45570,
          45740,
          46816,
          49865,
          54240,
          53272,
          53816,
          50935,
          50130,
          56450,
          65933,
          65227,
          58694,
          60774,
          62278,
          61555,
          61045
         ],
         "z": [
          1999,
          2000,
          2001,
          2002,
          2003,
          2004,
          2005,
          2006,
          2007,
          2008,
          2009,
          2010,
          2011,
          2012,
          2013,
          2014,
          2015,
          2016,
          2017,
          2018
         ]
        },
        {
         "hovertemplate": "state=Illinois<br>pop_density=%{x}<br>total_long_gun=%{y}<br>year=%{z}<extra></extra>",
         "legendgroup": "Illinois",
         "line": {
          "color": "#00cc96",
          "dash": "solid"
         },
         "mode": "lines",
         "name": "Illinois",
         "scene": "scene",
         "showlegend": true,
         "type": "scatter3d",
         "x": [
          218.20058999999998,
          223.76473,
          225.02747999999997,
          225.93415,
          226.64933,
          227.50055,
          228.02511,
          228.80877999999998,
          229.91352999999998,
          231.05662,
          232.2702,
          231.01543999999998,
          231.49271000000002,
          231.79546000000002,
          232.05003,
          231.88259,
          231.43966,
          230.76596,
          230.03375,
          229.22207999999998
         ],
         "y": [
          108485,
          90875,
          94887,
          93303,
          95656,
          99523,
          94815,
          97719,
          93588,
          102650,
          118568,
          116746,
          133935,
          174405,
          184681,
          155203,
          146878,
          177255,
          142550,
          133987
         ],
         "z": [
          1999,
          2000,
          2001,
          2002,
          2003,
          2004,
          2005,
          2006,
          2007,
          2008,
          2009,
          2010,
          2011,
          2012,
          2013,
          2014,
          2015,
          2016,
          2017,
          2018
         ]
        },
        {
         "hovertemplate": "state=Indiana<br>pop_density=%{x}<br>total_long_gun=%{y}<br>year=%{z}<extra></extra>",
         "legendgroup": "Indiana",
         "line": {
          "color": "#ab63fa",
          "dash": "solid"
         },
         "mode": "lines",
         "name": "Indiana",
         "scene": "scene",
         "showlegend": true,
         "type": "scatter3d",
         "x": [
          165.69319,
          169.84041000000002,
          170.76934,
          171.4396,
          172.35359,
          173.26432,
          174.34236,
          175.69681,
          176.93508,
          178.11155,
          179.08191000000002,
          180.95843,
          181.67243,
          182.27451000000002,
          183.13121,
          183.83285,
          184.24446,
          184.94281999999998,
          185.68829,
          186.57478999999998
         ],
         "y": [
          171369,
          91875,
          67337,
          66281,
          80575,
          111147,
          105817,
          112913,
          109283,
          120900,
          124207,
          120598,
          136765,
          181845,
          190846,
          166472,
          167142,
          183772,
          163532,
          153693
         ],
         "z": [
          1999,
          2000,
          2001,
          2002,
          2003,
          2004,
          2005,
          2006,
          2007,
          2008,
          2009,
          2010,
          2011,
          2012,
          2013,
          2014,
          2015,
          2016,
          2017,
          2018
         ]
        },
        {
         "hovertemplate": "state=Iowa<br>pop_density=%{x}<br>total_long_gun=%{y}<br>year=%{z}<extra></extra>",
         "legendgroup": "Iowa",
         "line": {
          "color": "#FFA15A",
          "dash": "solid"
         },
         "mode": "lines",
         "name": "Iowa",
         "scene": "scene",
         "showlegend": true,
         "type": "scatter3d",
         "x": [
          51.35933,
          52.41127,
          52.43346,
          52.4306,
          52.493869999999994,
          52.64706999999999,
          52.791909999999994,
          53.05933,
          53.31579,
          53.58906999999999,
          53.837309999999995,
          54.60572,
          54.87934,
          55.0591,
          55.36305,
          55.65705,
          55.87106,
          56.055859999999996,
          56.268,
          56.49188
         ],
         "y": [
          45371,
          41996,
          41353,
          40295,
          44020,
          46981,
          47491,
          48069,
          44118,
          44124,
          42916,
          41865,
          43432,
          47214,
          42636,
          36443,
          35107,
          36138,
          33183,
          31245
         ],
         "z": [
          1999,
          2000,
          2001,
          2002,
          2003,
          2004,
          2005,
          2006,
          2007,
          2008,
          2009,
          2010,
          2011,
          2012,
          2013,
          2014,
          2015,
          2016,
          2017,
          2018
         ]
        },
        {
         "hovertemplate": "state=Kansas<br>pop_density=%{x}<br>total_long_gun=%{y}<br>year=%{z}<extra></extra>",
         "legendgroup": "Kansas",
         "line": {
          "color": "#19d3f3",
          "dash": "solid"
         },
         "mode": "lines",
         "name": "Kansas",
         "scene": "scene",
         "showlegend": true,
         "type": "scatter3d",
         "x": [
          32.43972,
          32.91345,
          33.01913,
          33.15531,
          33.26968,
          33.377359999999996,
          33.51189,
          33.682140000000004,
          33.9252,
          34.191520000000004,
          34.452740000000006,
          34.93507,
          35.06735,
          35.266890000000004,
          35.3665,
          35.45677,
          35.56196,
          35.583490000000005,
          35.57647,
          35.58645
         ],
         "y": [
          68393,
          65492,
          65371,
          65819,
          68139,
          69626,
          67964,
          68904,
          65194,
          68735,
          74886,
          73118,
          79925,
          96759,
          96367,
          76573,
          75247,
          78927,
          71756,
          66397
         ],
         "z": [
          1999,
          2000,
          2001,
          2002,
          2003,
          2004,
          2005,
          2006,
          2007,
          2008,
          2009,
          2010,
          2011,
          2012,
          2013,
          2014,
          2015,
          2016,
          2017,
          2018
         ]
        },
        {
         "hovertemplate": "state=Kentucky<br>pop_density=%{x}<br>total_long_gun=%{y}<br>year=%{z}<extra></extra>",
         "legendgroup": "Kentucky",
         "line": {
          "color": "#FF6692",
          "dash": "solid"
         },
         "mode": "lines",
         "name": "Kentucky",
         "scene": "scene",
         "showlegend": true,
         "type": "scatter3d",
         "x": [
          99.69811999999999,
          101.91514000000001,
          102.42581,
          102.98307,
          103.67017,
          104.40876,
          105.27271,
          106.20607,
          107.13498999999999,
          107.93173,
          108.59075,
          109.44925,
          109.9851,
          110.41032,
          110.87437,
          111.11768000000001,
          111.40755,
          111.71538999999999,
          112.10918999999998,
          112.47488
         ],
         "y": [
          147578,
          140793,
          150014,
          146283,
          143423,
          148835,
          143765,
          144322,
          131460,
          133158,
          133305,
          127228,
          140971,
          160254,
          156175,
          136769,
          134557,
          131374,
          119734,
          111801
         ],
         "z": [
          1999,
          2000,
          2001,
          2002,
          2003,
          2004,
          2005,
          2006,
          2007,
          2008,
          2009,
          2010,
          2011,
          2012,
          2013,
          2014,
          2015,
          2016,
          2017,
          2018
         ]
        },
        {
         "hovertemplate": "state=Louisiana<br>pop_density=%{x}<br>total_long_gun=%{y}<br>year=%{z}<extra></extra>",
         "legendgroup": "Louisiana",
         "line": {
          "color": "#B6E880",
          "dash": "solid"
         },
         "mode": "lines",
         "name": "Louisiana",
         "scene": "scene",
         "showlegend": true,
         "type": "scatter3d",
         "x": [
          100.36385,
          102.58928,
          102.4019,
          102.52246,
          102.72121,
          103.05639000000001,
          103.24839,
          97.34038000000001,
          100.45767,
          102.18834,
          103.1195,
          104.32330999999999,
          105.02695,
          105.61531000000001,
          106.16081000000001,
          106.61136,
          107.08533,
          107.39211,
          107.2223,
          106.97346
         ],
         "y": [
          123008,
          112960,
          115460,
          107077,
          111274,
          110961,
          121164,
          123330,
          121238,
          140763,
          134214,
          133168,
          144917,
          173383,
          182748,
          161572,
          154537,
          152012,
          130520,
          119628
         ],
         "z": [
          1999,
          2000,
          2001,
          2002,
          2003,
          2004,
          2005,
          2006,
          2007,
          2008,
          2009,
          2010,
          2011,
          2012,
          2013,
          2014,
          2015,
          2016,
          2017,
          2018
         ]
        },
        {
         "hovertemplate": "state=Maine<br>pop_density=%{x}<br>total_long_gun=%{y}<br>year=%{z}<extra></extra>",
         "legendgroup": "Maine",
         "line": {
          "color": "#FF97FF",
          "dash": "solid"
         },
         "mode": "lines",
         "name": "Maine",
         "scene": "scene",
         "showlegend": true,
         "type": "scatter3d",
         "x": [
          40.60198,
          41.38519,
          41.6308,
          41.92719,
          42.22413,
          42.39103,
          42.50049,
          42.60846,
          42.68444,
          42.76166,
          42.71662,
          43.01834,
          43.03512,
          43.02025,
          43.036609999999996,
          43.119690000000006,
          43.04595,
          43.13946,
          43.25912,
          43.36738
         ],
         "y": [
          33526,
          32362,
          35953,
          36109,
          36893,
          37863,
          35262,
          37160,
          34861,
          36159,
          37412,
          40038,
          43099,
          51013,
          53631,
          46164,
          43286,
          48849,
          41598,
          41370
         ],
         "z": [
          1999,
          2000,
          2001,
          2002,
          2003,
          2004,
          2005,
          2006,
          2007,
          2008,
          2009,
          2010,
          2011,
          2012,
          2013,
          2014,
          2015,
          2016,
          2017,
          2018
         ]
        },
        {
         "hovertemplate": "state=Maryland<br>pop_density=%{x}<br>total_long_gun=%{y}<br>year=%{z}<extra></extra>",
         "legendgroup": "Maryland",
         "line": {
          "color": "#FECB52",
          "dash": "solid"
         },
         "mode": "lines",
         "name": "Maryland",
         "scene": "scene",
         "showlegend": true,
         "type": "scatter3d",
         "x": [
          529.13129,
          543.3473299999999,
          549.9418900000001,
          556.58003,
          562.39096,
          567.0924,
          571.17074,
          574.20701,
          576.46263,
          578.96043,
          583.1372,
          592.24903,
          597.40035,
          602.31962,
          606.06753,
          609.59331,
          612.51453,
          614.35359,
          616.4202,
          618.2441200000001
         ],
         "y": [
          51662,
          46531,
          51740,
          49574,
          49816,
          51112,
          51500,
          51709,
          46411,
          48768,
          48565,
          47163,
          55561,
          67961,
          89169,
          66122,
          67061,
          73780,
          68159,
          63380
         ],
         "z": [
          1999,
          2000,
          2001,
          2002,
          2003,
          2004,
          2005,
          2006,
          2007,
          2008,
          2009,
          2010,
          2011,
          2012,
          2013,
          2014,
          2015,
          2016,
          2017,
          2018
         ]
        },
        {
         "hovertemplate": "state=Massachusetts<br>pop_density=%{x}<br>total_long_gun=%{y}<br>year=%{z}<extra></extra>",
         "legendgroup": "Massachusetts",
         "line": {
          "color": "#636efa",
          "dash": "solid"
         },
         "mode": "lines",
         "name": "Massachusetts",
         "scene": "scene",
         "showlegend": true,
         "type": "scatter3d",
         "x": [
          787.6471,
          811.60699,
          817.82062,
          821.5512200000001,
          822.9107799999999,
          822.86512,
          823.0885900000001,
          824.7936900000001,
          828.9870400000001,
          834.64009,
          841.0166,
          837.55497,
          843.5139,
          849.8926,
          856.37041,
          862.71071,
          866.8228300000001,
          870.6660699999999,
          875.41403,
          880.37615
         ],
         "y": [
          9836,
          10857,
          13525,
          15486,
          17139,
          16535,
          15565,
          16888,
          16963,
          19407,
          22114,
          21903,
          24802,
          35033,
          40066,
          33432,
          34295,
          42380,
          35013,
          33396
         ],
         "z": [
          1999,
          2000,
          2001,
          2002,
          2003,
          2004,
          2005,
          2006,
          2007,
          2008,
          2009,
          2010,
          2011,
          2012,
          2013,
          2014,
          2015,
          2016,
          2017,
          2018
         ]
        },
        {
         "hovertemplate": "state=Michigan<br>pop_density=%{x}<br>total_long_gun=%{y}<br>year=%{z}<extra></extra>",
         "legendgroup": "Michigan",
         "line": {
          "color": "#EF553B",
          "dash": "solid"
         },
         "mode": "lines",
         "name": "Michigan",
         "scene": "scene",
         "showlegend": true,
         "type": "scatter3d",
         "x": [
          173.64633,
          175.25772,
          176.15176,
          176.72697,
          177.21257,
          177.61666,
          177.63865,
          177.49577,
          176.93963,
          176.08826000000002,
          175.51156,
          173.88801999999998,
          173.95819,
          174.22946000000002,
          174.5185,
          174.822,
          174.85693,
          175.19699,
          175.6293,
          175.97203000000002
         ],
         "y": [
          182542,
          177663,
          181948,
          177621,
          180377,
          173404,
          161748,
          163931,
          146563,
          144512,
          139202,
          133394,
          138514,
          164128,
          159916,
          130272,
          131265,
          132969,
          129285,
          120327
         ],
         "z": [
          1999,
          2000,
          2001,
          2002,
          2003,
          2004,
          2005,
          2006,
          2007,
          2008,
          2009,
          2010,
          2011,
          2012,
          2013,
          2014,
          2015,
          2016,
          2017,
          2018
         ]
        },
        {
         "hovertemplate": "state=Minnesota<br>pop_density=%{x}<br>total_long_gun=%{y}<br>year=%{z}<extra></extra>",
         "legendgroup": "Minnesota",
         "line": {
          "color": "#00cc96",
          "dash": "solid"
         },
         "mode": "lines",
         "name": "Minnesota",
         "scene": "scene",
         "showlegend": true,
         "type": "scatter3d",
         "x": [
          59.986219999999996,
          61.97655,
          62.590230000000005,
          63.02541,
          63.40732,
          63.802769999999995,
          64.14464,
          64.66951999999999,
          65.2079,
          65.70232,
          66.15009,
          66.71075,
          67.1482,
          67.53611,
          68.00268,
          68.47785,
          68.86701,
          69.38084,
          69.94291,
          70.48334
         ],
         "y": [
          119347,
          121151,
          122878,
          123419,
          131103,
          135379,
          132424,
          137572,
          127592,
          126562,
          123498,
          123808,
          134515,
          156244,
          159067,
          139529,
          142852,
          149005,
          130738,
          108778
         ],
         "z": [
          1999,
          2000,
          2001,
          2002,
          2003,
          2004,
          2005,
          2006,
          2007,
          2008,
          2009,
          2010,
          2011,
          2012,
          2013,
          2014,
          2015,
          2016,
          2017,
          2018
         ]
        },
        {
         "hovertemplate": "state=Mississippi<br>pop_density=%{x}<br>total_long_gun=%{y}<br>year=%{z}<extra></extra>",
         "legendgroup": "Mississippi",
         "line": {
          "color": "#ab63fa",
          "dash": "solid"
         },
         "mode": "lines",
         "name": "Mississippi",
         "scene": "scene",
         "showlegend": true,
         "type": "scatter3d",
         "x": [
          59.023630000000004,
          60.72255,
          60.8292,
          60.94283000000001,
          61.13545,
          61.526180000000004,
          61.82699,
          61.76376,
          62.28762,
          62.68179,
          62.933009999999996,
          63.3282,
          63.49735,
          63.61026999999999,
          63.7175,
          63.75643,
          63.71529,
          63.706869999999995,
          63.735969999999995,
          63.669180000000004
         ],
         "y": [
          113063,
          105749,
          104649,
          99406,
          100575,
          100623,
          109562,
          115814,
          108724,
          106819,
          97933,
          99950,
          106899,
          124874,
          119524,
          107154,
          107975,
          108752,
          99784,
          94514
         ],
         "z": [
          1999,
          2000,
          2001,
          2002,
          2003,
          2004,
          2005,
          2006,
          2007,
          2008,
          2009,
          2010,
          2011,
          2012,
          2013,
          2014,
          2015,
          2016,
          2017,
          2018
         ]
        },
        {
         "hovertemplate": "state=Missouri<br>pop_density=%{x}<br>total_long_gun=%{y}<br>year=%{z}<extra></extra>",
         "legendgroup": "Missouri",
         "line": {
          "color": "#FFA15A",
          "dash": "solid"
         },
         "mode": "lines",
         "name": "Missouri",
         "scene": "scene",
         "showlegend": true,
         "type": "scatter3d",
         "x": [
          79.38251,
          81.38186,
          81.93235,
          82.46752,
          82.96101999999999,
          83.59391,
          84.29354000000001,
          85.09099,
          85.79145,
          86.46664,
          86.92022,
          87.04201,
          87.24038,
          87.45,
          87.69065,
          87.91762,
          88.14193,
          88.36633,
          88.67712,
          88.9361
         ],
         "y": [
          161014,
          153556,
          161919,
          162329,
          162164,
          160810,
          162611,
          164153,
          155483,
          163867,
          168456,
          159865,
          179213,
          223962,
          232584,
          208547,
          204916,
          219226,
          212653,
          200040
         ],
         "z": [
          1999,
          2000,
          2001,
          2002,
          2003,
          2004,
          2005,
          2006,
          2007,
          2008,
          2009,
          2010,
          2011,
          2012,
          2013,
          2014,
          2015,
          2016,
          2017,
          2018
         ]
        },
        {
         "hovertemplate": "state=Montana<br>pop_density=%{x}<br>total_long_gun=%{y}<br>year=%{z}<extra></extra>",
         "legendgroup": "Montana",
         "line": {
          "color": "#19d3f3",
          "dash": "solid"
         },
         "mode": "lines",
         "name": "Montana",
         "scene": "scene",
         "showlegend": true,
         "type": "scatter3d",
         "x": [
          6.06502,
          6.20596,
          6.22369,
          6.25114,
          6.29842,
          6.361190000000001,
          6.42243,
          6.50096,
          6.5765,
          6.650760000000001,
          6.6985399999999995,
          6.80665,
          6.8513,
          6.89619,
          6.963589999999999,
          7.0208,
          7.079960000000001,
          7.15114,
          7.23515,
          7.29846
         ],
         "y": [
          52290,
          51480,
          53747,
          54098,
          56387,
          58460,
          58810,
          60244,
          60722,
          62363,
          61914,
          61012,
          63779,
          73334,
          72563,
          67948,
          69174,
          67701,
          61909,
          58497
         ],
         "z": [
          1999,
          2000,
          2001,
          2002,
          2003,
          2004,
          2005,
          2006,
          2007,
          2008,
          2009,
          2010,
          2011,
          2012,
          2013,
          2014,
          2015,
          2016,
          2017,
          2018
         ]
        },
        {
         "hovertemplate": "state=Nebraska<br>pop_density=%{x}<br>total_long_gun=%{y}<br>year=%{z}<extra></extra>",
         "legendgroup": "Nebraska",
         "line": {
          "color": "#FF6692",
          "dash": "solid"
         },
         "mode": "lines",
         "name": "Nebraska",
         "scene": "scene",
         "showlegend": true,
         "type": "scatter3d",
         "x": [
          21.672639999999998,
          22.28817,
          22.34804,
          22.44086,
          22.55269,
          22.663320000000002,
          22.78738,
          22.90074,
          23.02402,
          23.18061,
          23.37144,
          23.799770000000002,
          23.94289,
          24.10921,
          24.26649,
          24.450020000000002,
          24.605929999999997,
          24.793470000000003,
          24.94504,
          25.09715
         ],
         "y": [
          30912,
          29121,
          28598,
          27335,
          28820,
          31047,
          30351,
          30874,
          30508,
          31265,
          29487,
          29441,
          32084,
          36084,
          32991,
          27606,
          28001,
          27403,
          25336,
          23162
         ],
         "z": [
          1999,
          2000,
          2001,
          2002,
          2003,
          2004,
          2005,
          2006,
          2007,
          2008,
          2009,
          2010,
          2011,
          2012,
          2013,
          2014,
          2015,
          2016,
          2017,
          2018
         ]
        },
        {
         "hovertemplate": "state=Nevada<br>pop_density=%{x}<br>total_long_gun=%{y}<br>year=%{z}<extra></extra>",
         "legendgroup": "Nevada",
         "line": {
          "color": "#B6E880",
          "dash": "solid"
         },
         "mode": "lines",
         "name": "Nevada",
         "scene": "scene",
         "showlegend": true,
         "type": "scatter3d",
         "x": [
          16.47381,
          18.37644,
          19.07116,
          19.72406,
          20.36812,
          21.203570000000003,
          21.93291,
          22.703229999999998,
          23.38019,
          23.817420000000002,
          24.06612,
          24.60678,
          24.700879999999998,
          24.990129999999997,
          25.2852,
          25.66798,
          26.1201,
          26.585440000000002,
          27.06468,
          27.62909
         ],
         "y": [
          29046,
          24605,
          25176,
          23897,
          25381,
          28383,
          30797,
          31203,
          28016,
          37154,
          41641,
          38771,
          44273,
          53958,
          50294,
          37856,
          36263,
          39970,
          34631,
          32619
         ],
         "z": [
          1999,
          2000,
          2001,
          2002,
          2003,
          2004,
          2005,
          2006,
          2007,
          2008,
          2009,
          2010,
          2011,
          2012,
          2013,
          2014,
          2015,
          2016,
          2017,
          2018
         ]
        },
        {
         "hovertemplate": "state=New Hampshire<br>pop_density=%{x}<br>total_long_gun=%{y}<br>year=%{z}<extra></extra>",
         "legendgroup": "New Hampshire",
         "line": {
          "color": "#FF97FF",
          "dash": "solid"
         },
         "mode": "lines",
         "name": "New Hampshire",
         "scene": "scene",
         "showlegend": true,
         "type": "scatter3d",
         "x": [
          133.93406000000002,
          138.31759,
          140.14998,
          141.74273,
          142.93674,
          144.1516,
          145.11602,
          146.2845,
          146.8921,
          147.39711,
          147.69851,
          146.83061999999998,
          147.16938000000002,
          147.6318,
          147.90455,
          148.66447,
          149.00691,
          149.68477,
          150.50926,
          151.25535
         ],
         "y": [
          25779,
          24898,
          26329,
          25754,
          25729,
          26198,
          25692,
          27340,
          25477,
          26526,
          29377,
          28071,
          30915,
          43748,
          46686,
          39169,
          38535,
          44916,
          37275,
          37984
         ],
         "z": [
          1999,
          2000,
          2001,
          2002,
          2003,
          2004,
          2005,
          2006,
          2007,
          2008,
          2009,
          2010,
          2011,
          2012,
          2013,
          2014,
          2015,
          2016,
          2017,
          2018
         ]
        },
        {
         "hovertemplate": "state=New Jersey<br>pop_density=%{x}<br>total_long_gun=%{y}<br>year=%{z}<extra></extra>",
         "legendgroup": "New Jersey",
         "line": {
          "color": "#FECB52",
          "dash": "solid"
         },
         "mode": "lines",
         "name": "New Jersey",
         "scene": "scene",
         "showlegend": true,
         "type": "scatter3d",
         "x": [
          1097.88846,
          1136.6502,
          1144.5436,
          1151.91093,
          1157.21822,
          1160.99977,
          1162.38935,
          1162.64335,
          1164.30459,
          1167.99257,
          1173.9705900000001,
          1186.41284,
          1190.20938,
          1192.59579,
          1194.33221,
          1195.46717,
          1196.01847,
          1196.51018,
          1198.40138,
          1201.0947800000001
         ],
         "y": [
          21722,
          21233,
          25132,
          24996,
          25122,
          22384,
          20436,
          20311,
          19322,
          20719,
          24517,
          24032,
          28005,
          38508,
          50287,
          40664,
          40533,
          49099,
          42432,
          39614
         ],
         "z": [
          1999,
          2000,
          2001,
          2002,
          2003,
          2004,
          2005,
          2006,
          2007,
          2008,
          2009,
          2010,
          2011,
          2012,
          2013,
          2014,
          2015,
          2016,
          2017,
          2018
         ]
        },
        {
         "hovertemplate": "state=New Mexico<br>pop_density=%{x}<br>total_long_gun=%{y}<br>year=%{z}<extra></extra>",
         "legendgroup": "New Mexico",
         "line": {
          "color": "#636efa",
          "dash": "solid"
         },
         "mode": "lines",
         "name": "New Mexico",
         "scene": "scene",
         "showlegend": true,
         "type": "scatter3d",
         "x": [
          14.33675,
          15.003960000000001,
          15.06984,
          15.24475,
          15.40666,
          15.58915,
          15.79275,
          16.007579999999997,
          16.222839999999998,
          16.37143,
          16.56019,
          17.01266,
          17.14291,
          17.20186,
          17.245060000000002,
          17.22488,
          17.2238,
          17.24504,
          17.25003,
          17.26679
         ],
         "y": [
          56919,
          53048,
          53266,
          50882,
          49853,
          49992,
          48954,
          51655,
          50667,
          54883,
          52826,
          50485,
          53532,
          66226,
          68875,
          60439,
          59613,
          62713,
          60111,
          59389
         ],
         "z": [
          1999,
          2000,
          2001,
          2002,
          2003,
          2004,
          2005,
          2006,
          2007,
          2008,
          2009,
          2010,
          2011,
          2012,
          2013,
          2014,
          2015,
          2016,
          2017,
          2018
         ]
        },
        {
         "hovertemplate": "state=New York<br>pop_density=%{x}<br>total_long_gun=%{y}<br>year=%{z}<extra></extra>",
         "legendgroup": "New York",
         "line": {
          "color": "#EF553B",
          "dash": "solid"
         },
         "mode": "lines",
         "name": "New York",
         "scene": "scene",
         "showlegend": true,
         "type": "scatter3d",
         "x": [
          385.40861,
          402.38337,
          404.30938,
          405.85331,
          407.31958,
          408.7351,
          409.43316,
          409.97692,
          411.37932,
          412.33269,
          413.89291000000003,
          410.89677,
          412.98162,
          414.59205,
          415.72506,
          416.32417999999996,
          416.4318,
          416.01197,
          414.93453,
          413.90708
         ],
         "y": [
          108562,
          99927,
          109819,
          103508,
          103889,
          111227,
          109845,
          127823,
          131467,
          140878,
          148659,
          147616,
          163633,
          214596,
          202537,
          181978,
          186379,
          200670,
          186007,
          169765
         ],
         "z": [
          1999,
          2000,
          2001,
          2002,
          2003,
          2004,
          2005,
          2006,
          2007,
          2008,
          2009,
          2010,
          2011,
          2012,
          2013,
          2014,
          2015,
          2016,
          2017,
          2018
         ]
        },
        {
         "hovertemplate": "state=North Carolina<br>pop_density=%{x}<br>total_long_gun=%{y}<br>year=%{z}<extra></extra>",
         "legendgroup": "North Carolina",
         "line": {
          "color": "#00cc96",
          "dash": "solid"
         },
         "mode": "lines",
         "name": "North Carolina",
         "scene": "scene",
         "showlegend": true,
         "type": "scatter3d",
         "x": [
          157.0653,
          165.86403,
          168.41106000000002,
          170.73428,
          172.7838,
          175.14122,
          177.97773,
          182.03278,
          186.07904,
          189.83713999999998,
          192.58293,
          196.553,
          198.24586000000002,
          200.14212,
          202.08164,
          203.93636,
          205.97153,
          208.50894,
          210.85176,
          213.16787000000002
         ],
         "y": [
          181883,
          170004,
          176812,
          164608,
          167281,
          166927,
          164964,
          169238,
          160360,
          172168,
          164760,
          157134,
          180076,
          224953,
          232790,
          198775,
          197530,
          203780,
          184102,
          168927
         ],
         "z": [
          1999,
          2000,
          2001,
          2002,
          2003,
          2004,
          2005,
          2006,
          2007,
          2008,
          2009,
          2010,
          2011,
          2012,
          2013,
          2014,
          2015,
          2016,
          2017,
          2018
         ]
        },
        {
         "hovertemplate": "state=North Dakota<br>pop_density=%{x}<br>total_long_gun=%{y}<br>year=%{z}<extra></extra>",
         "legendgroup": "North Dakota",
         "line": {
          "color": "#ab63fa",
          "dash": "solid"
         },
         "mode": "lines",
         "name": "North Dakota",
         "scene": "scene",
         "showlegend": true,
         "type": "scatter3d",
         "x": [
          9.18677,
          9.296,
          9.22448,
          9.186060000000001,
          9.17435,
          9.225,
          9.2114,
          9.23179,
          9.25253,
          9.2992,
          9.37782,
          9.78181,
          9.932960000000001,
          10.164639999999999,
          10.46739,
          10.69041,
          10.93166,
          10.93646,
          10.94839,
          11.01944
         ],
         "y": [
          24528,
          24814,
          25062,
          24830,
          25903,
          27110,
          28102,
          30024,
          31912,
          33495,
          30642,
          31960,
          38628,
          46568,
          46735,
          40817,
          38795,
          35793,
          32390,
          32577
         ],
         "z": [
          1999,
          2000,
          2001,
          2002,
          2003,
          2004,
          2005,
          2006,
          2007,
          2008,
          2009,
          2010,
          2011,
          2012,
          2013,
          2014,
          2015,
          2016,
          2017,
          2018
         ]
        },
        {
         "hovertemplate": "state=Ohio<br>pop_density=%{x}<br>total_long_gun=%{y}<br>year=%{z}<extra></extra>",
         "legendgroup": "Ohio",
         "line": {
          "color": "#FFA15A",
          "dash": "solid"
         },
         "mode": "lines",
         "name": "Ohio",
         "scene": "scene",
         "showlegend": true,
         "type": "scatter3d",
         "x": [
          274.89864,
          277.51633,
          278.32295,
          278.91167,
          279.50262999999995,
          279.97672,
          280.23726,
          280.65811,
          281.34971,
          281.52693999999997,
          281.88282000000004,
          281.80441,
          281.90542,
          282.02522999999997,
          282.71407999999997,
          283.35872,
          283.72204,
          284.14092999999997,
          284.85222999999996,
          285.4704
         ],
         "y": [
          173096,
          169218,
          182937,
          192456,
          192375,
          187005,
          182063,
          192685,
          188776,
          173147,
          180179,
          172462,
          199375,
          263220,
          279668,
          248723,
          246086,
          255210,
          223662,
          205563
         ],
         "z": [
          1999,
          2000,
          2001,
          2002,
          2003,
          2004,
          2005,
          2006,
          2007,
          2008,
          2009,
          2010,
          2011,
          2012,
          2013,
          2014,
          2015,
          2016,
          2017,
          2018
         ]
        },
        {
         "hovertemplate": "state=Oklahoma<br>pop_density=%{x}<br>total_long_gun=%{y}<br>year=%{z}<extra></extra>",
         "legendgroup": "Oklahoma",
         "line": {
          "color": "#19d3f3",
          "dash": "solid"
         },
         "mode": "lines",
         "name": "Oklahoma",
         "scene": "scene",
         "showlegend": true,
         "type": "scatter3d",
         "x": [
          48.90327,
          50.29985,
          50.45693,
          50.74855,
          50.95146,
          51.181,
          51.4478,
          52.05311,
          52.60435,
          53.06802,
          53.6946,
          54.75166,
          55.162169999999996,
          55.610409999999995,
          56.11436,
          56.4808,
          56.939009999999996,
          57.185680000000005,
          57.27118000000001,
          57.4232
         ],
         "y": [
          108851,
          104139,
          108594,
          105219,
          109578,
          111546,
          114500,
          116079,
          107405,
          117054,
          116487,
          114503,
          134297,
          172946,
          178924,
          160134,
          150433,
          152245,
          142828,
          133184
         ],
         "z": [
          1999,
          2000,
          2001,
          2002,
          2003,
          2004,
          2005,
          2006,
          2007,
          2008,
          2009,
          2010,
          2011,
          2012,
          2013,
          2014,
          2015,
          2016,
          2017,
          2018
         ]
        },
        {
         "hovertemplate": "state=Oregon<br>pop_density=%{x}<br>total_long_gun=%{y}<br>year=%{z}<extra></extra>",
         "legendgroup": "Oregon",
         "line": {
          "color": "#FF6692",
          "dash": "solid"
         },
         "mode": "lines",
         "name": "Oregon",
         "scene": "scene",
         "showlegend": true,
         "type": "scatter3d",
         "x": [
          34.54443,
          35.73964,
          36.15102,
          36.6378,
          36.982279999999996,
          37.22526,
          37.6874,
          38.30904,
          38.88627,
          39.40747,
          39.851929999999996,
          39.97554,
          40.331759999999996,
          40.61708,
          40.8649,
          41.294059999999995,
          41.8442,
          42.62012,
          43.19502,
          43.65462
         ],
         "y": [
          95103,
          83512,
          91343,
          90360,
          92310,
          98103,
          101911,
          103452,
          98202,
          103276,
          102016,
          98279,
          106685,
          133862,
          133202,
          118887,
          125378,
          143040,
          132016,
          129392
         ],
         "z": [
          1999,
          2000,
          2001,
          2002,
          2003,
          2004,
          2005,
          2006,
          2007,
          2008,
          2009,
          2010,
          2011,
          2012,
          2013,
          2014,
          2015,
          2016,
          2017,
          2018
         ]
        },
        {
         "hovertemplate": "state=Pennsylvania<br>pop_density=%{x}<br>total_long_gun=%{y}<br>year=%{z}<extra></extra>",
         "legendgroup": "Pennsylvania",
         "line": {
          "color": "#B6E880",
          "dash": "solid"
         },
         "mode": "lines",
         "name": "Pennsylvania",
         "scene": "scene",
         "showlegend": true,
         "type": "scatter3d",
         "x": [
          267.62435,
          274.12836,
          274.4414,
          275.0387,
          275.73536,
          276.42357999999996,
          277.08836,
          278.27053,
          279.41718,
          280.39533,
          281.25212999999997,
          283.62358,
          284.36939,
          284.86572,
          285.08425,
          285.36272,
          285.28815,
          285.23859,
          285.39275,
          285.76344
         ],
         "y": [
          511103,
          467484,
          500416,
          556095,
          506403,
          497989,
          476676,
          515760,
          558582,
          594353,
          637968,
          622368,
          714553,
          873546,
          765681,
          151572,
          119541,
          159530,
          169793,
          171206
         ],
         "z": [
          1999,
          2000,
          2001,
          2002,
          2003,
          2004,
          2005,
          2006,
          2007,
          2008,
          2009,
          2010,
          2011,
          2012,
          2013,
          2014,
          2015,
          2016,
          2017,
          2018
         ]
        },
        {
         "hovertemplate": "state=Rhode Island<br>pop_density=%{x}<br>total_long_gun=%{y}<br>year=%{z}<extra></extra>",
         "legendgroup": "Rhode Island",
         "line": {
          "color": "#FF97FF",
          "dash": "solid"
         },
         "mode": "lines",
         "name": "Rhode Island",
         "scene": "scene",
         "showlegend": true,
         "type": "scatter3d",
         "x": [
          948.2156699999999,
          1005.55635,
          1012.5568199999999,
          1020.19657,
          1025.43137,
          1025.34524,
          1019.1965,
          1014.60959,
          1009.6456199999999,
          1008.2034199999999,
          1007.92302,
          1008.55311,
          1008.16842,
          1009.18756,
          1009.68612,
          1010.54258,
          1010.6918699999999,
          1011.54354,
          1010.99139,
          1011.7846900000001
         ],
         "y": [
          5011,
          4221,
          4875,
          4605,
          4713,
          4787,
          4427,
          4560,
          4738,
          5315,
          6244,
          6062,
          7241,
          10508,
          11153,
          8473,
          8479,
          10328,
          8301,
          8739
         ],
         "z": [
          1999,
          2000,
          2001,
          2002,
          2003,
          2004,
          2005,
          2006,
          2007,
          2008,
          2009,
          2010,
          2011,
          2012,
          2013,
          2014,
          2015,
          2016,
          2017,
          2018
         ]
        },
        {
         "hovertemplate": "state=South Carolina<br>pop_density=%{x}<br>total_long_gun=%{y}<br>year=%{z}<extra></extra>",
         "legendgroup": "South Carolina",
         "line": {
          "color": "#FECB52",
          "dash": "solid"
         },
         "mode": "lines",
         "name": "South Carolina",
         "scene": "scene",
         "showlegend": true,
         "type": "scatter3d",
         "x": [
          129.05362,
          133.63138,
          134.931,
          136.30043999999998,
          137.71328,
          139.53437,
          141.35748999999998,
          144.12073999999998,
          146.93822,
          149.56358,
          151.48862,
          153.96247,
          155.15035,
          156.66783999999998,
          158.2302,
          160.211,
          162.48474,
          164.67618000000002,
          166.76803999999998,
          168.85738
         ],
         "y": [
          80786,
          72897,
          71387,
          67438,
          67310,
          68881,
          72483,
          73766,
          68672,
          74037,
          73086,
          71352,
          81640,
          99088,
          102942,
          91057,
          95574,
          96691,
          88666,
          81420
         ],
         "z": [
          1999,
          2000,
          2001,
          2002,
          2003,
          2004,
          2005,
          2006,
          2007,
          2008,
          2009,
          2010,
          2011,
          2012,
          2013,
          2014,
          2015,
          2016,
          2017,
          2018
         ]
        },
        {
         "hovertemplate": "state=South Dakota<br>pop_density=%{x}<br>total_long_gun=%{y}<br>year=%{z}<extra></extra>",
         "legendgroup": "South Dakota",
         "line": {
          "color": "#636efa",
          "dash": "solid"
         },
         "mode": "lines",
         "name": "South Dakota",
         "scene": "scene",
         "showlegend": true,
         "type": "scatter3d",
         "x": [
          9.66115,
          9.95846,
          10.0018,
          10.04297,
          10.10712,
          10.20342,
          10.279869999999999,
          10.39102,
          10.50325,
          10.602039999999999,
          10.7055,
          10.755289999999999,
          10.85174,
          10.98367,
          11.09929,
          11.18914,
          11.252989999999999,
          11.37102,
          11.50802,
          11.62595
         ],
         "y": [
          26947,
          30673,
          33424,
          35920,
          38532,
          40576,
          40693,
          42254,
          42422,
          46141,
          45538,
          44313,
          46652,
          55835,
          56481,
          51670,
          53235,
          52162,
          46937,
          44193
         ],
         "z": [
          1999,
          2000,
          2001,
          2002,
          2003,
          2004,
          2005,
          2006,
          2007,
          2008,
          2009,
          2010,
          2011,
          2012,
          2013,
          2014,
          2015,
          2016,
          2017,
          2018
         ]
        },
        {
         "hovertemplate": "state=Tennessee<br>pop_density=%{x}<br>total_long_gun=%{y}<br>year=%{z}<extra></extra>",
         "legendgroup": "Tennessee",
         "line": {
          "color": "#EF553B",
          "dash": "solid"
         },
         "mode": "lines",
         "name": "Tennessee",
         "scene": "scene",
         "showlegend": true,
         "type": "scatter3d",
         "x": [
          133.04023,
          138.37073,
          139.63719,
          140.79844,
          142.08955,
          143.55108,
          145.46742,
          147.74087,
          149.76452,
          151.40446,
          152.75822,
          154.19126,
          155.2129,
          156.51991,
          157.54256999999998,
          158.69243,
          159.90509,
          161.22015,
          162.76764,
          164.25286
         ],
         "y": [
          138475,
          130240,
          129355,
          128568,
          126036,
          127351,
          122737,
          127063,
          121906,
          129725,
          135670,
          135550,
          158193,
          206066,
          216448,
          189845,
          198403,
          210248,
          188043,
          179515
         ],
         "z": [
          1999,
          2000,
          2001,
          2002,
          2003,
          2004,
          2005,
          2006,
          2007,
          2008,
          2009,
          2010,
          2011,
          2012,
          2013,
          2014,
          2015,
          2016,
          2017,
          2018
         ]
        },
        {
         "hovertemplate": "state=Texas<br>pop_density=%{x}<br>total_long_gun=%{y}<br>year=%{z}<extra></extra>",
         "legendgroup": "Texas",
         "line": {
          "color": "#00cc96",
          "dash": "solid"
         },
         "mode": "lines",
         "name": "Texas",
         "scene": "scene",
         "showlegend": true,
         "type": "scatter3d",
         "x": [
          76.56364,
          80.00838,
          81.48618,
          82.92981999999999,
          84.25532,
          85.63241,
          87.09767,
          89.26387,
          91.0541,
          92.83635,
          94.66224,
          96.42081,
          97.96226,
          99.65592,
          101.18321999999999,
          103.04603,
          104.99285,
          106.71433,
          108.1858,
          109.63396999999999
         ],
         "y": [
          407561,
          385227,
          394939,
          381378,
          384128,
          387950,
          418140,
          421653,
          395896,
          447020,
          432229,
          423820,
          488725,
          604309,
          634648,
          570530,
          547490,
          539744,
          499296,
          452932
         ],
         "z": [
          1999,
          2000,
          2001,
          2002,
          2003,
          2004,
          2005,
          2006,
          2007,
          2008,
          2009,
          2010,
          2011,
          2012,
          2013,
          2014,
          2015,
          2016,
          2017,
          2018
         ]
        },
        {
         "hovertemplate": "state=Utah<br>pop_density=%{x}<br>total_long_gun=%{y}<br>year=%{z}<extra></extra>",
         "legendgroup": "Utah",
         "line": {
          "color": "#ab63fa",
          "dash": "solid"
         },
         "mode": "lines",
         "name": "Utah",
         "scene": "scene",
         "showlegend": true,
         "type": "scatter3d",
         "x": [
          25.92819,
          27.321820000000002,
          27.893209999999996,
          28.4194,
          28.97288,
          29.69085,
          30.43007,
          31.45373,
          32.428509999999996,
          33.20212,
          33.89881,
          33.7862,
          34.25954,
          34.73738,
          35.278620000000004,
          35.75914,
          36.30815,
          37.03999,
          37.776559999999996,
          38.482479999999995
         ],
         "y": [
          50495,
          46763,
          47173,
          43981,
          44199,
          45428,
          51206,
          60665,
          55928,
          53199,
          46020,
          41495,
          46753,
          58736,
          58860,
          51818,
          54122,
          58992,
          54590,
          51611
         ],
         "z": [
          1999,
          2000,
          2001,
          2002,
          2003,
          2004,
          2005,
          2006,
          2007,
          2008,
          2009,
          2010,
          2011,
          2012,
          2013,
          2014,
          2015,
          2016,
          2017,
          2018
         ]
        },
        {
         "hovertemplate": "state=Vermont<br>pop_density=%{x}<br>total_long_gun=%{y}<br>year=%{z}<extra></extra>",
         "legendgroup": "Vermont",
         "line": {
          "color": "#FFA15A",
          "dash": "solid"
         },
         "mode": "lines",
         "name": "Vermont",
         "scene": "scene",
         "showlegend": true,
         "type": "scatter3d",
         "x": [
          64.19116,
          65.9386,
          66.18185,
          66.48424,
          66.6582,
          66.82967,
          66.90199,
          67.02859000000001,
          67.07995,
          67.14363,
          67.22049,
          67.6627,
          67.78151,
          67.68249,
          67.69859,
          67.59114,
          67.58886,
          67.42097,
          67.51621999999999,
          67.708
         ],
         "y": [
          15571,
          14263,
          14585,
          14571,
          13842,
          13399,
          12427,
          13699,
          12991,
          13499,
          13594,
          14191,
          15381,
          18590,
          18905,
          16367,
          16726,
          18887,
          17900,
          19829
         ],
         "z": [
          1999,
          2000,
          2001,
          2002,
          2003,
          2004,
          2005,
          2006,
          2007,
          2008,
          2009,
          2010,
          2011,
          2012,
          2013,
          2014,
          2015,
          2016,
          2017,
          2018
         ]
        },
        {
         "hovertemplate": "state=Virginia<br>pop_density=%{x}<br>total_long_gun=%{y}<br>year=%{z}<extra></extra>",
         "legendgroup": "Virginia",
         "line": {
          "color": "#19d3f3",
          "dash": "solid"
         },
         "mode": "lines",
         "name": "Virginia",
         "scene": "scene",
         "showlegend": true,
         "type": "scatter3d",
         "x": [
          173.58438,
          179.43427,
          181.62578,
          183.95535,
          186.23228,
          188.63719,
          191.03585,
          193.13488,
          194.97235,
          196.88362,
          199.08512,
          202.64889,
          204.5883,
          206.72902,
          208.44201,
          209.93272000000002,
          211.21652000000003,
          212.42981,
          213.80025,
          215.12565
         ],
         "y": [
          122192,
          114634,
          120955,
          120780,
          125201,
          130520,
          129074,
          132077,
          124081,
          137713,
          143801,
          145468,
          149404,
          203068,
          229551,
          187656,
          184064,
          209993,
          198047,
          168947
         ],
         "z": [
          1999,
          2000,
          2001,
          2002,
          2003,
          2004,
          2005,
          2006,
          2007,
          2008,
          2009,
          2010,
          2011,
          2012,
          2013,
          2014,
          2015,
          2016,
          2017,
          2018
         ]
        },
        {
         "hovertemplate": "state=Washington<br>pop_density=%{x}<br>total_long_gun=%{y}<br>year=%{z}<extra></extra>",
         "legendgroup": "Washington",
         "line": {
          "color": "#FF6692",
          "dash": "solid"
         },
         "mode": "lines",
         "name": "Washington",
         "scene": "scene",
         "showlegend": true,
         "type": "scatter3d",
         "x": [
          86.50451,
          88.8302,
          89.98226,
          91.01018,
          91.86788,
          92.93525,
          94.09228,
          95.75976,
          97.15335999999999,
          98.67256,
          100.14711,
          101.32998,
          102.51345,
          103.58373,
          104.63611999999999,
          105.98159,
          107.65122,
          109.6219,
          111.5868,
          113.24223
         ],
         "y": [
          88327,
          77732,
          84608,
          88679,
          95289,
          100124,
          105198,
          108598,
          107887,
          124223,
          123556,
          117985,
          132103,
          171764,
          175722,
          146093,
          147925,
          171952,
          159611,
          170797
         ],
         "z": [
          1999,
          2000,
          2001,
          2002,
          2003,
          2004,
          2005,
          2006,
          2007,
          2008,
          2009,
          2010,
          2011,
          2012,
          2013,
          2014,
          2015,
          2016,
          2017,
          2018
         ]
        },
        {
         "hovertemplate": "state=West Virginia<br>pop_density=%{x}<br>total_long_gun=%{y}<br>year=%{z}<extra></extra>",
         "legendgroup": "West Virginia",
         "line": {
          "color": "#B6E880",
          "dash": "solid"
         },
         "mode": "lines",
         "name": "West Virginia",
         "scene": "scene",
         "showlegend": true,
         "type": "scatter3d",
         "x": [
          75.04561,
          75.04701999999999,
          74.69899000000001,
          74.73342,
          74.85083,
          74.89502,
          74.92068,
          75.05845,
          75.22295,
          75.37559,
          75.57925999999999,
          77.00864,
          77.08589,
          77.11454,
          76.99448000000001,
          76.81149,
          76.5012,
          76.04157,
          75.46507,
          74.99925
         ],
         "y": [
          91692,
          89235,
          97978,
          94929,
          92521,
          93677,
          92385,
          95361,
          87719,
          93909,
          95330,
          96645,
          108225,
          125416,
          130892,
          113283,
          107697,
          100645,
          94581,
          91200
         ],
         "z": [
          1999,
          2000,
          2001,
          2002,
          2003,
          2004,
          2005,
          2006,
          2007,
          2008,
          2009,
          2010,
          2011,
          2012,
          2013,
          2014,
          2015,
          2016,
          2017,
          2018
         ]
        },
        {
         "hovertemplate": "state=Wisconsin<br>pop_density=%{x}<br>total_long_gun=%{y}<br>year=%{z}<extra></extra>",
         "legendgroup": "Wisconsin",
         "line": {
          "color": "#FF97FF",
          "dash": "solid"
         },
         "mode": "lines",
         "name": "Wisconsin",
         "scene": "scene",
         "showlegend": true,
         "type": "scatter3d",
         "x": [
          96.67531,
          98.95496,
          99.59048,
          100.29011,
          100.84305,
          101.47993000000001,
          102.03338000000001,
          102.59013,
          103.1405,
          103.61995,
          104.12012,
          104.77774000000001,
          105.0406,
          105.31863,
          105.63344,
          105.91003,
          106.0837,
          106.29641000000001,
          106.64797,
          107.04415
         ],
         "y": [
          129693,
          139566,
          140570,
          134675,
          145327,
          146042,
          143027,
          145492,
          136967,
          132722,
          131435,
          130481,
          134691,
          161983,
          169524,
          149028,
          153248,
          163612,
          159968,
          149239
         ],
         "z": [
          1999,
          2000,
          2001,
          2002,
          2003,
          2004,
          2005,
          2006,
          2007,
          2008,
          2009,
          2010,
          2011,
          2012,
          2013,
          2014,
          2015,
          2016,
          2017,
          2018
         ]
        },
        {
         "hovertemplate": "state=Wyoming<br>pop_density=%{x}<br>total_long_gun=%{y}<br>year=%{z}<extra></extra>",
         "legendgroup": "Wyoming",
         "line": {
          "color": "#FECB52",
          "dash": "solid"
         },
         "mode": "lines",
         "name": "Wyoming",
         "scene": "scene",
         "showlegend": true,
         "type": "scatter3d",
         "x": [
          4.93924,
          5.08709,
          5.077030000000001,
          5.11912,
          5.14096,
          5.18008,
          5.21359,
          5.28155,
          5.39044,
          5.48897,
          5.605230000000001,
          5.81342,
          5.84165,
          5.93481,
          5.99509,
          5.99946,
          6.0316,
          6.0174,
          5.96225,
          5.94992
         ],
         "y": [
          22463,
          21737,
          22264,
          21727,
          21477,
          22963,
          24049,
          27376,
          26498,
          27646,
          26330,
          24712,
          26742,
          31666,
          32757,
          30280,
          29002,
          28450,
          25404,
          27399
         ],
         "z": [
          1999,
          2000,
          2001,
          2002,
          2003,
          2004,
          2005,
          2006,
          2007,
          2008,
          2009,
          2010,
          2011,
          2012,
          2013,
          2014,
          2015,
          2016,
          2017,
          2018
         ]
        }
       ],
       "layout": {
        "legend": {
         "title": {
          "text": "state"
         },
         "tracegroupgap": 0
        },
        "margin": {
         "t": 60
        },
        "scene": {
         "domain": {
          "x": [
           0,
           1
          ],
          "y": [
           0,
           1
          ]
         },
         "xaxis": {
          "title": {
           "text": "pop_density"
          }
         },
         "yaxis": {
          "title": {
           "text": "total_long_gun"
          }
         },
         "zaxis": {
          "title": {
           "text": "year"
          }
         }
        },
        "template": {
         "data": {
          "bar": [
           {
            "error_x": {
             "color": "#2a3f5f"
            },
            "error_y": {
             "color": "#2a3f5f"
            },
            "marker": {
             "line": {
              "color": "#E5ECF6",
              "width": 0.5
             }
            },
            "type": "bar"
           }
          ],
          "barpolar": [
           {
            "marker": {
             "line": {
              "color": "#E5ECF6",
              "width": 0.5
             }
            },
            "type": "barpolar"
           }
          ],
          "carpet": [
           {
            "aaxis": {
             "endlinecolor": "#2a3f5f",
             "gridcolor": "white",
             "linecolor": "white",
             "minorgridcolor": "white",
             "startlinecolor": "#2a3f5f"
            },
            "baxis": {
             "endlinecolor": "#2a3f5f",
             "gridcolor": "white",
             "linecolor": "white",
             "minorgridcolor": "white",
             "startlinecolor": "#2a3f5f"
            },
            "type": "carpet"
           }
          ],
          "choropleth": [
           {
            "colorbar": {
             "outlinewidth": 0,
             "ticks": ""
            },
            "type": "choropleth"
           }
          ],
          "contour": [
           {
            "colorbar": {
             "outlinewidth": 0,
             "ticks": ""
            },
            "colorscale": [
             [
              0,
              "#0d0887"
             ],
             [
              0.1111111111111111,
              "#46039f"
             ],
             [
              0.2222222222222222,
              "#7201a8"
             ],
             [
              0.3333333333333333,
              "#9c179e"
             ],
             [
              0.4444444444444444,
              "#bd3786"
             ],
             [
              0.5555555555555556,
              "#d8576b"
             ],
             [
              0.6666666666666666,
              "#ed7953"
             ],
             [
              0.7777777777777778,
              "#fb9f3a"
             ],
             [
              0.8888888888888888,
              "#fdca26"
             ],
             [
              1,
              "#f0f921"
             ]
            ],
            "type": "contour"
           }
          ],
          "contourcarpet": [
           {
            "colorbar": {
             "outlinewidth": 0,
             "ticks": ""
            },
            "type": "contourcarpet"
           }
          ],
          "heatmap": [
           {
            "colorbar": {
             "outlinewidth": 0,
             "ticks": ""
            },
            "colorscale": [
             [
              0,
              "#0d0887"
             ],
             [
              0.1111111111111111,
              "#46039f"
             ],
             [
              0.2222222222222222,
              "#7201a8"
             ],
             [
              0.3333333333333333,
              "#9c179e"
             ],
             [
              0.4444444444444444,
              "#bd3786"
             ],
             [
              0.5555555555555556,
              "#d8576b"
             ],
             [
              0.6666666666666666,
              "#ed7953"
             ],
             [
              0.7777777777777778,
              "#fb9f3a"
             ],
             [
              0.8888888888888888,
              "#fdca26"
             ],
             [
              1,
              "#f0f921"
             ]
            ],
            "type": "heatmap"
           }
          ],
          "heatmapgl": [
           {
            "colorbar": {
             "outlinewidth": 0,
             "ticks": ""
            },
            "colorscale": [
             [
              0,
              "#0d0887"
             ],
             [
              0.1111111111111111,
              "#46039f"
             ],
             [
              0.2222222222222222,
              "#7201a8"
             ],
             [
              0.3333333333333333,
              "#9c179e"
             ],
             [
              0.4444444444444444,
              "#bd3786"
             ],
             [
              0.5555555555555556,
              "#d8576b"
             ],
             [
              0.6666666666666666,
              "#ed7953"
             ],
             [
              0.7777777777777778,
              "#fb9f3a"
             ],
             [
              0.8888888888888888,
              "#fdca26"
             ],
             [
              1,
              "#f0f921"
             ]
            ],
            "type": "heatmapgl"
           }
          ],
          "histogram": [
           {
            "marker": {
             "colorbar": {
              "outlinewidth": 0,
              "ticks": ""
             }
            },
            "type": "histogram"
           }
          ],
          "histogram2d": [
           {
            "colorbar": {
             "outlinewidth": 0,
             "ticks": ""
            },
            "colorscale": [
             [
              0,
              "#0d0887"
             ],
             [
              0.1111111111111111,
              "#46039f"
             ],
             [
              0.2222222222222222,
              "#7201a8"
             ],
             [
              0.3333333333333333,
              "#9c179e"
             ],
             [
              0.4444444444444444,
              "#bd3786"
             ],
             [
              0.5555555555555556,
              "#d8576b"
             ],
             [
              0.6666666666666666,
              "#ed7953"
             ],
             [
              0.7777777777777778,
              "#fb9f3a"
             ],
             [
              0.8888888888888888,
              "#fdca26"
             ],
             [
              1,
              "#f0f921"
             ]
            ],
            "type": "histogram2d"
           }
          ],
          "histogram2dcontour": [
           {
            "colorbar": {
             "outlinewidth": 0,
             "ticks": ""
            },
            "colorscale": [
             [
              0,
              "#0d0887"
             ],
             [
              0.1111111111111111,
              "#46039f"
             ],
             [
              0.2222222222222222,
              "#7201a8"
             ],
             [
              0.3333333333333333,
              "#9c179e"
             ],
             [
              0.4444444444444444,
              "#bd3786"
             ],
             [
              0.5555555555555556,
              "#d8576b"
             ],
             [
              0.6666666666666666,
              "#ed7953"
             ],
             [
              0.7777777777777778,
              "#fb9f3a"
             ],
             [
              0.8888888888888888,
              "#fdca26"
             ],
             [
              1,
              "#f0f921"
             ]
            ],
            "type": "histogram2dcontour"
           }
          ],
          "mesh3d": [
           {
            "colorbar": {
             "outlinewidth": 0,
             "ticks": ""
            },
            "type": "mesh3d"
           }
          ],
          "parcoords": [
           {
            "line": {
             "colorbar": {
              "outlinewidth": 0,
              "ticks": ""
             }
            },
            "type": "parcoords"
           }
          ],
          "pie": [
           {
            "automargin": true,
            "type": "pie"
           }
          ],
          "scatter": [
           {
            "marker": {
             "colorbar": {
              "outlinewidth": 0,
              "ticks": ""
             }
            },
            "type": "scatter"
           }
          ],
          "scatter3d": [
           {
            "line": {
             "colorbar": {
              "outlinewidth": 0,
              "ticks": ""
             }
            },
            "marker": {
             "colorbar": {
              "outlinewidth": 0,
              "ticks": ""
             }
            },
            "type": "scatter3d"
           }
          ],
          "scattercarpet": [
           {
            "marker": {
             "colorbar": {
              "outlinewidth": 0,
              "ticks": ""
             }
            },
            "type": "scattercarpet"
           }
          ],
          "scattergeo": [
           {
            "marker": {
             "colorbar": {
              "outlinewidth": 0,
              "ticks": ""
             }
            },
            "type": "scattergeo"
           }
          ],
          "scattergl": [
           {
            "marker": {
             "colorbar": {
              "outlinewidth": 0,
              "ticks": ""
             }
            },
            "type": "scattergl"
           }
          ],
          "scattermapbox": [
           {
            "marker": {
             "colorbar": {
              "outlinewidth": 0,
              "ticks": ""
             }
            },
            "type": "scattermapbox"
           }
          ],
          "scatterpolar": [
           {
            "marker": {
             "colorbar": {
              "outlinewidth": 0,
              "ticks": ""
             }
            },
            "type": "scatterpolar"
           }
          ],
          "scatterpolargl": [
           {
            "marker": {
             "colorbar": {
              "outlinewidth": 0,
              "ticks": ""
             }
            },
            "type": "scatterpolargl"
           }
          ],
          "scatterternary": [
           {
            "marker": {
             "colorbar": {
              "outlinewidth": 0,
              "ticks": ""
             }
            },
            "type": "scatterternary"
           }
          ],
          "surface": [
           {
            "colorbar": {
             "outlinewidth": 0,
             "ticks": ""
            },
            "colorscale": [
             [
              0,
              "#0d0887"
             ],
             [
              0.1111111111111111,
              "#46039f"
             ],
             [
              0.2222222222222222,
              "#7201a8"
             ],
             [
              0.3333333333333333,
              "#9c179e"
             ],
             [
              0.4444444444444444,
              "#bd3786"
             ],
             [
              0.5555555555555556,
              "#d8576b"
             ],
             [
              0.6666666666666666,
              "#ed7953"
             ],
             [
              0.7777777777777778,
              "#fb9f3a"
             ],
             [
              0.8888888888888888,
              "#fdca26"
             ],
             [
              1,
              "#f0f921"
             ]
            ],
            "type": "surface"
           }
          ],
          "table": [
           {
            "cells": {
             "fill": {
              "color": "#EBF0F8"
             },
             "line": {
              "color": "white"
             }
            },
            "header": {
             "fill": {
              "color": "#C8D4E3"
             },
             "line": {
              "color": "white"
             }
            },
            "type": "table"
           }
          ]
         },
         "layout": {
          "annotationdefaults": {
           "arrowcolor": "#2a3f5f",
           "arrowhead": 0,
           "arrowwidth": 1
          },
          "coloraxis": {
           "colorbar": {
            "outlinewidth": 0,
            "ticks": ""
           }
          },
          "colorscale": {
           "diverging": [
            [
             0,
             "#8e0152"
            ],
            [
             0.1,
             "#c51b7d"
            ],
            [
             0.2,
             "#de77ae"
            ],
            [
             0.3,
             "#f1b6da"
            ],
            [
             0.4,
             "#fde0ef"
            ],
            [
             0.5,
             "#f7f7f7"
            ],
            [
             0.6,
             "#e6f5d0"
            ],
            [
             0.7,
             "#b8e186"
            ],
            [
             0.8,
             "#7fbc41"
            ],
            [
             0.9,
             "#4d9221"
            ],
            [
             1,
             "#276419"
            ]
           ],
           "sequential": [
            [
             0,
             "#0d0887"
            ],
            [
             0.1111111111111111,
             "#46039f"
            ],
            [
             0.2222222222222222,
             "#7201a8"
            ],
            [
             0.3333333333333333,
             "#9c179e"
            ],
            [
             0.4444444444444444,
             "#bd3786"
            ],
            [
             0.5555555555555556,
             "#d8576b"
            ],
            [
             0.6666666666666666,
             "#ed7953"
            ],
            [
             0.7777777777777778,
             "#fb9f3a"
            ],
            [
             0.8888888888888888,
             "#fdca26"
            ],
            [
             1,
             "#f0f921"
            ]
           ],
           "sequentialminus": [
            [
             0,
             "#0d0887"
            ],
            [
             0.1111111111111111,
             "#46039f"
            ],
            [
             0.2222222222222222,
             "#7201a8"
            ],
            [
             0.3333333333333333,
             "#9c179e"
            ],
            [
             0.4444444444444444,
             "#bd3786"
            ],
            [
             0.5555555555555556,
             "#d8576b"
            ],
            [
             0.6666666666666666,
             "#ed7953"
            ],
            [
             0.7777777777777778,
             "#fb9f3a"
            ],
            [
             0.8888888888888888,
             "#fdca26"
            ],
            [
             1,
             "#f0f921"
            ]
           ]
          },
          "colorway": [
           "#636efa",
           "#EF553B",
           "#00cc96",
           "#ab63fa",
           "#FFA15A",
           "#19d3f3",
           "#FF6692",
           "#B6E880",
           "#FF97FF",
           "#FECB52"
          ],
          "font": {
           "color": "#2a3f5f"
          },
          "geo": {
           "bgcolor": "white",
           "lakecolor": "white",
           "landcolor": "#E5ECF6",
           "showlakes": true,
           "showland": true,
           "subunitcolor": "white"
          },
          "hoverlabel": {
           "align": "left"
          },
          "hovermode": "closest",
          "mapbox": {
           "style": "light"
          },
          "paper_bgcolor": "white",
          "plot_bgcolor": "#E5ECF6",
          "polar": {
           "angularaxis": {
            "gridcolor": "white",
            "linecolor": "white",
            "ticks": ""
           },
           "bgcolor": "#E5ECF6",
           "radialaxis": {
            "gridcolor": "white",
            "linecolor": "white",
            "ticks": ""
           }
          },
          "scene": {
           "xaxis": {
            "backgroundcolor": "#E5ECF6",
            "gridcolor": "white",
            "gridwidth": 2,
            "linecolor": "white",
            "showbackground": true,
            "ticks": "",
            "zerolinecolor": "white"
           },
           "yaxis": {
            "backgroundcolor": "#E5ECF6",
            "gridcolor": "white",
            "gridwidth": 2,
            "linecolor": "white",
            "showbackground": true,
            "ticks": "",
            "zerolinecolor": "white"
           },
           "zaxis": {
            "backgroundcolor": "#E5ECF6",
            "gridcolor": "white",
            "gridwidth": 2,
            "linecolor": "white",
            "showbackground": true,
            "ticks": "",
            "zerolinecolor": "white"
           }
          },
          "shapedefaults": {
           "line": {
            "color": "#2a3f5f"
           }
          },
          "ternary": {
           "aaxis": {
            "gridcolor": "white",
            "linecolor": "white",
            "ticks": ""
           },
           "baxis": {
            "gridcolor": "white",
            "linecolor": "white",
            "ticks": ""
           },
           "bgcolor": "#E5ECF6",
           "caxis": {
            "gridcolor": "white",
            "linecolor": "white",
            "ticks": ""
           }
          },
          "title": {
           "x": 0.05
          },
          "xaxis": {
           "automargin": true,
           "gridcolor": "white",
           "linecolor": "white",
           "ticks": "",
           "title": {
            "standoff": 15
           },
           "zerolinecolor": "white",
           "zerolinewidth": 2
          },
          "yaxis": {
           "automargin": true,
           "gridcolor": "white",
           "linecolor": "white",
           "ticks": "",
           "title": {
            "standoff": 15
           },
           "zerolinecolor": "white",
           "zerolinewidth": 2
          }
         }
        }
       }
      }
     },
     "metadata": {}
    }
   ],
   "source": [
    "fig = px.line_3d(all_df_noDC, x=\"pop_density\", y=\"total_long_gun\", z='year', color='state')\n",
    "fig.show()"
   ]
  },
  {
   "cell_type": "markdown",
   "metadata": {},
   "source": [
    "Don't Touch!\n",
    "<!--\n",
    "===========================================================V TEMPLATEING IDEAS V===================================================\n",
    "\n",
    "Table 1 = Description of data including DC\n",
    "\n",
    "|FIELD1|year  |total_handgun     |total_long_gun    |pop_density       |handgun/long_gun   |\n",
    "|------|------|------------------|------------------|------------------|-------------------|\n",
    "|count |51.0  |51.0              |51.0              |51.0              |51.0               |\n",
    "|mean  |2018.0|138054.07843137256|103376.60784313726|423.35861745098043|1.6540754923677627 |\n",
    "|std   |0.0   |149504.35134601843|85730.34706452048 |1605.7997009585968|3.297578803277349  |\n",
    "|min   |2018.0|10.0              |31.0              |1.28934           |0.07050341075900181|\n",
    "|25%   |2018.0|40816.0           |36366.0           |49.28428          |0.9026160053394    |\n",
    "|50%   |2018.0|80350.0           |91200.0           |107.04415         |1.1951771451060367 |\n",
    "|75%   |2018.0|174336.5          |151466.0          |225.18950999999998|1.494311656277248  |\n",
    "|max   |2018.0|643595.0          |452932.0          |11515.65574       |24.4               |\n",
    "\n",
    "\n",
    "Table 2 = Description of data excluding DC\n",
    "\n",
    "|FIELD1|year  |total_handgun     |total_long_gun    |pop_density       |handgun/long_gun   |\n",
    "|------|------|------------------|------------------|------------------|-------------------|\n",
    "|count |50.0  |50.0              |50.0              |50.0              |50.0               |\n",
    "|mean  |2018.0|140795.64         |105443.34         |201.51267500000003|1.199157002215119  |\n",
    "|std   |0.0   |149721.60191989527|85307.67804992583 |264.5673177684518 |0.5710118989817893 |\n",
    "|min   |2018.0|10.0              |31.0              |1.28934           |0.07050341075900181|\n",
    "|25%   |2018.0|44137.5           |38391.5           |46.46945          |0.8928885698273171 |\n",
    "|50%   |2018.0|84545.0           |92793.0           |107.008805        |1.1934184019619565 |\n",
    "|75%   |2018.0|177639.75         |152579.5          |219.6491175       |1.4740263060688625 |\n",
    "|max   |2018.0|643595.0          |452932.0          |1201.0947800000001|3.1627863509456446 |\n",
    "\n",
    "\n",
    "\n",
    "\n",
    "\n",
    "\n",
    "\n",
    "\n",
    "\n",
    "\n",
    "\n",
    "\n",
    "\n",
    "\n",
    "\n",
    "\n",
    "\n",
    "\n",
    "\n",
    "I'm chosing to look at data from 1999 through 2018.  This is because my population density data ends in 2018 and my NICS data begins at the end of 1998.  This is also because that is a 20 year span and I like round numbers.\n",
    "### Installing  \n",
    "\n",
    "A step by step series of examples that tell you how to get a development env running\n",
    "\n",
    "Say what the step will be\n",
    "\n",
    "```\n",
    "Give the example\n",
    "```\n",
    "\n",
    "And repeat\n",
    "\n",
    "```\n",
    "until finished\n",
    "```\n",
    "\n",
    "End with an example of getting some data out of the system or using it for a little demo\n",
    "\n",
    "## Running the tests\n",
    "\n",
    "Explain how to run the automated tests for this system\n",
    "\n",
    "### Break down into end to end tests\n",
    "\n",
    "Explain what these tests test and why\n",
    "\n",
    "```\n",
    "Give an example\n",
    "```\n",
    "\n",
    "### And coding style tests\n",
    "\n",
    "Explain what these tests test and why\n",
    "\n",
    "```\n",
    "Give an example\n",
    "```\n",
    "\n",
    "## Deployment\n",
    "\n",
    "Add additional notes about how to deploy this on a live system\n",
    "\n",
    "## Built With\n",
    "\n",
    "* [Dropwizard](http://www.dropwizard.io/1.0.2/docs/) - The web framework used\n",
    "* [Maven](https://maven.apache.org/) - Dependency Management\n",
    "* [ROME](https://rometools.github.io/rome/) - Used to generate RSS Feeds\n",
    "\n",
    "## Contributing\n",
    "\n",
    "Please read [CONTRIBUTING.md](https://gist.github.com/PurpleBooth/b24679402957c63ec426) for details on our code of conduct, and the process for submitting pull requests to us.\n",
    "\n",
    "## Versioning\n",
    "\n",
    "We use [SemVer](http://semver.org/) for versioning. For the versions available, see the [tags on this repository](https://github.com/your/project/tags). \n",
    "\n",
    "## Authors\n",
    "\n",
    "* **Billie Thompson** - *Initial work* - [PurpleBooth](https://github.com/PurpleBooth)\n",
    "\n",
    "See also the list of [contributors](https://github.com/your/project/contributors) who participated in this project.\n",
    "\n",
    "## License\n",
    "\n",
    "This project is licensed under the MIT License - see the [LICENSE.md](LICENSE.md) file for details\n",
    "\n",
    "## Acknowledgments\n",
    "\n",
    "* Hat tip to anyone whose code was used\n",
    "* Inspiration\n",
    "* etc\n",
    "-->\n"
   ]
  }
 ]
}