{
 "nbformat": 4,
 "nbformat_minor": 2,
 "metadata": {
  "language_info": {
   "name": "python",
   "codemirror_mode": {
    "name": "ipython",
    "version": 3
   },
   "version": "3.7.4-final"
  },
  "orig_nbformat": 2,
  "file_extension": ".py",
  "mimetype": "text/x-python",
  "name": "python",
  "npconvert_exporter": "python",
  "pygments_lexer": "ipython3",
  "version": 3,
  "kernelspec": {
   "name": "python3",
   "display_name": "Python 3"
  }
 },
 "cells": [
  {
   "cell_type": "markdown",
   "metadata": {},
   "source": [
    "# Module Import Cell"
   ]
  },
  {
   "cell_type": "code",
   "execution_count": 1,
   "metadata": {},
   "outputs": [],
   "source": [
    "import numpy as np \n",
    "import matplotlib.pyplot as plt \n",
    "import pandas as pd "
   ]
  },
  {
   "cell_type": "markdown",
   "metadata": {},
   "source": [
    "## Data Import Cell"
   ]
  },
  {
   "cell_type": "code",
   "execution_count": 2,
   "metadata": {},
   "outputs": [],
   "source": [
    "#Available population density by state and year meassured in persons per square mile\n",
    "pop_df = pd.read_csv('data/Historical_Population_Density_States_only_RAND_US_1.csv')\n",
    "#---------------------------------------------------------------------------------------\n",
    "#Available firearm background check data\n",
    "nics_df = pd.read_csv('data/nics-firearm-background-checks.csv')"
   ]
  },
  {
   "cell_type": "code",
   "execution_count": 7,
   "metadata": {},
   "outputs": [
    {
     "output_type": "execute_result",
     "data": {
      "text/plain": "     month       state   permit  permit_recheck  handgun  long_gun   other  \\\n0  2020-02     Alabama  29633.0           604.0  24590.0   12531.0  1225.0   \n1  2020-02      Alaska    139.0            10.0   2560.0    1839.0   311.0   \n2  2020-02     Arizona   6138.0           741.0  16839.0    8006.0  1424.0   \n3  2020-02    Arkansas   2994.0           731.0   8112.0    5453.0   363.0   \n4  2020-02  California  32002.0             0.0  35570.0   22645.0  4221.0   \n\n   multiple  admin  prepawn_handgun  ...  returned_other  rentals_handgun  \\\n0      1217    0.0             45.0  ...             0.0              0.0   \n1       203    0.0              0.0  ...             0.0              0.0   \n2      1392    0.0             20.0  ...             0.0              0.0   \n3       542    4.0             15.0  ...             0.0              0.0   \n4         0    0.0              0.0  ...             0.0              0.0   \n\n   rentals_long_gun  private_sale_handgun  private_sale_long_gun  \\\n0               0.0                  32.0                   17.0   \n1               0.0                   4.0                    9.0   \n2               0.0                   9.0                    7.0   \n3               0.0                  18.0                    8.0   \n4               0.0                   0.0                    0.0   \n\n   private_sale_other  return_to_seller_handgun  return_to_seller_long_gun  \\\n0                 3.0                       0.0                        3.0   \n1                 0.0                       0.0                        0.0   \n2                 2.0                       1.0                        0.0   \n3                 4.0                       0.0                        0.0   \n4                 0.0                       0.0                        0.0   \n\n   return_to_seller_other  totals  \n0                     0.0   75336  \n1                     0.0    5466  \n2                     0.0   37100  \n3                     0.0   21445  \n4                     0.0   95430  \n\n[5 rows x 27 columns]",
      "text/html": "<div>\n<style scoped>\n    .dataframe tbody tr th:only-of-type {\n        vertical-align: middle;\n    }\n\n    .dataframe tbody tr th {\n        vertical-align: top;\n    }\n\n    .dataframe thead th {\n        text-align: right;\n    }\n</style>\n<table border=\"1\" class=\"dataframe\">\n  <thead>\n    <tr style=\"text-align: right;\">\n      <th></th>\n      <th>month</th>\n      <th>state</th>\n      <th>permit</th>\n      <th>permit_recheck</th>\n      <th>handgun</th>\n      <th>long_gun</th>\n      <th>other</th>\n      <th>multiple</th>\n      <th>admin</th>\n      <th>prepawn_handgun</th>\n      <th>...</th>\n      <th>returned_other</th>\n      <th>rentals_handgun</th>\n      <th>rentals_long_gun</th>\n      <th>private_sale_handgun</th>\n      <th>private_sale_long_gun</th>\n      <th>private_sale_other</th>\n      <th>return_to_seller_handgun</th>\n      <th>return_to_seller_long_gun</th>\n      <th>return_to_seller_other</th>\n      <th>totals</th>\n    </tr>\n  </thead>\n  <tbody>\n    <tr>\n      <td>0</td>\n      <td>2020-02</td>\n      <td>Alabama</td>\n      <td>29633.0</td>\n      <td>604.0</td>\n      <td>24590.0</td>\n      <td>12531.0</td>\n      <td>1225.0</td>\n      <td>1217</td>\n      <td>0.0</td>\n      <td>45.0</td>\n      <td>...</td>\n      <td>0.0</td>\n      <td>0.0</td>\n      <td>0.0</td>\n      <td>32.0</td>\n      <td>17.0</td>\n      <td>3.0</td>\n      <td>0.0</td>\n      <td>3.0</td>\n      <td>0.0</td>\n      <td>75336</td>\n    </tr>\n    <tr>\n      <td>1</td>\n      <td>2020-02</td>\n      <td>Alaska</td>\n      <td>139.0</td>\n      <td>10.0</td>\n      <td>2560.0</td>\n      <td>1839.0</td>\n      <td>311.0</td>\n      <td>203</td>\n      <td>0.0</td>\n      <td>0.0</td>\n      <td>...</td>\n      <td>0.0</td>\n      <td>0.0</td>\n      <td>0.0</td>\n      <td>4.0</td>\n      <td>9.0</td>\n      <td>0.0</td>\n      <td>0.0</td>\n      <td>0.0</td>\n      <td>0.0</td>\n      <td>5466</td>\n    </tr>\n    <tr>\n      <td>2</td>\n      <td>2020-02</td>\n      <td>Arizona</td>\n      <td>6138.0</td>\n      <td>741.0</td>\n      <td>16839.0</td>\n      <td>8006.0</td>\n      <td>1424.0</td>\n      <td>1392</td>\n      <td>0.0</td>\n      <td>20.0</td>\n      <td>...</td>\n      <td>0.0</td>\n      <td>0.0</td>\n      <td>0.0</td>\n      <td>9.0</td>\n      <td>7.0</td>\n      <td>2.0</td>\n      <td>1.0</td>\n      <td>0.0</td>\n      <td>0.0</td>\n      <td>37100</td>\n    </tr>\n    <tr>\n      <td>3</td>\n      <td>2020-02</td>\n      <td>Arkansas</td>\n      <td>2994.0</td>\n      <td>731.0</td>\n      <td>8112.0</td>\n      <td>5453.0</td>\n      <td>363.0</td>\n      <td>542</td>\n      <td>4.0</td>\n      <td>15.0</td>\n      <td>...</td>\n      <td>0.0</td>\n      <td>0.0</td>\n      <td>0.0</td>\n      <td>18.0</td>\n      <td>8.0</td>\n      <td>4.0</td>\n      <td>0.0</td>\n      <td>0.0</td>\n      <td>0.0</td>\n      <td>21445</td>\n    </tr>\n    <tr>\n      <td>4</td>\n      <td>2020-02</td>\n      <td>California</td>\n      <td>32002.0</td>\n      <td>0.0</td>\n      <td>35570.0</td>\n      <td>22645.0</td>\n      <td>4221.0</td>\n      <td>0</td>\n      <td>0.0</td>\n      <td>0.0</td>\n      <td>...</td>\n      <td>0.0</td>\n      <td>0.0</td>\n      <td>0.0</td>\n      <td>0.0</td>\n      <td>0.0</td>\n      <td>0.0</td>\n      <td>0.0</td>\n      <td>0.0</td>\n      <td>0.0</td>\n      <td>95430</td>\n    </tr>\n  </tbody>\n</table>\n<p>5 rows × 27 columns</p>\n</div>"
     },
     "metadata": {},
     "execution_count": 7
    }
   ],
   "source": [
    "nics_df.head()"
   ]
  },
  {
   "cell_type": "code",
   "execution_count": 9,
   "metadata": {},
   "outputs": [
    {
     "output_type": "execute_result",
     "data": {
      "text/plain": "Index(['month', 'state', 'permit', 'permit_recheck', 'handgun', 'long_gun',\n       'other', 'multiple', 'admin', 'prepawn_handgun', 'prepawn_long_gun',\n       'prepawn_other', 'redemption_handgun', 'redemption_long_gun',\n       'redemption_other', 'returned_handgun', 'returned_long_gun',\n       'returned_other', 'rentals_handgun', 'rentals_long_gun',\n       'private_sale_handgun', 'private_sale_long_gun', 'private_sale_other',\n       'return_to_seller_handgun', 'return_to_seller_long_gun',\n       'return_to_seller_other', 'totals'],\n      dtype='object')"
     },
     "metadata": {},
     "execution_count": 9
    }
   ],
   "source": [
    "nics_df.columns"
   ]
  },
  {
   "cell_type": "code",
   "execution_count": null,
   "metadata": {},
   "outputs": [],
   "source": []
  }
 ]
}