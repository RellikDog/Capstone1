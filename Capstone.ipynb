{
 "nbformat": 4,
 "nbformat_minor": 2,
 "metadata": {
  "language_info": {
   "name": "python",
   "codemirror_mode": {
    "name": "ipython",
    "version": 3
   },
   "version": "3.7.4-final"
  },
  "orig_nbformat": 2,
  "file_extension": ".py",
  "mimetype": "text/x-python",
  "name": "python",
  "npconvert_exporter": "python",
  "pygments_lexer": "ipython3",
  "version": 3,
  "kernelspec": {
   "name": "python3",
   "display_name": "Python 3"
  }
 },
 "cells": [
  {
   "cell_type": "markdown",
   "metadata": {},
   "source": [
    "# Module Import Cell"
   ]
  },
  {
   "cell_type": "code",
   "execution_count": 1,
   "metadata": {},
   "outputs": [],
   "source": [
    "import numpy as np \n",
    "import matplotlib.pyplot as plt \n",
    "import pandas as pd "
   ]
  },
  {
   "cell_type": "markdown",
   "metadata": {},
   "source": [
    "## Data Import Cell"
   ]
  },
  {
   "cell_type": "code",
   "execution_count": 2,
   "metadata": {},
   "outputs": [],
   "source": [
    "#Available population density by state and year meassured in persons per square mile\n",
    "pop_df = pd.read_csv('data/Historical_Population_Density_States_only_RAND_US_1.csv')\n",
    "#---------------------------------------------------------------------------------------\n",
    "#Available firearm background check data\n",
    "nics_df = pd.read_csv('data/nics-firearm-background-checks.csv')"
   ]
  },
  {
   "cell_type": "markdown",
   "metadata": {},
   "source": [
    "### Cleaning population data"
   ]
  },
  {
   "cell_type": "code",
   "execution_count": 3,
   "metadata": {},
   "outputs": [
    {
     "output_type": "execute_result",
     "data": {
      "text/plain": "(52, 21)"
     },
     "metadata": {},
     "execution_count": 3
    }
   ],
   "source": [
    "#Droping NA Values\n",
    "cleaner_pop_df = pop_df.dropna(axis=1)\n",
    "#Keeping area and years from 1999 - 2018\n",
    "cleaner_pop_df = cleaner_pop_df.loc[:, ['Area'] + list(map(str, range(1999, 2019)))]\n",
    "#Rename 'Area' column to be more descriptive\n",
    "my_pop_df = cleaner_pop_df.rename(columns={'Area': 'State'})\n",
    "#test: expect 52 rows(50 states, DC, and US), 21 columns(State name + data from 1999 - 2018)\n",
    "#my_pop_df.info()\n",
    "my_pop_df.shape"
   ]
  },
  {
   "cell_type": "markdown",
   "metadata": {},
   "source": [
    "### Cleaning NICS data"
   ]
  },
  {
   "cell_type": "code",
   "execution_count": 11,
   "metadata": {},
   "outputs": [
    {
     "output_type": "execute_result",
     "data": {
      "text/plain": "(1100, 4)"
     },
     "metadata": {},
     "execution_count": 11
    }
   ],
   "source": [
    "#Change month to y-m for year by month\n",
    "nics_df = nics_df.rename(columns={'month': 'y&m'})\n",
    "#Add year column to group by\n",
    "nics_df['year'] = list(map(lambda x: x.split('-')[0], nics_df['y&m']))\n",
    "#Defining columns to combine\n",
    "handgun_list = ['handgun', 'prepawn_handgun', 'redemption_handgun', 'returned_handgun', 'rentals_handgun', 'private_sale_handgun', 'return_to_seller_handgun']\n",
    "long_gun_list = ['long_gun', 'prepawn_long_gun', 'redemption_long_gun', 'returned_long_gun', 'rentals_long_gun', 'private_sale_long_gun', 'return_to_seller_long_gun']\n",
    "#Create combined columns\n",
    "nics_df['total_handgun'] = nics_df[handgun_list].sum(axis=1)\n",
    "nics_df['total_long_gun'] = nics_df[long_gun_list].sum(axis=1)\n",
    "#Group by year then state\n",
    "year_state_group = nics_df.groupby(('year', 'state')).sum()\n",
    "#Collect the columns we want and reset index\n",
    "clean_nics_df = year_state_group[['total_handgun', 'total_long_gun']]\n",
    "clean_nics_df = clean_nics_df.reset_index()\n",
    "#Remove any year not between 1999 and 2018 and assign to my_nics_df\n",
    "clean_nics_df['year'] = pd.to_numeric(clean_nics_df['year'])\n",
    "my_nics_df = clean_nics_df.loc[(clean_nics_df['year'] < 2019) & (clean_nics_df['year'] > 1998)] \n",
    "#Test: Expect 1100 rows (50 states + DC, Guam, Puerto Rico, Mariana Islands, and Virgin Islands X 20 years) and 4 columns\n",
    "my_nics_df.shape"
   ]
  },
  {
   "cell_type": "code",
   "execution_count": null,
   "metadata": {},
   "outputs": [],
   "source": []
  }
 ]
}